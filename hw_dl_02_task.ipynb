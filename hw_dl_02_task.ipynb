{
 "cells": [
  {
   "cell_type": "markdown",
   "metadata": {
    "id": "w35Q6hOIy4sk"
   },
   "source": [
    "<div class=\"alert alert-success\">\n",
    "    \n",
    "## Домашнее задание №5: сверточный классификатор.\n",
    "\n",
    "### Общая информация\n",
    "\n",
    "Дату мягкого и жесткого дедлайна см. на стр. в `notion`\n",
    "\n",
    "### Оценивание и штрафы\n",
    "Максимально допустимая оценка за работу — 10 баллов. За каждый день просрочки снимается 1 балл. Сдавать задание после жёсткого дедлайна сдачи нельзя.\n",
    "\n",
    "Задание выполняется самостоятельно. «Похожие» решения считаются плагиатом и все задействованные студенты (в том числе те, у кого списали) не могут получить за него больше 0 баллов. Если вы нашли решение какого-то из заданий (или его часть) в открытом источнике, необходимо указать ссылку на этот источник в отдельном блоке в конце вашей работы (скорее всего вы будете не единственным, кто это нашел, поэтому чтобы исключить подозрение в плагиате, необходима ссылка на источник).\n",
    "\n",
    "Неэффективная реализация кода может негативно отразиться на оценке.\n",
    "Также оценка может быть снижена за плохо читаемый код и плохо оформленные графики. Все ответы должны сопровождаться кодом или комментариями о том, как они были получены.\n",
    "\n",
    "**Если вы отправляете своё решение после мягкого дедлайна просим отписывать проверяющему в личные сообщения в тг о том, что загрузили решение в гугл форму.**\n",
    "\n",
    "### Оценивание и штрафы\n",
    "\n",
    "Максимально допустимая оценка за работу — 10 баллов. Сдача задания после жесткого дедлайна приведет к умножению вашего результата на коэффициент 0.4, что значительно снижает итоговый результат. \n",
    "\n",
    "Задание выполняется самостоятельно. «Похожие» решения считаются плагиатом и все задействованные студенты (в том числе те, у кого списали) не могут получить за него больше 0 баллов. Обсуждать задачи вместе можно, но тогда напишите, с кем обсуждали задачу. Если вы нашли решение какого-то из заданий (или его часть) в открытом источнике, необходимо указать ссылку на этот источник в отдельном блоке в конце вашей работы (скорее всего вы будете не единственным, кто это нашел, поэтому чтобы исключить подозрение в плагиате, необходима ссылка на источник).\n",
    "\n",
    "Неэффективная реализация кода может негативно отразиться на оценке. Также оценка может быть снижена за плохо читаемый код и плохо оформленные графики. \n",
    "\n",
    "**Все ответы должны сопровождаться кодом или комментариями о том, как они были получены.**\n",
    "\n",
    "### О задании\n",
    "\n",
    "В этом задании вам предстоит познакомиться со сверточными сетями и их обучением для классификации изображений с использованием библиотеки PyTorch.\n"
   ]
  },
  {
   "cell_type": "code",
   "execution_count": 14,
   "metadata": {
    "id": "SaACifdX2QOo"
   },
   "outputs": [],
   "source": [
    "import torch\n",
    "import torch.nn as nn\n",
    "import torch.nn.functional as F\n",
    "import torch.optim as optim\n",
    "import torchvision\n",
    "import torchvision.transforms as transforms\n",
    "\n",
    "import matplotlib.pyplot as plt\n",
    "import numpy as np\n",
    "\n",
    "from sklearn.model_selection import train_test_split"
   ]
  },
  {
   "cell_type": "markdown",
   "metadata": {
    "id": "TIXaUYM-0JFl"
   },
   "source": [
    "## 0. Загрузка данных\n",
    "\n",
    "Работать мы будем с набором данных [CIFAR10](https://www.cs.toronto.edu/~kriz/cifar.html). CIFAR10 представляет собой набор изображений 32х32 пикселя, разделенных на 10 классов.\n",
    "\n",
    "![title](https://pytorch.org/tutorials/_images/cifar10.png)\n",
    "\n",
    "\n"
   ]
  },
  {
   "cell_type": "markdown",
   "metadata": {
    "id": "g-0EEjl_10vB"
   },
   "source": [
    "Набор данных уже определен в <code>torchvision.datasets</code>, так что возьмем его оттуда. \n",
    "\n"
   ]
  },
  {
   "cell_type": "code",
   "execution_count": 15,
   "metadata": {
    "id": "Cbwe92dT3aPZ"
   },
   "outputs": [],
   "source": [
    "def get_cifar10_data(batch_size, transform_train):\n",
    "    torch.manual_seed(0)\n",
    "    np.random.seed(0)\n",
    "\n",
    "    transform_test = transforms.Compose(\n",
    "        [transforms.ToTensor(),\n",
    "         # Переводим цвета пикселей в отрезок [-1, 1]\n",
    "         transforms.Normalize((0.5, 0.5, 0.5), (0.5, 0.5, 0.5))]\n",
    "    )\n",
    "    \n",
    "    # Загружаем данные\n",
    "    trainvalset = torchvision.datasets.CIFAR10(root='./data', train=True,\n",
    "                                               download=True, transform=transform_train)\n",
    "    testset = torchvision.datasets.CIFAR10(root='./data', train=False,\n",
    "                                           download=True, transform=transform_test)\n",
    "    \n",
    "    # В датасете определено разбиение только на train и test,\n",
    "    # так что валидацию дополнительно выделяем из обучающей выборки\n",
    "    train_idx, valid_idx = train_test_split(np.arange(len(trainvalset)), test_size=0.3, \n",
    "                                            shuffle=True, random_state=0)\n",
    "    trainset = torch.utils.data.Subset(trainvalset, train_idx)\n",
    "    valset = torch.utils.data.Subset(trainvalset, valid_idx)\n",
    "\n",
    "    train_loader = torch.utils.data.DataLoader(trainset, batch_size=batch_size,\n",
    "                                               shuffle=True, num_workers=8)\n",
    "    val_loader = torch.utils.data.DataLoader(valset, batch_size=batch_size,\n",
    "                                             shuffle=False, num_workers=8)\n",
    "    test_loader = torch.utils.data.DataLoader(testset, batch_size=batch_size,\n",
    "                                              shuffle=False, num_workers=8)\n",
    "    \n",
    "    return train_loader, val_loader, test_loader\n",
    "    "
   ]
  },
  {
   "cell_type": "code",
   "execution_count": 16,
   "metadata": {
    "colab": {
     "base_uri": "https://localhost:8080/",
     "height": 101,
     "referenced_widgets": [
      "aa9da821ba0c42b5b051355e50e691f0",
      "95c5696493db48738dbdc9940acec1d8",
      "fe515a1f743f49d0b251b43919d52a8e",
      "f4f339c969fd4e21bc683ecb2567897b",
      "17b2be81159e41f1a5c6bb966516572e",
      "22bb21a6c57a413fb7374efe31349e6e",
      "18b20091dbf64b129824a8fb3266e3c0",
      "9bad0d6a00c14229b0d776a2cfe15090",
      "0fee9f5b7bdb4129a71ef0cfe9d3b1fa",
      "cd991379661b4b4ab405bf66f75c6834",
      "7d238166caf64537ad9aa2040dcdc1ec"
     ]
    },
    "id": "2G2rLnN5y6Jj",
    "outputId": "542c91e6-44f6-4e26-f1e8-5df3b83fd044"
   },
   "outputs": [
    {
     "name": "stdout",
     "output_type": "stream",
     "text": [
      "Files already downloaded and verified\n",
      "Files already downloaded and verified\n"
     ]
    }
   ],
   "source": [
    "transform = transforms.Compose(\n",
    "        [transforms.ToTensor(),\n",
    "         transforms.Normalize((0.5, 0.5, 0.5), (0.5, 0.5, 0.5))]\n",
    ")\n",
    "\n",
    "train_loader, val_loader, test_loader = get_cifar10_data(batch_size=64,\n",
    "                                                         transform_train=transform)"
   ]
  },
  {
   "cell_type": "markdown",
   "metadata": {
    "id": "-82HWgXs77W1"
   },
   "source": [
    "Посмотрим на изображения:"
   ]
  },
  {
   "cell_type": "code",
   "execution_count": 17,
   "metadata": {
    "colab": {
     "base_uri": "https://localhost:8080/",
     "height": 155
    },
    "id": "ACnwaC5iy6L2",
    "outputId": "fd2fc631-ea7b-45f2-9728-eb1c5f9e683c"
   },
   "outputs": [
    {
     "data": {
      "image/png": "[encoded data removed]",
      "text/plain": [
       "<Figure size 640x480 with 1 Axes>"
      ]
     },
     "metadata": {},
     "output_type": "display_data"
    },
    {
     "name": "stdout",
     "output_type": "stream",
     "text": [
      "ship frog horse horse\n"
     ]
    }
   ],
   "source": [
    "def imshow(img):\n",
    "    img = img / 2 + 0.5    \n",
    "    npimg = img.numpy()\n",
    "    plt.imshow(np.transpose(npimg, (1, 2, 0)))\n",
    "    plt.show()\n",
    "\n",
    "\n",
    "dataiter = iter(train_loader)\n",
    "images, labels = next(dataiter)\n",
    "\n",
    "imshow(torchvision.utils.make_grid(images[:4]))\n",
    "\n",
    "classes = ('plane', 'car', 'bird', 'cat',\n",
    "           'deer', 'dog', 'frog', 'horse', 'ship', 'truck')\n",
    "print(*[classes[labels[i]] for i in range(4)])"
   ]
  },
  {
   "cell_type": "markdown",
   "metadata": {
    "id": "KFDilng29YZ_"
   },
   "source": [
    "## 1. Задание сверточной сети (3 балла)"
   ]
  },
  {
   "cell_type": "markdown",
   "metadata": {
    "id": "OX7Ul8YbYdQR"
   },
   "source": [
    "Теперь нам нужно задать сверточную нейронную сеть, которую мы будем обучать классифицировать изображения.\n",
    "\n",
    "Используем сеть, основанную на одном блоке архитектуры ResNet.\n",
    "\n",
    "<img src=\"https://i.ibb.co/2hg962h/basic-block.png\" width=\"500\"/>\n",
    "\n",
    "__Указания:__\n",
    "\n",
    "- Все сверточные слои должны иметь 32 выходных канала, а также не должны изменять ширину и высоту изображения.\n",
    "- Выход блока сократите до размерности 32х4х4, применив average pooling.\n",
    "- Для получения итоговых логитов, распрямите выход пулинга в вектор из 512 элементов, а затем пропустите его через линейный слой."
   ]
  },
  {
   "cell_type": "markdown",
   "metadata": {
    "id": "sbyIylT9O9Dr"
   },
   "source": [
    "**Задание 1.1 (3 балла).**\n",
    "\n",
    "Определите архитектуру сети соответственно схеме и указаниям выше.\n",
    "\n",
    "Ключевые слова: <code>Conv2d</code>, <code>BatchNorm2d</code>, <code>AvgPool2d</code>."
   ]
  },
  {
   "cell_type": "code",
   "execution_count": 18,
   "metadata": {
    "id": "s9ml1QGKy6N9"
   },
   "outputs": [],
   "source": [
    "n_classes = 10\n",
    "\n",
    "\n",
    "class BasicBlockNet(nn.Module):\n",
    "\n",
    "    def __init__(self):\n",
    "        super(BasicBlockNet, self).__init__()\n",
    "\n",
    "        self.conv1 = nn.Conv2d(in_channels=3, out_channels=32,\n",
    "                               kernel_size=3, stride=1, padding=1, bias=False)\n",
    "        self.bn1 = nn.BatchNorm2d(32)\n",
    "        self.relu = nn.ReLU(inplace=True)\n",
    "        self.conv2 = nn.Conv2d(in_channels=32, out_channels=32,\n",
    "                               kernel_size=3, stride=1, padding=1, bias=False)\n",
    "        self.bn2 = nn.BatchNorm2d(32)\n",
    "\n",
    "        self.shortcut = nn.Conv2d(\n",
    "            in_channels=3, out_channels=32, kernel_size=1, stride=1, bias=False)\n",
    "\n",
    "        self.avg_pool = nn.AvgPool2d(kernel_size=8)\n",
    "\n",
    "        self.fc = nn.Linear(32 * 4 * 4, n_classes)\n",
    "\n",
    "    def forward(self, x):\n",
    "        skip_connection_res = self.shortcut(x)\n",
    "\n",
    "        out = self.conv1(x)\n",
    "        out = self.bn1(out)\n",
    "        out = self.relu(out)\n",
    "\n",
    "        out = self.conv2(out)\n",
    "        out = self.bn2(out)\n",
    "\n",
    "        out += skip_connection_res\n",
    "        out = self.relu(out)\n",
    "\n",
    "\n",
    "        out = self.avg_pool(out)\n",
    "        out = out.view(out.size(0), -1)\n",
    "\n",
    "\n",
    "        out = self.fc(out)\n",
    "\n",
    "        return out"
   ]
  },
  {
   "cell_type": "code",
   "execution_count": 19,
   "metadata": {
    "id": "FI4BQg7Ky6Pw"
   },
   "outputs": [
    {
     "data": {
      "text/plain": [
       "BasicBlockNet(\n",
       "  (conv1): Conv2d(3, 32, kernel_size=(3, 3), stride=(1, 1), padding=(1, 1), bias=False)\n",
       "  (bn1): BatchNorm2d(32, eps=1e-05, momentum=0.1, affine=True, track_running_stats=True)\n",
       "  (relu): ReLU(inplace=True)\n",
       "  (conv2): Conv2d(32, 32, kernel_size=(3, 3), stride=(1, 1), padding=(1, 1), bias=False)\n",
       "  (bn2): BatchNorm2d(32, eps=1e-05, momentum=0.1, affine=True, track_running_stats=True)\n",
       "  (shortcut): Conv2d(3, 32, kernel_size=(1, 1), stride=(1, 1), bias=False)\n",
       "  (avg_pool): AvgPool2d(kernel_size=8, stride=8, padding=0)\n",
       "  (fc): Linear(in_features=512, out_features=10, bias=True)\n",
       ")"
      ]
     },
     "execution_count": 19,
     "metadata": {},
     "output_type": "execute_result"
    }
   ],
   "source": [
    "net = BasicBlockNet()\n",
    "net"
   ]
  },
  {
   "cell_type": "code",
   "execution_count": 20,
   "metadata": {},
   "outputs": [
    {
     "data": {
      "text/plain": [
       "15434"
      ]
     },
     "execution_count": 20,
     "metadata": {},
     "output_type": "execute_result"
    }
   ],
   "source": [
    "# Количество параметров в модели\n",
    "sum(p.numel() for p in net.parameters() if p.requires_grad)"
   ]
  },
  {
   "cell_type": "markdown",
   "metadata": {
    "id": "igPoGZEub8d3"
   },
   "source": [
    "Проверим, что выход сети имеет корректную размерность:"
   ]
  },
  {
   "cell_type": "code",
   "execution_count": 21,
   "metadata": {
    "id": "cCIzFUpJ_Agw"
   },
   "outputs": [],
   "source": [
    "assert net(torch.zeros((10, 3, 32, 32))).shape == (10, 10)"
   ]
  },
  {
   "cell_type": "markdown",
   "metadata": {
    "id": "08osX622cDGz"
   },
   "source": [
    "Чтобы проводить вычисления на GPU, в PyTorch необходимо руками перекладывать объекты, с которыми вы хотите проводить вычисления, на графический ускоритель. Это делается следующим образрм:"
   ]
  },
  {
   "cell_type": "code",
   "execution_count": 22,
   "metadata": {
    "id": "56hDOMCFcDZX"
   },
   "outputs": [
    {
     "name": "stdout",
     "output_type": "stream",
     "text": [
      "cpu\n"
     ]
    }
   ],
   "source": [
    "device = torch.device('cuda:0' if torch.cuda.is_available() else 'cpu')\n",
    "print(device)"
   ]
  },
  {
   "cell_type": "code",
   "execution_count": 23,
   "metadata": {
    "id": "ohnDWbp0qbtC"
   },
   "outputs": [],
   "source": [
    "net = net.to(device)"
   ]
  },
  {
   "cell_type": "markdown",
   "metadata": {
    "id": "H_bOlTVUp5QF"
   },
   "source": [
    "Подключение GPU в google.colab:\n",
    "\n",
    "**Среда выполнения** -> **Сменить среду выполнения** -> **Аппаратный ускоритель** -> **GPU**"
   ]
  },
  {
   "cell_type": "markdown",
   "metadata": {
    "id": "AGi6XX_7_Bgg"
   },
   "source": [
    "## 2. Обучение и тестирование модели (3 балла)"
   ]
  },
  {
   "cell_type": "markdown",
   "metadata": {
    "id": "0agj_MQoO9Ds"
   },
   "source": [
    "**Задание 2.1 (2 балла).** Переходим к обучению модели. Заполните пропуски в функциях <code>test</code> и <code>train_epoch</code>. В качестве функции потерь будем использовать [кросс-энтропию](https://pytorch.org/docs/stable/generated/torch.nn.functional.cross_entropy.html), а в качестве метрики качества accuracy."
   ]
  },
  {
   "cell_type": "code",
   "execution_count": 24,
   "metadata": {
    "id": "g8gsPPRIevDS"
   },
   "outputs": [],
   "source": [
    "def test(model, loader):\n",
    "    loss_log = []\n",
    "    acc_log = []\n",
    "    model.eval()\n",
    "    \n",
    "    for data, target in loader:\n",
    "        output = model(data)\n",
    "        loss = F.cross_entropy(output, target)\n",
    "        loss_log.append(loss.item())\n",
    "\n",
    "        pred = output.argmax(dim=1, keepdim=True)\n",
    "        acc = pred.eq(target.view_as(pred)).sum().item() / target.size(0)\n",
    "        acc_log.append(acc)\n",
    "        \n",
    "    return np.mean(loss_log), np.mean(acc_log)\n",
    "\n",
    "\n",
    "def train_epoch(model, optimizer, train_loader):\n",
    "    loss_log = []\n",
    "    acc_log = []\n",
    "    model.train()\n",
    "    \n",
    "    for data, target in train_loader:\n",
    "        optimizer.zero_grad()\n",
    "        output = model(data)\n",
    "        loss = F.cross_entropy(output, target)\n",
    "        loss.backward()\n",
    "        optimizer.step()\n",
    "\n",
    "        loss_log.append(loss.item())\n",
    "\n",
    "        pred = output.argmax(dim=1, keepdim=True)\n",
    "        acc = pred.eq(target.view_as(pred)).sum().item() / target.size(0)\n",
    "        acc_log.append(acc)\n",
    "\n",
    "    return loss_log, acc_log\n",
    "\n",
    "\n",
    "def train(model, optimizer, n_epochs, train_loader, val_loader, model_name='model.pt', scheduler=None):\n",
    "    train_loss_log, train_acc_log, val_loss_log, val_acc_log = [], [], [], []\n",
    "\n",
    "    for epoch in range(n_epochs):\n",
    "        train_loss, train_acc = train_epoch(model, optimizer, train_loader)\n",
    "        val_loss, val_acc = test(model, val_loader)\n",
    "        \n",
    "        train_loss_log.extend(train_loss)\n",
    "        train_acc_log.extend(train_acc)\n",
    "        \n",
    "        val_loss_log.append(val_loss)\n",
    "        val_acc_log.append(val_acc)\n",
    "\n",
    "        print(f\"Epoch {epoch}\")\n",
    "        print(f\" train loss: {np.mean(train_loss)}, train acc: {np.mean(train_acc)}\")\n",
    "        print(f\" val loss: {val_loss}, val acc: {val_acc}\")\n",
    "\n",
    "        current_lr = optimizer.param_groups[0]['lr']\n",
    "        print(f\" learning rate: {current_lr}\\n\")\n",
    "        \n",
    "        if scheduler is not None:\n",
    "            scheduler.step(val_loss)\n",
    "\n",
    "    torch.save(net, model_name)\n",
    "\n",
    "    return train_loss_log, train_acc_log, val_loss_log, val_acc_log"
   ]
  },
  {
   "cell_type": "markdown",
   "metadata": {
    "id": "iSOqk_CAO9Dt"
   },
   "source": [
    "Запустим обучение модели. В качестве оптимизатора будем использовать стохастический градиентный спуск, который является де-факто стандартом в задачах компьютерного зрения (наравне с <code>Adam</code>).\n",
    "\n",
    "__Замечание:__ Для достижения наилучшего качества в нашем случае потребуется обучать модель несколько сотен эпох. Однако в целях экономии вашего времени и сил, во всех экспериментах мы ограничимся 20 эпохами."
   ]
  },
  {
   "cell_type": "code",
   "execution_count": 25,
   "metadata": {
    "id": "MKZBGhuAgMDu",
    "scrolled": true
   },
   "outputs": [
    {
     "ename": "KeyboardInterrupt",
     "evalue": "",
     "output_type": "error",
     "traceback": [
      "\u001b[0;31m---------------------------------------------------------------------------\u001b[0m",
      "\u001b[0;31mKeyboardInterrupt\u001b[0m                         Traceback (most recent call last)",
      "Cell \u001b[0;32mIn[25], line 2\u001b[0m\n\u001b[1;32m      1\u001b[0m optimizer \u001b[38;5;241m=\u001b[39m optim\u001b[38;5;241m.\u001b[39mSGD(net\u001b[38;5;241m.\u001b[39mparameters(), lr\u001b[38;5;241m=\u001b[39m\u001b[38;5;241m0.1\u001b[39m, momentum\u001b[38;5;241m=\u001b[39m\u001b[38;5;241m0.9\u001b[39m)\n\u001b[0;32m----> 2\u001b[0m train_loss_log, train_acc_log, val_loss_log, val_acc_log \u001b[38;5;241m=\u001b[39m \u001b[43mtrain\u001b[49m\u001b[43m(\u001b[49m\u001b[43mnet\u001b[49m\u001b[43m,\u001b[49m\u001b[43m \u001b[49m\u001b[43moptimizer\u001b[49m\u001b[43m,\u001b[49m\u001b[43m \u001b[49m\u001b[38;5;241;43m20\u001b[39;49m\u001b[43m,\u001b[49m\u001b[43m \u001b[49m\u001b[43mtrain_loader\u001b[49m\u001b[43m,\u001b[49m\u001b[43m \u001b[49m\u001b[43mval_loader\u001b[49m\u001b[43m,\u001b[49m\u001b[43m \u001b[49m\u001b[43mmodel_name\u001b[49m\u001b[38;5;241;43m=\u001b[39;49m\u001b[38;5;124;43m'\u001b[39;49m\u001b[38;5;124;43mbaseline_lr01.pt\u001b[39;49m\u001b[38;5;124;43m'\u001b[39;49m\u001b[43m)\u001b[49m\n",
      "Cell \u001b[0;32mIn[24], line 43\u001b[0m, in \u001b[0;36mtrain\u001b[0;34m(model, optimizer, n_epochs, train_loader, val_loader, model_name, scheduler)\u001b[0m\n\u001b[1;32m     40\u001b[0m train_loss_log, train_acc_log, val_loss_log, val_acc_log \u001b[38;5;241m=\u001b[39m [], [], [], []\n\u001b[1;32m     42\u001b[0m \u001b[38;5;28;01mfor\u001b[39;00m epoch \u001b[38;5;129;01min\u001b[39;00m \u001b[38;5;28mrange\u001b[39m(n_epochs):\n\u001b[0;32m---> 43\u001b[0m     train_loss, train_acc \u001b[38;5;241m=\u001b[39m \u001b[43mtrain_epoch\u001b[49m\u001b[43m(\u001b[49m\u001b[43mmodel\u001b[49m\u001b[43m,\u001b[49m\u001b[43m \u001b[49m\u001b[43moptimizer\u001b[49m\u001b[43m,\u001b[49m\u001b[43m \u001b[49m\u001b[43mtrain_loader\u001b[49m\u001b[43m)\u001b[49m\n\u001b[1;32m     44\u001b[0m     val_loss, val_acc \u001b[38;5;241m=\u001b[39m test(model, val_loader)\n\u001b[1;32m     46\u001b[0m     train_loss_log\u001b[38;5;241m.\u001b[39mextend(train_loss)\n",
      "Cell \u001b[0;32mIn[24], line 25\u001b[0m, in \u001b[0;36mtrain_epoch\u001b[0;34m(model, optimizer, train_loader)\u001b[0m\n\u001b[1;32m     23\u001b[0m \u001b[38;5;28;01mfor\u001b[39;00m data, target \u001b[38;5;129;01min\u001b[39;00m train_loader:\n\u001b[1;32m     24\u001b[0m     optimizer\u001b[38;5;241m.\u001b[39mzero_grad()\n\u001b[0;32m---> 25\u001b[0m     output \u001b[38;5;241m=\u001b[39m \u001b[43mmodel\u001b[49m\u001b[43m(\u001b[49m\u001b[43mdata\u001b[49m\u001b[43m)\u001b[49m\n\u001b[1;32m     26\u001b[0m     loss \u001b[38;5;241m=\u001b[39m F\u001b[38;5;241m.\u001b[39mcross_entropy(output, target)\n\u001b[1;32m     27\u001b[0m     loss\u001b[38;5;241m.\u001b[39mbackward()\n",
      "File \u001b[0;32m~/.local/lib/python3.10/site-packages/torch/nn/modules/module.py:1511\u001b[0m, in \u001b[0;36mModule._wrapped_call_impl\u001b[0;34m(self, *args, **kwargs)\u001b[0m\n\u001b[1;32m   1509\u001b[0m     \u001b[38;5;28;01mreturn\u001b[39;00m \u001b[38;5;28mself\u001b[39m\u001b[38;5;241m.\u001b[39m_compiled_call_impl(\u001b[38;5;241m*\u001b[39margs, \u001b[38;5;241m*\u001b[39m\u001b[38;5;241m*\u001b[39mkwargs)  \u001b[38;5;66;03m# type: ignore[misc]\u001b[39;00m\n\u001b[1;32m   1510\u001b[0m \u001b[38;5;28;01melse\u001b[39;00m:\n\u001b[0;32m-> 1511\u001b[0m     \u001b[38;5;28;01mreturn\u001b[39;00m \u001b[38;5;28;43mself\u001b[39;49m\u001b[38;5;241;43m.\u001b[39;49m\u001b[43m_call_impl\u001b[49m\u001b[43m(\u001b[49m\u001b[38;5;241;43m*\u001b[39;49m\u001b[43margs\u001b[49m\u001b[43m,\u001b[49m\u001b[43m \u001b[49m\u001b[38;5;241;43m*\u001b[39;49m\u001b[38;5;241;43m*\u001b[39;49m\u001b[43mkwargs\u001b[49m\u001b[43m)\u001b[49m\n",
      "File \u001b[0;32m~/.local/lib/python3.10/site-packages/torch/nn/modules/module.py:1520\u001b[0m, in \u001b[0;36mModule._call_impl\u001b[0;34m(self, *args, **kwargs)\u001b[0m\n\u001b[1;32m   1515\u001b[0m \u001b[38;5;66;03m# If we don't have any hooks, we want to skip the rest of the logic in\u001b[39;00m\n\u001b[1;32m   1516\u001b[0m \u001b[38;5;66;03m# this function, and just call forward.\u001b[39;00m\n\u001b[1;32m   1517\u001b[0m \u001b[38;5;28;01mif\u001b[39;00m \u001b[38;5;129;01mnot\u001b[39;00m (\u001b[38;5;28mself\u001b[39m\u001b[38;5;241m.\u001b[39m_backward_hooks \u001b[38;5;129;01mor\u001b[39;00m \u001b[38;5;28mself\u001b[39m\u001b[38;5;241m.\u001b[39m_backward_pre_hooks \u001b[38;5;129;01mor\u001b[39;00m \u001b[38;5;28mself\u001b[39m\u001b[38;5;241m.\u001b[39m_forward_hooks \u001b[38;5;129;01mor\u001b[39;00m \u001b[38;5;28mself\u001b[39m\u001b[38;5;241m.\u001b[39m_forward_pre_hooks\n\u001b[1;32m   1518\u001b[0m         \u001b[38;5;129;01mor\u001b[39;00m _global_backward_pre_hooks \u001b[38;5;129;01mor\u001b[39;00m _global_backward_hooks\n\u001b[1;32m   1519\u001b[0m         \u001b[38;5;129;01mor\u001b[39;00m _global_forward_hooks \u001b[38;5;129;01mor\u001b[39;00m _global_forward_pre_hooks):\n\u001b[0;32m-> 1520\u001b[0m     \u001b[38;5;28;01mreturn\u001b[39;00m \u001b[43mforward_call\u001b[49m\u001b[43m(\u001b[49m\u001b[38;5;241;43m*\u001b[39;49m\u001b[43margs\u001b[49m\u001b[43m,\u001b[49m\u001b[43m \u001b[49m\u001b[38;5;241;43m*\u001b[39;49m\u001b[38;5;241;43m*\u001b[39;49m\u001b[43mkwargs\u001b[49m\u001b[43m)\u001b[49m\n\u001b[1;32m   1522\u001b[0m \u001b[38;5;28;01mtry\u001b[39;00m:\n\u001b[1;32m   1523\u001b[0m     result \u001b[38;5;241m=\u001b[39m \u001b[38;5;28;01mNone\u001b[39;00m\n",
      "Cell \u001b[0;32mIn[18], line 35\u001b[0m, in \u001b[0;36mBasicBlockNet.forward\u001b[0;34m(self, x)\u001b[0m\n\u001b[1;32m     32\u001b[0m out \u001b[38;5;241m=\u001b[39m \u001b[38;5;28mself\u001b[39m\u001b[38;5;241m.\u001b[39mbn2(out)\n\u001b[1;32m     34\u001b[0m out \u001b[38;5;241m+\u001b[39m\u001b[38;5;241m=\u001b[39m skip_connection_res\n\u001b[0;32m---> 35\u001b[0m out \u001b[38;5;241m=\u001b[39m \u001b[38;5;28;43mself\u001b[39;49m\u001b[38;5;241;43m.\u001b[39;49m\u001b[43mrelu\u001b[49m(out)\n\u001b[1;32m     38\u001b[0m out \u001b[38;5;241m=\u001b[39m \u001b[38;5;28mself\u001b[39m\u001b[38;5;241m.\u001b[39mavg_pool(out)\n\u001b[1;32m     39\u001b[0m out \u001b[38;5;241m=\u001b[39m out\u001b[38;5;241m.\u001b[39mview(out\u001b[38;5;241m.\u001b[39msize(\u001b[38;5;241m0\u001b[39m), \u001b[38;5;241m-\u001b[39m\u001b[38;5;241m1\u001b[39m)\n",
      "File \u001b[0;32m~/.local/lib/python3.10/site-packages/torch/nn/modules/module.py:1675\u001b[0m, in \u001b[0;36mModule.__getattr__\u001b[0;34m(self, name)\u001b[0m\n\u001b[1;32m   1666\u001b[0m         \u001b[38;5;28mself\u001b[39m\u001b[38;5;241m.\u001b[39m_backward_pre_hooks \u001b[38;5;241m=\u001b[39m OrderedDict()\n\u001b[1;32m   1668\u001b[0m \u001b[38;5;66;03m# On the return type:\u001b[39;00m\n\u001b[1;32m   1669\u001b[0m \u001b[38;5;66;03m# We choose to return `Any` in the `__getattr__` type signature instead of a more strict `Union[Tensor, Module]`.\u001b[39;00m\n\u001b[1;32m   1670\u001b[0m \u001b[38;5;66;03m# This is done for better interop with various type checkers for the end users.\u001b[39;00m\n\u001b[0;32m   (...)\u001b[0m\n\u001b[1;32m   1673\u001b[0m \u001b[38;5;66;03m# See full discussion on the problems with returning `Union` here\u001b[39;00m\n\u001b[1;32m   1674\u001b[0m \u001b[38;5;66;03m# https://github.com/microsoft/pyright/issues/4213\u001b[39;00m\n\u001b[0;32m-> 1675\u001b[0m \u001b[38;5;28;01mdef\u001b[39;00m \u001b[38;5;21m__getattr__\u001b[39m(\u001b[38;5;28mself\u001b[39m, name: \u001b[38;5;28mstr\u001b[39m) \u001b[38;5;241m-\u001b[39m\u001b[38;5;241m>\u001b[39m Any:\n\u001b[1;32m   1676\u001b[0m     \u001b[38;5;28;01mif\u001b[39;00m \u001b[38;5;124m'\u001b[39m\u001b[38;5;124m_parameters\u001b[39m\u001b[38;5;124m'\u001b[39m \u001b[38;5;129;01min\u001b[39;00m \u001b[38;5;28mself\u001b[39m\u001b[38;5;241m.\u001b[39m\u001b[38;5;18m__dict__\u001b[39m:\n\u001b[1;32m   1677\u001b[0m         _parameters \u001b[38;5;241m=\u001b[39m \u001b[38;5;28mself\u001b[39m\u001b[38;5;241m.\u001b[39m\u001b[38;5;18m__dict__\u001b[39m[\u001b[38;5;124m'\u001b[39m\u001b[38;5;124m_parameters\u001b[39m\u001b[38;5;124m'\u001b[39m]\n",
      "\u001b[0;31mKeyboardInterrupt\u001b[0m: "
     ]
    }
   ],
   "source": [
    "optimizer = optim.SGD(net.parameters(), lr=0.1, momentum=0.9)\n",
    "train_loss_log, train_acc_log, val_loss_log, val_acc_log = train(net, optimizer, 20, train_loader, val_loader, model_name='baseline_lr01.pt')"
   ]
  },
  {
   "cell_type": "markdown",
   "metadata": {
    "id": "gUb1jQW8O9Dt"
   },
   "source": [
    "Посчитайте точность на тестовой выборке:"
   ]
  },
  {
   "cell_type": "code",
   "execution_count": null,
   "metadata": {
    "id": "Jyuc55B9_Amc"
   },
   "outputs": [
    {
     "name": "stdout",
     "output_type": "stream",
     "text": [
      "Полученная точность: 68.73009554140127 %\n"
     ]
    }
   ],
   "source": [
    "# <your code here>\n",
    "print(\"Полученная точность:\", test(net, test_loader)[1] * 100,\"%\")"
   ]
  },
  {
   "cell_type": "markdown",
   "metadata": {
    "id": "zM38Q9fwO9Dt"
   },
   "source": [
    "Если вы все сделали правильно, у вас должна была получиться точность $\\ge 67\\%$."
   ]
  },
  {
   "cell_type": "markdown",
   "metadata": {
    "id": "DHFNSKcoO9Dt"
   },
   "source": [
    "**Задание 2.2 (1 балл).** Постройте графики зависимости функции потерь и точности классификации от номера шага оптимизатора. На каждом графике расположите данные и для обучающей и для валидационной выборки, итого у вас должно получиться два графика. Обратите внимание, что на обучающей выборке эти данные считаются по каждому батчу, на валидационной же они считаются по всей выборке раз в эпоху."
   ]
  },
  {
   "cell_type": "code",
   "execution_count": null,
   "metadata": {},
   "outputs": [
    {
     "data": {
      "image/png": "[encoded data removed]",
      "text/plain": [
       "<Figure size 1400x500 with 2 Axes>"
      ]
     },
     "metadata": {},
     "output_type": "display_data"
    }
   ],
   "source": [
    "batch_steps = list(range(1, len(train_loss_log) + 1))\n",
    "epoch_steps = list(range(1, len(val_loss_log) + 1))\n",
    "\n",
    "val_steps_scaled = [x * (len(train_loss_log) / len(val_loss_log)) for x in epoch_steps]\n",
    "\n",
    "\n",
    "plt.figure(figsize=(14, 5))\n",
    "\n",
    "# Функция потерь\n",
    "plt.subplot(1, 2, 1)\n",
    "plt.plot(batch_steps, train_loss_log, label='Training Loss')\n",
    "plt.plot(val_steps_scaled, val_loss_log, label='Validation Loss', linewidth=2, marker='o')\n",
    "plt.xlabel('Batch Steps')\n",
    "plt.ylabel('Loss')\n",
    "plt.legend()\n",
    "plt.title('Loss during Training')\n",
    "\n",
    "# Точность классификации\n",
    "plt.subplot(1, 2, 2)\n",
    "plt.plot(batch_steps, train_acc_log, label='Training Accuracy')\n",
    "plt.plot(val_steps_scaled, val_acc_log, label='Validation Accuracy', linewidth=2, marker='o')\n",
    "plt.xlabel('Batch Steps')\n",
    "plt.ylabel('Accuracy')\n",
    "plt.legend()\n",
    "plt.title('Accuracy during Training')\n",
    "\n",
    "\n",
    "plt.tight_layout()\n",
    "plt.show()"
   ]
  },
  {
   "cell_type": "markdown",
   "metadata": {
    "id": "_ttOJPj-O9Dt"
   },
   "source": [
    "## 3. Расписание длины шага (2 балла)"
   ]
  },
  {
   "cell_type": "markdown",
   "metadata": {
    "id": "qiz3JstuO9Dt"
   },
   "source": [
    "С первой недели модуля Вы уже должны знать, что сходимость стохастического градиентного спуска мы можем теоретически гарантировать только если будем определенным образом со временем уменьшать длину шага. На практике при обучении нейронных сетей такая техника оказывается очень полезной, однако теоретически обоснованными способами уменьшения длины шага фантазия не ограничивается.\n",
    "\n",
    "Одним из простейших способов является кусочно постоянная функция: на нескольких фиксированных эпохах уменьшаем длину шага в константу раз."
   ]
  },
  {
   "cell_type": "code",
   "execution_count": null,
   "metadata": {
    "id": "V2Z0OT3nO9Du"
   },
   "outputs": [
    {
     "name": "stdout",
     "output_type": "stream",
     "text": [
      "Epoch 0\n",
      " train loss: 1.493355861638538, train acc: 0.4693661856881692\n",
      " val loss: 1.2350568043424728, val acc: 0.5646498226950354\n",
      "\n"
     ]
    },
    {
     "name": "stderr",
     "output_type": "stream",
     "text": [
      "/home/maxim/.local/lib/python3.10/site-packages/torch/optim/lr_scheduler.py:156: UserWarning: The epoch parameter in `scheduler.step()` was not necessary and is being deprecated where possible. Please use `scheduler.step()` to step the scheduler. During the deprecation, if epoch is different from None, the closed form is used instead of the new chainable form, where available. Please open an issue if you are unable to replicate your use case: https://github.com/pytorch/pytorch/issues/new/choose.\n",
      "  warnings.warn(EPOCH_DEPRECATION_WARNING, UserWarning)\n"
     ]
    },
    {
     "name": "stdout",
     "output_type": "stream",
     "text": [
      "Epoch 1\n",
      " train loss: 1.1921249565956145, train acc: 0.582609689213894\n",
      " val loss: 1.1526420562825304, val acc: 0.5965647163120567\n",
      "\n",
      "Epoch 2\n",
      " train loss: 1.07410670252997, train acc: 0.6287664860276835\n",
      " val loss: 1.0781444306069232, val acc: 0.621232269503546\n",
      "\n",
      "Epoch 3\n",
      " train loss: 1.0114947123762894, train acc: 0.6471377970749543\n",
      " val loss: 1.0182785622617032, val acc: 0.6478501773049646\n",
      "\n",
      "Epoch 4\n",
      " train loss: 0.963910271197394, train acc: 0.6651663293288064\n",
      " val loss: 1.0417037682330355, val acc: 0.6322251773049646\n",
      "\n",
      "Epoch 5\n",
      " train loss: 0.9266719863336309, train acc: 0.6784653303734657\n",
      " val loss: 1.0770501623762414, val acc: 0.6348847517730497\n",
      "\n",
      "Epoch 6\n",
      " train loss: 0.9039906493270637, train acc: 0.6877978910942805\n",
      " val loss: 0.9678416805064425, val acc: 0.6694592198581562\n",
      "\n",
      "Epoch 7\n",
      " train loss: 0.8788370759221275, train acc: 0.696293908331157\n",
      " val loss: 0.9502928698316534, val acc: 0.6731382978723405\n",
      "\n",
      "Epoch 8\n",
      " train loss: 0.8594167329493563, train acc: 0.7017661269260904\n",
      " val loss: 0.9169621835363672, val acc: 0.6918882978723404\n",
      "\n",
      "Epoch 9\n",
      " train loss: 0.8424177150185845, train acc: 0.7064344476364587\n",
      " val loss: 0.9179968998787251, val acc: 0.679299645390071\n",
      "\n",
      "Epoch 10\n",
      " train loss: 0.8314010847966021, train acc: 0.7105233089579525\n",
      " val loss: 0.9431455969810486, val acc: 0.6820478723404255\n",
      "\n",
      "Epoch 11\n",
      " train loss: 0.8150411057515815, train acc: 0.7163301449464612\n",
      " val loss: 0.8932904372823999, val acc: 0.6933953900709221\n",
      "\n",
      "Epoch 12\n",
      " train loss: 0.8049615867286103, train acc: 0.7184113019065029\n",
      " val loss: 0.8931272785714333, val acc: 0.6958554964539008\n",
      "\n",
      "Epoch 13\n",
      " train loss: 0.7902279595897228, train acc: 0.7276336837294333\n",
      " val loss: 0.875944127174134, val acc: 0.7024157801418439\n",
      "\n",
      "Epoch 14\n",
      " train loss: 0.7832340877060481, train acc: 0.7285395991120397\n",
      " val loss: 0.8674784419384408, val acc: 0.7021498226950353\n",
      "\n",
      "Epoch 15\n",
      " train loss: 0.7734180559187964, train acc: 0.7326978323322016\n",
      " val loss: 0.8763451976979032, val acc: 0.7064273049645391\n",
      "\n",
      "Epoch 16\n",
      " train loss: 0.7602928106484074, train acc: 0.736570416557848\n",
      " val loss: 0.9016717367983879, val acc: 0.6955673758865247\n",
      "\n",
      "Epoch 17\n",
      " train loss: 0.7576076843838805, train acc: 0.7377334160355183\n",
      " val loss: 0.8627688968435246, val acc: 0.7115469858156029\n",
      "\n",
      "Epoch 18\n",
      " train loss: 0.7471259793154282, train acc: 0.7395860537999478\n",
      " val loss: 0.8860234770369022, val acc: 0.7011968085106383\n",
      "\n",
      "Epoch 19\n",
      " train loss: 0.7425938090088162, train acc: 0.7423935753460433\n",
      " val loss: 0.8419025583470121, val acc: 0.7158466312056737\n",
      "\n"
     ]
    }
   ],
   "source": [
    "net = BasicBlockNet().to(device)\n",
    "optimizer = optim.SGD(net.parameters(), lr=0.1, momentum=0.9)\n",
    "scheduler = optim.lr_scheduler.MultiStepLR(optimizer, milestones=[10, 15], gamma=0.1)\n",
    "tr_loss_log, tr_acc_log, val_loss_log, val_acc_log = train(net, optimizer, 20, train_loader, val_loader, scheduler=scheduler, model_name='model_sch_mslr.pt')"
   ]
  },
  {
   "cell_type": "markdown",
   "metadata": {
    "id": "5Xc76KvzO9Du"
   },
   "source": [
    "Посчитайте точность на тестовой выборке:"
   ]
  },
  {
   "cell_type": "code",
   "execution_count": null,
   "metadata": {
    "id": "1AjiYhKqO9Du"
   },
   "outputs": [
    {
     "name": "stdout",
     "output_type": "stream",
     "text": [
      "Полученная точность: 70.3125 %\n"
     ]
    }
   ],
   "source": [
    "# <your code here>\n",
    "print(\"Полученная точность:\", test(net, test_loader)[1] * 100,\"%\")"
   ]
  },
  {
   "cell_type": "markdown",
   "metadata": {
    "id": "yE0dgLYrO9Du"
   },
   "source": [
    "**Задание 3.0 (0.5 баллов).** Здесь может возникнуть вопрос: а что будет, если мы не будем уменьшать длину шага в процессе обучения, а сразу возьмем констатную, равную значению нашей кусочно-постоянной функции на последних эпохах, то есть $0.001$ в нашем случае. Запустите обучение и проверьте, что в таком случае мы получим худшее качество на тестовой выборке."
   ]
  },
  {
   "cell_type": "code",
   "execution_count": null,
   "metadata": {
    "id": "qZ2iB-LBO9Du"
   },
   "outputs": [
    {
     "name": "stdout",
     "output_type": "stream",
     "text": [
      "Epoch 0\n",
      " train loss: 1.8343175065582806, train acc: 0.35769375163227995\n",
      " val loss: 1.6204930772172643, val acc: 0.43357712765957446\n",
      "\n",
      "Epoch 1\n",
      " train loss: 1.543653671876604, train acc: 0.45955210237659966\n",
      " val loss: 1.453213617649484, val acc: 0.485438829787234\n",
      "\n",
      "Epoch 2\n",
      " train loss: 1.4228069228707545, train acc: 0.5008732697832332\n",
      " val loss: 1.3688132767981671, val acc: 0.5200576241134752\n",
      "\n",
      "Epoch 3\n",
      " train loss: 1.3493461515175578, train acc: 0.5256186341081223\n",
      " val loss: 1.311813829807525, val acc: 0.5425975177304965\n",
      "\n",
      "Epoch 4\n",
      " train loss: 1.2954418931626315, train acc: 0.5458303408200574\n",
      " val loss: 1.2762605547904968, val acc: 0.5564937943262412\n",
      "\n",
      "Epoch 5\n",
      " train loss: 1.248383728416136, train acc: 0.5624102246017237\n",
      " val loss: 1.2165953988724567, val acc: 0.5774379432624114\n",
      "\n",
      "Epoch 6\n",
      " train loss: 1.2116850810687327, train acc: 0.5767620462261687\n",
      " val loss: 1.206156391793109, val acc: 0.575886524822695\n",
      "\n",
      "Epoch 7\n",
      " train loss: 1.1811568051631098, train acc: 0.5878737921128232\n",
      " val loss: 1.1729243166903232, val acc: 0.588674645390071\n",
      "\n",
      "Epoch 8\n",
      " train loss: 1.1559397088980108, train acc: 0.5948191433794725\n",
      " val loss: 1.1346947127200187, val acc: 0.602482269503546\n",
      "\n",
      "Epoch 9\n",
      " train loss: 1.1223307413200574, train acc: 0.6081385479237399\n",
      " val loss: 1.1062254976718984, val acc: 0.6173093971631205\n",
      "\n",
      "Epoch 10\n",
      " train loss: 1.0981539154401427, train acc: 0.6162509793679812\n",
      " val loss: 1.0823974637275047, val acc: 0.6223847517730497\n",
      "\n",
      "Epoch 11\n",
      " train loss: 1.072450184190077, train acc: 0.626179322277357\n",
      " val loss: 1.0717879072148748, val acc: 0.625354609929078\n",
      "\n",
      "Epoch 12\n",
      " train loss: 1.0457666547904285, train acc: 0.63849895534082\n",
      " val loss: 1.0721186287859652, val acc: 0.6217863475177305\n",
      "\n",
      "Epoch 13\n",
      " train loss: 1.026717655619494, train acc: 0.6426775920605903\n",
      " val loss: 1.1028114879384954, val acc: 0.6106826241134753\n",
      "\n",
      "Epoch 14\n",
      " train loss: 1.0088730422844616, train acc: 0.649908592321755\n",
      " val loss: 0.9998487812407473, val acc: 0.6548537234042553\n",
      "\n",
      "Epoch 15\n",
      " train loss: 0.9898167741799921, train acc: 0.6559888352050144\n",
      " val loss: 0.9927325723019053, val acc: 0.6548093971631205\n",
      "\n",
      "Epoch 16\n",
      " train loss: 0.9736402156801939, train acc: 0.6634973230608514\n",
      " val loss: 0.9849014114826283, val acc: 0.6590868794326242\n",
      "\n",
      "Epoch 17\n",
      " train loss: 0.962383676381608, train acc: 0.669271513449987\n",
      " val loss: 0.9772310117457775, val acc: 0.6577349290780141\n",
      "\n",
      "Epoch 18\n",
      " train loss: 0.9479432440545049, train acc: 0.6718668386001567\n",
      " val loss: 0.9818733352295896, val acc: 0.6544104609929077\n",
      "\n",
      "Epoch 19\n",
      " train loss: 0.9413205639099944, train acc: 0.6735970553669365\n",
      " val loss: 0.9611989820257146, val acc: 0.6636968085106383\n",
      "\n"
     ]
    }
   ],
   "source": [
    "# <your code here>\n",
    "net = BasicBlockNet().to(device)\n",
    "optimizer = optim.SGD(net.parameters(), lr=0.001, momentum=0.9)\n",
    "tr_loss_log, tr_acc_log, val_loss_log, val_acc_log = train(net, optimizer, 20, train_loader, val_loader, model_name='model_nosch.pt')"
   ]
  },
  {
   "cell_type": "code",
   "execution_count": null,
   "metadata": {},
   "outputs": [
    {
     "name": "stdout",
     "output_type": "stream",
     "text": [
      "Полученная точность: 66.25199044585987 %\n"
     ]
    }
   ],
   "source": [
    "print(\"Полученная точность:\", test(net, test_loader)[1] * 100,\"%\")"
   ]
  },
  {
   "cell_type": "markdown",
   "metadata": {
    "id": "xVotU378O9Du"
   },
   "source": [
    "**Задание 3.1 (1.5 балла).** Изучите, какие еще способы уменьшения длины шага представлены в <code>torch.optim.lr_scheduler</code>. Выберите несколько из них, объясните, как они устроены, и обучите модель с ними. Удалось ли добиться улучшения качества на тестовой выборке?"
   ]
  },
  {
   "cell_type": "code",
   "execution_count": null,
   "metadata": {
    "id": "nkGlzocOO9Du"
   },
   "outputs": [
    {
     "name": "stdout",
     "output_type": "stream",
     "text": [
      "Epoch 0\n",
      " train loss: 1.4823627810809468, train acc: 0.4758300143640638\n",
      " val loss: 1.2683799632052157, val acc: 0.5606161347517731\n",
      "\n",
      "Epoch 1\n",
      " train loss: 1.1401275698184095, train acc: 0.6007320775659442\n",
      " val loss: 1.1230638790637888, val acc: 0.6107491134751774\n",
      "\n",
      "Epoch 2\n",
      " train loss: 1.0958961032644268, train acc: 0.6172752350483155\n",
      " val loss: 1.0906159527758335, val acc: 0.6217198581560285\n",
      "\n",
      "Epoch 3\n",
      " train loss: 1.0622474285322743, train acc: 0.6305375097936798\n",
      " val loss: 1.0582245651711808, val acc: 0.6368794326241135\n",
      "\n",
      "Epoch 4\n",
      " train loss: 1.0314587077885267, train acc: 0.6401802037085401\n",
      " val loss: 1.0330992297923312, val acc: 0.6439051418439715\n",
      "\n",
      "Epoch 5\n",
      " train loss: 1.0050021013350547, train acc: 0.6500514168190128\n",
      " val loss: 1.0086809381525568, val acc: 0.6514406028368795\n",
      "\n",
      "Epoch 6\n",
      " train loss: 0.98659687689497, train acc: 0.6544871376338469\n",
      " val loss: 0.991363967986817, val acc: 0.6587544326241136\n",
      "\n",
      "Epoch 7\n",
      " train loss: 0.9642519122721727, train acc: 0.6653213959258292\n",
      " val loss: 0.9777542684940581, val acc: 0.6624556737588652\n",
      "\n",
      "Epoch 8\n",
      " train loss: 0.9475557925060418, train acc: 0.6718178702010968\n",
      " val loss: 0.9587932510578886, val acc: 0.6716533687943264\n",
      "\n",
      "Epoch 9\n",
      " train loss: 0.9346550960209513, train acc: 0.6741846761556542\n",
      " val loss: 0.9394379483892562, val acc: 0.6759530141843971\n",
      "\n",
      "Epoch 10\n",
      " train loss: 0.9188538390931961, train acc: 0.6816890833115695\n",
      " val loss: 0.950450431793294, val acc: 0.6727171985815603\n",
      "\n",
      "Epoch 11\n",
      " train loss: 0.9039448833116883, train acc: 0.6864798250195874\n",
      " val loss: 0.9936853753759506, val acc: 0.6501329787234043\n",
      "\n",
      "Epoch 12\n",
      " train loss: 0.8852163102116838, train acc: 0.6930497518934448\n",
      " val loss: 0.9263147970463367, val acc: 0.6798537234042553\n",
      "\n",
      "Epoch 13\n",
      " train loss: 0.8852199633117132, train acc: 0.6944698354661791\n",
      " val loss: 0.9311077911803063, val acc: 0.6794104609929077\n",
      "\n",
      "Epoch 14\n",
      " train loss: 0.8704227773537365, train acc: 0.700986713241055\n",
      " val loss: 0.9043811780341128, val acc: 0.6856382978723404\n",
      "\n",
      "Epoch 15\n",
      " train loss: 0.8630159348521852, train acc: 0.7018354988247585\n",
      " val loss: 0.9091235708683095, val acc: 0.6869459219858157\n",
      "\n",
      "Epoch 16\n",
      " train loss: 0.8573538310131164, train acc: 0.7037983154870723\n",
      " val loss: 0.8924877326539222, val acc: 0.6902482269503545\n",
      "\n",
      "Epoch 17\n",
      " train loss: 0.8461289622665977, train acc: 0.7066344019326195\n",
      " val loss: 0.9388423906995895, val acc: 0.676950354609929\n",
      "\n",
      "Epoch 18\n",
      " train loss: 0.832682241905324, train acc: 0.7141469704883783\n",
      " val loss: 0.8839946685953343, val acc: 0.6968306737588652\n",
      "\n",
      "Epoch 19\n",
      " train loss: 0.8298608049396187, train acc: 0.7140286301906503\n",
      " val loss: 0.8666150126051395, val acc: 0.7010416666666668\n",
      "\n"
     ]
    }
   ],
   "source": [
    "# Scheduler: ExponentialLR\n",
    "net = BasicBlockNet().to(device)\n",
    "optimizer = optim.SGD(net.parameters(), lr=0.1, momentum=0.9)\n",
    "scheduler = optim.lr_scheduler.ExponentialLR(optimizer, gamma=0.1)\n",
    "tr_loss_log, tr_acc_log, val_loss_log, val_acc_log = train(net, optimizer, 20, train_loader, val_loader, scheduler=scheduler, model_name='model_sch_exp.pt')"
   ]
  },
  {
   "cell_type": "code",
   "execution_count": null,
   "metadata": {},
   "outputs": [
    {
     "name": "stdout",
     "output_type": "stream",
     "text": [
      "Полученная точность: 69.73527070063695 %\n"
     ]
    }
   ],
   "source": [
    "print(\"Полученная точность:\", test(net, test_loader)[1] * 100,\"%\")"
   ]
  },
  {
   "cell_type": "code",
   "execution_count": null,
   "metadata": {},
   "outputs": [
    {
     "name": "stdout",
     "output_type": "stream",
     "text": [
      "Epoch 0\n",
      " train loss: 1.491269908395938, train acc: 0.4651916296683207\n",
      " val loss: 1.3227364327045197, val acc: 0.5391843971631205\n",
      "\n",
      "Epoch 1\n",
      " train loss: 1.176307656756267, train acc: 0.5865067576390702\n",
      " val loss: 1.1400752681366941, val acc: 0.6007313829787234\n",
      "\n",
      "Epoch 2\n",
      " train loss: 1.0546117329074434, train acc: 0.6345651606163489\n",
      " val loss: 1.0379141000991172, val acc: 0.6400044326241136\n",
      "\n",
      "Epoch 3\n",
      " train loss: 0.9988000931208051, train acc: 0.6513286758944894\n",
      " val loss: 0.9676974727752361, val acc: 0.6642508865248226\n",
      "\n",
      "Epoch 4\n",
      " train loss: 0.951970524391265, train acc: 0.6699121833376861\n",
      " val loss: 0.9788253269297011, val acc: 0.6596631205673759\n",
      "\n",
      "Epoch 5\n",
      " train loss: 0.9302615344088517, train acc: 0.6764086576129538\n",
      " val loss: 0.9844907955920442, val acc: 0.6600842198581561\n",
      "\n",
      "Epoch 6\n",
      " train loss: 0.8987065684424894, train acc: 0.6865287934186471\n",
      " val loss: 0.9481533991529586, val acc: 0.6714317375886524\n",
      "\n",
      "Epoch 7\n",
      " train loss: 0.8803843588890061, train acc: 0.6916949595194568\n",
      " val loss: 0.9201481796325521, val acc: 0.6825576241134752\n",
      "\n",
      "Epoch 8\n",
      " train loss: 0.8616583496604585, train acc: 0.699517661269261\n",
      " val loss: 0.8992395218382491, val acc: 0.691511524822695\n",
      "\n",
      "Epoch 9\n",
      " train loss: 0.8470706155683703, train acc: 0.7046022133716375\n",
      " val loss: 0.9245369277101882, val acc: 0.6828235815602838\n",
      "\n",
      "Epoch 10\n",
      " train loss: 0.8305693264417282, train acc: 0.7114904348393837\n",
      " val loss: 0.8790216811159823, val acc: 0.6958776595744681\n",
      "\n",
      "Epoch 11\n",
      " train loss: 0.8224631673239267, train acc: 0.7146121702794462\n",
      " val loss: 0.8849957105961251, val acc: 0.6931737588652481\n",
      "\n",
      "Epoch 12\n",
      " train loss: 0.8141961622935544, train acc: 0.7179746670148864\n",
      " val loss: 0.9037612417910962, val acc: 0.6891622340425532\n",
      "\n",
      "Epoch 13\n",
      " train loss: 0.8035030008125131, train acc: 0.7207903499608254\n",
      " val loss: 0.867569352464473, val acc: 0.7032801418439716\n",
      "\n",
      "Epoch 14\n",
      " train loss: 0.7910719972641856, train acc: 0.7254872355706451\n",
      " val loss: 0.9203326088316897, val acc: 0.6918218085106383\n",
      "\n"
     ]
    },
    {
     "name": "stderr",
     "output_type": "stream",
     "text": [
      "Exception ignored in: <function _MultiProcessingDataLoaderIter.__del__ at 0x70d0fc010700>\n",
      "Traceback (most recent call last):\n",
      "  File \"/home/maxim/.local/lib/python3.10/site-packages/torch/utils/data/dataloader.py\", line 1479, in __del__\n",
      "    self._shutdown_workers()\n",
      "  File \"/home/maxim/.local/lib/python3.10/site-packages/torch/utils/data/dataloader.py\", line 1462, in _shutdown_workers\n",
      "    if w.is_alive():\n",
      "  File \"/usr/lib/python3.10/multiprocessing/process.py\", line 160, in is_alive\n",
      "    assert self._parent_pid == os.getpid(), 'can only test a child process'\n",
      "AssertionError: can only test a child process\n",
      "Exception ignored in: <function _MultiProcessingDataLoaderIter.__del__ at 0x70d0fc010700>\n",
      "Traceback (most recent call last):\n",
      "  File \"/home/maxim/.local/lib/python3.10/site-packages/torch/utils/data/dataloader.py\", line 1479, in __del__\n",
      "    self._shutdown_workers()\n",
      "  File \"/home/maxim/.local/lib/python3.10/site-packages/torch/utils/data/dataloader.py\", line 1462, in _shutdown_workers\n",
      "    if w.is_alive():\n",
      "  File \"/usr/lib/python3.10/multiprocessing/process.py\", line 160, in is_alive\n",
      "    assert self._parent_pid == os.getpid(), 'can only test a child process'\n",
      "AssertionError: can only test a child process\n",
      "Exception ignored in: <function _MultiProcessingDataLoaderIter.__del__ at 0x70d0fc010700>\n",
      "Traceback (most recent call last):\n",
      "  File \"/home/maxim/.local/lib/python3.10/site-packages/torch/utils/data/dataloader.py\", line 1479, in __del__\n",
      "    self._shutdown_workers()\n",
      "  File \"/home/maxim/.local/lib/python3.10/site-packages/torch/utils/data/dataloader.py\", line 1462, in _shutdown_workers\n",
      "    if w.is_alive():\n",
      "  File \"/usr/lib/python3.10/multiprocessing/process.py\", line 160, in is_alive\n",
      "    assert self._parent_pid == os.getpid(), 'can only test a child process'\n",
      "AssertionError: can only test a child process\n",
      "Exception ignored in: <function _MultiProcessingDataLoaderIter.__del__ at 0x70d0fc010700>\n",
      "Traceback (most recent call last):\n",
      "  File \"/home/maxim/.local/lib/python3.10/site-packages/torch/utils/data/dataloader.py\", line 1479, in __del__\n",
      "    self._shutdown_workers()\n",
      "  File \"/home/maxim/.local/lib/python3.10/site-packages/torch/utils/data/dataloader.py\", line 1462, in _shutdown_workers\n",
      "    if w.is_alive():\n",
      "  File \"/usr/lib/python3.10/multiprocessing/process.py\", line 160, in is_alive\n",
      "    assert self._parent_pid == os.getpid(), 'can only test a child process'\n",
      "AssertionError: can only test a child process\n",
      "Exception ignored in: <function _MultiProcessingDataLoaderIter.__del__ at 0x70d0fc010700>\n",
      "Traceback (most recent call last):\n",
      "  File \"/home/maxim/.local/lib/python3.10/site-packages/torch/utils/data/dataloader.py\", line 1479, in __del__\n",
      "    self._shutdown_workers()\n",
      "  File \"/home/maxim/.local/lib/python3.10/site-packages/torch/utils/data/dataloader.py\", line 1462, in _shutdown_workers\n",
      "    if w.is_alive():\n",
      "  File \"/usr/lib/python3.10/multiprocessing/process.py\", line 160, in is_alive\n",
      "    assert self._parent_pid == os.getpid(), 'can only test a child process'\n",
      "AssertionError: can only test a child process\n",
      "Exception ignored in: <function _MultiProcessingDataLoaderIter.__del__ at 0x70d0fc010700>\n",
      "Traceback (most recent call last):\n",
      "  File \"/home/maxim/.local/lib/python3.10/site-packages/torch/utils/data/dataloader.py\", line 1479, in __del__\n",
      "    self._shutdown_workers()\n",
      "  File \"/home/maxim/.local/lib/python3.10/site-packages/torch/utils/data/dataloader.py\", line 1462, in _shutdown_workers\n",
      "    if w.is_alive():\n",
      "  File \"/usr/lib/python3.10/multiprocessing/process.py\", line 160, in is_alive\n",
      "    assert self._parent_pid == os.getpid(), 'can only test a child process'\n",
      "AssertionError: can only test a child process\n",
      "Exception ignored in: <function _MultiProcessingDataLoaderIter.__del__ at 0x70d0fc010700>\n",
      "Traceback (most recent call last):\n",
      "  File \"/home/maxim/.local/lib/python3.10/site-packages/torch/utils/data/dataloader.py\", line 1479, in __del__\n",
      "    self._shutdown_workers()\n",
      "  File \"/home/maxim/.local/lib/python3.10/site-packages/torch/utils/data/dataloader.py\", line 1462, in _shutdown_workers\n",
      "    if w.is_alive():\n",
      "  File \"/usr/lib/python3.10/multiprocessing/process.py\", line 160, in is_alive\n",
      "    assert self._parent_pid == os.getpid(), 'can only test a child process'\n",
      "AssertionError: can only test a child process\n",
      "Exception ignored in: <function _MultiProcessingDataLoaderIter.__del__ at 0x70d0fc010700>\n",
      "Traceback (most recent call last):\n",
      "  File \"/home/maxim/.local/lib/python3.10/site-packages/torch/utils/data/dataloader.py\", line 1479, in __del__\n",
      "    self._shutdown_workers()\n",
      "  File \"/home/maxim/.local/lib/python3.10/site-packages/torch/utils/data/dataloader.py\", line 1462, in _shutdown_workers\n",
      "    if w.is_alive():\n",
      "  File \"/usr/lib/python3.10/multiprocessing/process.py\", line 160, in is_alive\n",
      "    assert self._parent_pid == os.getpid(), 'can only test a child process'\n",
      "AssertionError: can only test a child process\n"
     ]
    },
    {
     "name": "stdout",
     "output_type": "stream",
     "text": [
      "Epoch 15\n",
      " train loss: 0.7767816115123044, train acc: 0.7298821493862627\n",
      " val loss: 0.9017047471188484, val acc: 0.6940824468085106\n",
      "\n",
      "Epoch 16\n",
      " train loss: 0.7729844832333176, train acc: 0.7301351527814051\n",
      " val loss: 0.8650696853373913, val acc: 0.7084219858156029\n",
      "\n",
      "Epoch 17\n",
      " train loss: 0.7678319375955208, train acc: 0.7323876991381562\n",
      " val loss: 0.8534711500431629, val acc: 0.7108377659574469\n",
      "\n",
      "Epoch 18\n",
      " train loss: 0.7587317768790822, train acc: 0.7351462522851919\n",
      " val loss: 0.8574880813030487, val acc: 0.706892730496454\n",
      "\n",
      "Epoch 19\n",
      " train loss: 0.7503127802769488, train acc: 0.7388066401149125\n",
      " val loss: 0.8844024724148689, val acc: 0.6978723404255319\n",
      "\n"
     ]
    }
   ],
   "source": [
    "# Scheduler: CosineAnnealingLR\n",
    "net = BasicBlockNet().to(device)\n",
    "optimizer = optim.SGD(net.parameters(), lr=0.1, momentum=0.9)\n",
    "scheduler = optim.lr_scheduler.ReduceLROnPlateau(optimizer, \"min\", 0.1, 2)\n",
    "tr_loss_log, tr_acc_log, val_loss_log, val_acc_log = train(net, optimizer, 20, train_loader, val_loader, scheduler=scheduler, model_name='model_sch_plateau.pt')"
   ]
  },
  {
   "cell_type": "code",
   "execution_count": null,
   "metadata": {},
   "outputs": [
    {
     "name": "stdout",
     "output_type": "stream",
     "text": [
      "Полученная точность: 68.86942675159236 %\n"
     ]
    }
   ],
   "source": [
    "print(\"Полученная точность:\", test(net, test_loader)[1] * 100,\"%\")"
   ]
  },
  {
   "cell_type": "code",
   "execution_count": null,
   "metadata": {},
   "outputs": [
    {
     "name": "stdout",
     "output_type": "stream",
     "text": [
      "Epoch 0\n",
      " train loss: 1.8135754926984882, train acc: 0.36627546356751106\n",
      " val loss: 1.6000086520580534, val acc: 0.4490026595744681\n",
      "\n",
      "Epoch 1\n",
      " train loss: 1.5232510259426053, train acc: 0.46472642987725254\n",
      " val loss: 1.4299575694063877, val acc: 0.4968306737588653\n",
      "\n",
      "Epoch 2\n",
      " train loss: 1.4029977116767842, train acc: 0.5042194437189867\n",
      " val loss: 1.3517429311224756, val acc: 0.5263297872340426\n",
      "\n",
      "Epoch 3\n",
      " train loss: 1.3302656745561952, train acc: 0.5356285910159311\n",
      " val loss: 1.279245076280959, val acc: 0.5512854609929078\n",
      "\n",
      "Epoch 4\n",
      " train loss: 1.2692879448207248, train acc: 0.5581948615826586\n",
      " val loss: 1.232310064295505, val acc: 0.571764184397163\n",
      "\n",
      "Epoch 5\n",
      " train loss: 1.2161468680423617, train acc: 0.5735015669887699\n",
      " val loss: 1.1905751847206278, val acc: 0.5886303191489362\n",
      "\n",
      "Epoch 6\n",
      " train loss: 1.177920112117335, train acc: 0.5887837881953512\n",
      " val loss: 1.1895843886314554, val acc: 0.5835106382978723\n",
      "\n",
      "Epoch 7\n",
      " train loss: 1.136618052365793, train acc: 0.6045271284930791\n",
      " val loss: 1.1088504788723397, val acc: 0.6159131205673758\n",
      "\n",
      "Epoch 8\n",
      " train loss: 1.1043115411859543, train acc: 0.614675829198224\n",
      " val loss: 1.0780546530764155, val acc: 0.6249556737588652\n",
      "\n",
      "Epoch 9\n",
      " train loss: 1.0759498960793128, train acc: 0.6258079785844868\n",
      " val loss: 1.071393706443462, val acc: 0.6282358156028369\n",
      "\n",
      "Epoch 10\n",
      " train loss: 1.0554645715291582, train acc: 0.6338714416296682\n",
      " val loss: 1.0554852546529567, val acc: 0.6333333333333333\n",
      "\n",
      "Epoch 11\n",
      " train loss: 1.0351152731687974, train acc: 0.6414452206842518\n",
      " val loss: 1.0507029084449118, val acc: 0.6304742907801417\n",
      "\n",
      "Epoch 12\n",
      " train loss: 1.0171885405423655, train acc: 0.6465624183860016\n",
      " val loss: 1.0159825751122007, val acc: 0.646764184397163\n",
      "\n",
      "Epoch 13\n",
      " train loss: 1.0030883389373584, train acc: 0.6511776899973883\n",
      " val loss: 1.005359542877116, val acc: 0.6502437943262412\n",
      "\n",
      "Epoch 14\n",
      " train loss: 0.9872090698814043, train acc: 0.6578414729694437\n",
      " val loss: 1.022267179539863, val acc: 0.645456560283688\n",
      "\n",
      "Epoch 15\n",
      " train loss: 0.9735504042295913, train acc: 0.663583017759206\n",
      " val loss: 0.9969567960881173, val acc: 0.6532579787234043\n",
      "\n",
      "Epoch 16\n",
      " train loss: 0.9622736195105739, train acc: 0.6676147492817969\n",
      " val loss: 0.9851648175970037, val acc: 0.6607491134751774\n",
      "\n",
      "Epoch 17\n",
      " train loss: 0.9553247358942817, train acc: 0.6668924653956646\n",
      " val loss: 1.001810038089752, val acc: 0.6514406028368795\n",
      "\n",
      "Epoch 18\n",
      " train loss: 0.9434465555647827, train acc: 0.6731522590754766\n",
      " val loss: 0.9648817222169105, val acc: 0.6616799645390071\n",
      "\n",
      "Epoch 19\n",
      " train loss: 0.9315616648637398, train acc: 0.6745029707495429\n",
      " val loss: 0.9567930350912378, val acc: 0.6668661347517731\n",
      "\n"
     ]
    }
   ],
   "source": [
    "# Scheduler: CyclicLR\n",
    "net = BasicBlockNet().to(device)\n",
    "optimizer = optim.SGD(net.parameters(), lr=0.1, momentum=0.9)\n",
    "scheduler = optim.lr_scheduler.CyclicLR(optimizer, 0.001, 0.1)\n",
    "tr_loss_log, tr_acc_log, val_loss_log, val_acc_log = train(net, optimizer, 20, train_loader, val_loader, scheduler=scheduler, model_name='model_sch_cycle.pt')"
   ]
  },
  {
   "cell_type": "code",
   "execution_count": null,
   "metadata": {},
   "outputs": [
    {
     "name": "stdout",
     "output_type": "stream",
     "text": [
      "Полученная точность: 66.98845541401273 %\n"
     ]
    }
   ],
   "source": [
    "print(\"Полученная точность:\", test(net, test_loader)[1] * 100,\"%\")"
   ]
  },
  {
   "cell_type": "markdown",
   "metadata": {
    "id": "5a_zMNNVO9Du"
   },
   "source": [
    "Your answers here:"
   ]
  },
  {
   "cell_type": "markdown",
   "metadata": {},
   "source": [
    "**Our answers there:**\n",
    "\n",
    "Мы привыкли называть это скоростью обучения (learning_rate). \n",
    "\n",
    "Мы выбрали: \n",
    "\n",
    "`ExponentialLR` - каждую эпоху уменьшает learning rate, умножая на определенную величину гамма, скорость обучения при этом будет значительно снижаться в течение первых нескольких эпох, а затем ее изменение замедлится.\n",
    "\n",
    "`ReduceLROnPlateau` - уменьшает скорость обучения, когда целевая метрика перестает улучшаться (aka выходит на плато).\n",
    "\n",
    "`CyclicLR` - цикличная скорость обучения, которая варирутся в рамках max/min значений, заданных заранее. Но не просто так, а по циклу - сначала уменьшаясь, а потом увеличиваясь тд."
   ]
  },
  {
   "cell_type": "markdown",
   "metadata": {
    "id": "7xFXgl_3_E--"
   },
   "source": [
    "## 4. Аугментации данных (2 балла)"
   ]
  },
  {
   "cell_type": "markdown",
   "metadata": {
    "id": "5G0Easo9O9Du"
   },
   "source": [
    "Еще одной стандартной техникой, применяющейся в глубинном обучении, а особенно часто в компьютерном зрении, являются аугментации данных. Суть аугментаций состоит в том, что мы можем некоторым синтетическим образом видоизменять объекты обучающей выборки, тем самым расширяя ее, а также делая итоговую модель более устойчивой к таким изменениям.\n",
    "\n",
    "Простейшая аугментация, которую можно применить к картинкам — разворот картинки по горизонтальной оси. То есть при обучении модели с вероятностью $0.5$ мы будем разворачивать картинку из обучающей выборки."
   ]
  },
  {
   "cell_type": "code",
   "execution_count": null,
   "metadata": {
    "id": "SzeFpgtfO9Du"
   },
   "outputs": [
    {
     "data": {
      "image/png": "[encoded data removed]",
      "text/plain": [
       "<Figure size 640x480 with 1 Axes>"
      ]
     },
     "metadata": {},
     "output_type": "display_data"
    },
    {
     "data": {
      "image/png": "[encoded data removed]",
      "text/plain": [
       "<Figure size 640x480 with 1 Axes>"
      ]
     },
     "metadata": {},
     "output_type": "display_data"
    }
   ],
   "source": [
    "dataiter = iter(train_loader)\n",
    "images, labels = next(dataiter)\n",
    "\n",
    "imshow(torchvision.utils.make_grid(images[:4]))\n",
    "\n",
    "imshow(torchvision.utils.make_grid(transforms.functional.hflip(images[:4])))"
   ]
  },
  {
   "cell_type": "markdown",
   "metadata": {
    "id": "BR4a-XJQO9Du"
   },
   "source": [
    "Наиболее удобным способом работы с аугментациями в PyTorch является их задание в списке <code>transforms</code>, который затем передается в загрузчик данных. Обучим нашу сеть, применяя горизонтальные повороты:"
   ]
  },
  {
   "cell_type": "code",
   "execution_count": null,
   "metadata": {
    "id": "na0ScBf-_AqX",
    "scrolled": true
   },
   "outputs": [
    {
     "name": "stdout",
     "output_type": "stream",
     "text": [
      "Files already downloaded and verified\n",
      "Files already downloaded and verified\n",
      "Epoch 0\n",
      " train loss: 1.4883080404898803, train acc: 0.47071689736223565\n",
      " val loss: 1.2475887998621515, val acc: 0.5607491134751774\n",
      "\n"
     ]
    },
    {
     "name": "stderr",
     "output_type": "stream",
     "text": [
      "/home/maxim/.local/lib/python3.10/site-packages/torch/optim/lr_scheduler.py:156: UserWarning: The epoch parameter in `scheduler.step()` was not necessary and is being deprecated where possible. Please use `scheduler.step()` to step the scheduler. During the deprecation, if epoch is different from None, the closed form is used instead of the new chainable form, where available. Please open an issue if you are unable to replicate your use case: https://github.com/pytorch/pytorch/issues/new/choose.\n",
      "  warnings.warn(EPOCH_DEPRECATION_WARNING, UserWarning)\n"
     ]
    },
    {
     "name": "stdout",
     "output_type": "stream",
     "text": [
      "Epoch 1\n",
      " train loss: 1.1891328826464944, train acc: 0.5804550796552624\n",
      " val loss: 1.1456414785790952, val acc: 0.6071808510638298\n",
      "\n",
      "Epoch 2\n",
      " train loss: 1.071158491061418, train acc: 0.6270566727605119\n",
      " val loss: 1.110510212309817, val acc: 0.6106826241134753\n",
      "\n",
      "Epoch 3\n",
      " train loss: 1.01687993950992, train acc: 0.6443874053277618\n",
      " val loss: 0.9939757070642836, val acc: 0.6576241134751774\n",
      "\n",
      "Epoch 4\n",
      " train loss: 0.9723770038737239, train acc: 0.6645256594411073\n",
      " val loss: 0.9953194932734712, val acc: 0.6554964539007093\n",
      "\n",
      "Epoch 5\n",
      " train loss: 0.941399717625142, train acc: 0.6741438691564378\n",
      " val loss: 0.9694795600911404, val acc: 0.6692597517730497\n",
      "\n",
      "Epoch 6\n",
      " train loss: 0.9215653288081098, train acc: 0.6810688169234788\n",
      " val loss: 0.9654580988782517, val acc: 0.6613031914893617\n",
      "\n",
      "Epoch 7\n",
      " train loss: 0.9088591285989751, train acc: 0.6853331483416035\n",
      " val loss: 0.9335853926678921, val acc: 0.6795656028368795\n",
      "\n",
      "Epoch 8\n",
      " train loss: 0.8890299922914348, train acc: 0.6912093562287804\n",
      " val loss: 0.9629126863276705, val acc: 0.6671764184397162\n",
      "\n",
      "Epoch 9\n",
      " train loss: 0.8811165778684877, train acc: 0.6954328806476887\n",
      " val loss: 0.9530243429731815, val acc: 0.6757535460992907\n",
      "\n",
      "Epoch 10\n",
      " train loss: 0.8655728494009545, train acc: 0.7017783690258553\n",
      " val loss: 0.8903124446564532, val acc: 0.6938829787234042\n",
      "\n",
      "Epoch 11\n",
      " train loss: 0.8607181203866572, train acc: 0.7008846957430138\n",
      " val loss: 0.8938957835765595, val acc: 0.6931294326241135\n",
      "\n",
      "Epoch 12\n",
      " train loss: 0.8519654582361852, train acc: 0.7057815356489945\n",
      " val loss: 0.8729697533110354, val acc: 0.6997118794326241\n",
      "\n",
      "Epoch 13\n",
      " train loss: 0.8373992331394112, train acc: 0.7114129015408722\n",
      " val loss: 0.9070127646973792, val acc: 0.6904033687943263\n",
      "\n",
      "Epoch 14\n",
      " train loss: 0.8373171820610054, train acc: 0.7078504505092714\n",
      " val loss: 0.8658759956664227, val acc: 0.7050531914893617\n",
      "\n",
      "Epoch 15\n",
      " train loss: 0.8215176981807409, train acc: 0.7157751697571167\n",
      " val loss: 0.8820820511655605, val acc: 0.6988031914893617\n",
      "\n",
      "Epoch 16\n",
      " train loss: 0.8228872801965508, train acc: 0.714616250979368\n",
      " val loss: 0.8482965938588406, val acc: 0.7121010638297872\n",
      "\n",
      "Epoch 17\n",
      " train loss: 0.8118899593187643, train acc: 0.7192968137895012\n",
      " val loss: 0.8565164839967768, val acc: 0.7040115248226949\n",
      "\n",
      "Epoch 18\n",
      " train loss: 0.8066229734167975, train acc: 0.7212759532515017\n",
      " val loss: 0.8788073425597333, val acc: 0.7018617021276595\n",
      "\n",
      "Epoch 19\n",
      " train loss: 0.7989050694749822, train acc: 0.7234183207103683\n",
      " val loss: 0.8074452226466321, val acc: 0.7213874113475178\n",
      "\n"
     ]
    }
   ],
   "source": [
    "transform = transforms.Compose(\n",
    "        [transforms.RandomHorizontalFlip(),\n",
    "         transforms.ToTensor(),\n",
    "         transforms.Normalize((0.5, 0.5, 0.5), (0.5, 0.5, 0.5))]\n",
    ")\n",
    "\n",
    "train_loader, val_loader, test_loader = get_cifar10_data(batch_size=64, transform_train=transform)\n",
    "\n",
    "net = BasicBlockNet().to(device)\n",
    "optimizer = optim.SGD(net.parameters(), lr=0.1, momentum=0.9)\n",
    "scheduler = optim.lr_scheduler.MultiStepLR(optimizer, milestones=[10, 15], gamma=0.1)\n",
    "tr_loss_log, tr_acc_log, val_loss_log, val_acc_log = train(net, optimizer, 20, train_loader, val_loader, scheduler=scheduler, model_name='model_aug.pt')"
   ]
  },
  {
   "cell_type": "markdown",
   "metadata": {
    "id": "v3ZIqDQqO9Dv"
   },
   "source": [
    "Посчитайте точность на тестовой выборке:"
   ]
  },
  {
   "cell_type": "code",
   "execution_count": null,
   "metadata": {
    "id": "nNJizMkM_Auh"
   },
   "outputs": [
    {
     "name": "stdout",
     "output_type": "stream",
     "text": [
      "Полученная точность: 72.19347133757962 %\n"
     ]
    }
   ],
   "source": [
    "print(\"Полученная точность:\", test(net, test_loader)[1] * 100,\"%\")"
   ]
  },
  {
   "cell_type": "markdown",
   "metadata": {
    "id": "KndehSCHO9Dv"
   },
   "source": [
    "**Задание 4.1 (2 балла).** Изучите, какие еще способы аугментаций изображений представлены в <code>torchvision.transforms</code>. Выберите несколько из них, объясните, как они устроены, и обучите модель с ними (по отдельности и вместе). Удалось ли добиться улучшения качества на тестовой выборке?"
   ]
  },
  {
   "cell_type": "code",
   "execution_count": null,
   "metadata": {
    "id": "Np4rgvdZ_QRF"
   },
   "outputs": [
    {
     "name": "stdout",
     "output_type": "stream",
     "text": [
      "Files already downloaded and verified\n",
      "Files already downloaded and verified\n",
      "Epoch 0\n",
      " train loss: 1.7118672932305763, train acc: 0.3804558957952468\n",
      " val loss: 1.5470536947250366, val acc: 0.43933953900709216\n",
      "\n"
     ]
    },
    {
     "name": "stderr",
     "output_type": "stream",
     "text": [
      "/home/maxim/.local/lib/python3.10/site-packages/torch/optim/lr_scheduler.py:156: UserWarning: The epoch parameter in `scheduler.step()` was not necessary and is being deprecated where possible. Please use `scheduler.step()` to step the scheduler. During the deprecation, if epoch is different from None, the closed form is used instead of the new chainable form, where available. Please open an issue if you are unable to replicate your use case: https://github.com/pytorch/pytorch/issues/new/choose.\n",
      "  warnings.warn(EPOCH_DEPRECATION_WARNING, UserWarning)\n"
     ]
    },
    {
     "name": "stdout",
     "output_type": "stream",
     "text": [
      "Epoch 1\n",
      " train loss: 1.4882610940410188, train acc: 0.46546911726299295\n",
      " val loss: 1.4288739305861453, val acc: 0.4840868794326241\n",
      "\n",
      "Epoch 2\n",
      " train loss: 1.357191438212909, train acc: 0.5146619548184904\n",
      " val loss: 1.3588498313376245, val acc: 0.5142287234042553\n",
      "\n",
      "Epoch 3\n",
      " train loss: 1.2753284533237408, train acc: 0.547552396186994\n",
      " val loss: 1.2501804889516628, val acc: 0.5665336879432625\n",
      "\n",
      "Epoch 4\n",
      " train loss: 1.2246290321106013, train acc: 0.5684374183860016\n",
      " val loss: 1.221208768448931, val acc: 0.5715425531914894\n",
      "\n",
      "Epoch 5\n",
      " train loss: 1.197621599956666, train acc: 0.5764641551318883\n",
      " val loss: 1.1403986291682466, val acc: 0.6001994680851064\n",
      "\n",
      "Epoch 6\n",
      " train loss: 1.1697287961595455, train acc: 0.5869148276312354\n",
      " val loss: 1.1767894293399568, val acc: 0.5845079787234042\n",
      "\n",
      "Epoch 7\n",
      " train loss: 1.150924120023438, train acc: 0.5944722838861322\n",
      " val loss: 1.1855013380659387, val acc: 0.5892287234042554\n",
      "\n",
      "Epoch 8\n",
      " train loss: 1.1351225152747941, train acc: 0.6000383585792635\n",
      " val loss: 1.22794913256422, val acc: 0.5697916666666667\n",
      "\n",
      "Epoch 9\n",
      " train loss: 1.1305240318587755, train acc: 0.6039762340036563\n",
      " val loss: 1.1757336213233622, val acc: 0.5856604609929077\n",
      "\n",
      "Epoch 10\n",
      " train loss: 1.1121093425933797, train acc: 0.6065593170540612\n",
      " val loss: 1.0843593673503145, val acc: 0.6191489361702127\n",
      "\n",
      "Epoch 11\n",
      " train loss: 1.0994609865671539, train acc: 0.6131945351266649\n",
      " val loss: 1.0843179918350057, val acc: 0.6158466312056737\n",
      "\n",
      "Epoch 12\n",
      " train loss: 1.0897137182722143, train acc: 0.6182178767302168\n",
      " val loss: 1.0502910446613394, val acc: 0.6363475177304966\n",
      "\n",
      "Epoch 13\n",
      " train loss: 1.0747085615747372, train acc: 0.6249795965003917\n",
      " val loss: 1.1835281940216713, val acc: 0.5811391843971631\n",
      "\n",
      "Epoch 14\n",
      " train loss: 1.0720892349152504, train acc: 0.6230983938365109\n",
      " val loss: 1.0679367884676507, val acc: 0.62542109929078\n",
      "\n",
      "Epoch 15\n",
      " train loss: 1.0575757289281493, train acc: 0.6274443392530686\n",
      " val loss: 1.1032493837336277, val acc: 0.61604609929078\n",
      "\n",
      "Epoch 16\n",
      " train loss: 1.0572989159135975, train acc: 0.6292398472185949\n",
      " val loss: 1.0554196672236666, val acc: 0.6279255319148936\n",
      "\n",
      "Epoch 17\n",
      " train loss: 1.046747827660667, train acc: 0.6308313201880386\n",
      " val loss: 1.0608777487531622, val acc: 0.6240691489361702\n",
      "\n",
      "Epoch 18\n",
      " train loss: 1.0485372252394556, train acc: 0.63174947767041\n",
      " val loss: 1.0129644234129722, val acc: 0.645345744680851\n",
      "\n",
      "Epoch 19\n",
      " train loss: 1.0345678067948307, train acc: 0.6361729563854792\n",
      " val loss: 1.0137062628218467, val acc: 0.6467420212765957\n",
      "\n"
     ]
    }
   ],
   "source": [
    "transform = transforms.Compose(\n",
    "    [transforms.RandomHorizontalFlip(),\n",
    "     transforms.RandomCrop(32, padding=4),  \n",
    "     transforms.RandomRotation(degrees=10),\n",
    "     transforms.ColorJitter(brightness=0.2, contrast=0.2, saturation=0.2),\n",
    "\n",
    "     transforms.ToTensor(),\n",
    "     transforms.Normalize((0.5, 0.5, 0.5), (0.5, 0.5, 0.5))]\n",
    ")\n",
    "\n",
    "\n",
    "train_loader, val_loader, test_loader = get_cifar10_data(\n",
    "    batch_size=64, transform_train=transform)\n",
    "\n",
    "net = BasicBlockNet().to(device)\n",
    "optimizer = optim.SGD(net.parameters(), lr=0.1, momentum=0.9)\n",
    "scheduler = optim.lr_scheduler.MultiStepLR(\n",
    "    optimizer, milestones=[10, 15], gamma=0.1)\n",
    "tr_loss_log, tr_acc_log, val_loss_log, val_acc_log = train(\n",
    "    net, optimizer, 20, train_loader, val_loader, scheduler=scheduler, model_name='model_aug_custom.pt')"
   ]
  },
  {
   "cell_type": "code",
   "execution_count": null,
   "metadata": {},
   "outputs": [
    {
     "name": "stdout",
     "output_type": "stream",
     "text": [
      "Полученная точность: 68.1329617834395 %\n"
     ]
    }
   ],
   "source": [
    "print(\"Полученная точность:\", test(net, test_loader)[1] * 100,\"%\")"
   ]
  },
  {
   "cell_type": "code",
   "execution_count": null,
   "metadata": {},
   "outputs": [
    {
     "name": "stdout",
     "output_type": "stream",
     "text": [
      "Files already downloaded and verified\n",
      "Files already downloaded and verified\n",
      "Epoch 0\n",
      " train loss: 1.4883080404898803, train acc: 0.47071689736223565\n",
      " val loss: 1.2475887998621515, val acc: 0.5607491134751774\n",
      "\n"
     ]
    },
    {
     "name": "stderr",
     "output_type": "stream",
     "text": [
      "/home/maxim/.local/lib/python3.10/site-packages/torch/optim/lr_scheduler.py:156: UserWarning: The epoch parameter in `scheduler.step()` was not necessary and is being deprecated where possible. Please use `scheduler.step()` to step the scheduler. During the deprecation, if epoch is different from None, the closed form is used instead of the new chainable form, where available. Please open an issue if you are unable to replicate your use case: https://github.com/pytorch/pytorch/issues/new/choose.\n",
      "  warnings.warn(EPOCH_DEPRECATION_WARNING, UserWarning)\n"
     ]
    },
    {
     "name": "stdout",
     "output_type": "stream",
     "text": [
      "Epoch 1\n",
      " train loss: 1.1891328826464944, train acc: 0.5804550796552624\n",
      " val loss: 1.1456414785790952, val acc: 0.6071808510638298\n",
      "\n",
      "Epoch 2\n",
      " train loss: 1.071158491061418, train acc: 0.6270566727605119\n",
      " val loss: 1.110510212309817, val acc: 0.6106826241134753\n",
      "\n",
      "Epoch 3\n",
      " train loss: 1.01687993950992, train acc: 0.6443874053277618\n",
      " val loss: 0.9939757070642836, val acc: 0.6576241134751774\n",
      "\n",
      "Epoch 4\n",
      " train loss: 0.9723770038737239, train acc: 0.6645256594411073\n",
      " val loss: 0.9953194932734712, val acc: 0.6554964539007093\n",
      "\n",
      "Epoch 5\n",
      " train loss: 0.941399717625142, train acc: 0.6741438691564378\n",
      " val loss: 0.9694795600911404, val acc: 0.6692597517730497\n",
      "\n",
      "Epoch 6\n",
      " train loss: 0.9215653288081098, train acc: 0.6810688169234788\n",
      " val loss: 0.9654580988782517, val acc: 0.6613031914893617\n",
      "\n",
      "Epoch 7\n",
      " train loss: 0.9088591285989751, train acc: 0.6853331483416035\n",
      " val loss: 0.9335853926678921, val acc: 0.6795656028368795\n",
      "\n",
      "Epoch 8\n",
      " train loss: 0.8890299922914348, train acc: 0.6912093562287804\n",
      " val loss: 0.9629126863276705, val acc: 0.6671764184397162\n",
      "\n",
      "Epoch 9\n",
      " train loss: 0.8811165778684877, train acc: 0.6954328806476887\n",
      " val loss: 0.9530243429731815, val acc: 0.6757535460992907\n",
      "\n",
      "Epoch 10\n",
      " train loss: 0.8655728494009545, train acc: 0.7017783690258553\n",
      " val loss: 0.8903124446564532, val acc: 0.6938829787234042\n",
      "\n",
      "Epoch 11\n",
      " train loss: 0.8607181203866572, train acc: 0.7008846957430138\n",
      " val loss: 0.8938957835765595, val acc: 0.6931294326241135\n",
      "\n",
      "Epoch 12\n",
      " train loss: 0.8519654582361852, train acc: 0.7057815356489945\n",
      " val loss: 0.8729697533110354, val acc: 0.6997118794326241\n",
      "\n",
      "Epoch 13\n",
      " train loss: 0.8373992331394112, train acc: 0.7114129015408722\n",
      " val loss: 0.9070127646973792, val acc: 0.6904033687943263\n",
      "\n",
      "Epoch 14\n",
      " train loss: 0.8373171820610054, train acc: 0.7078504505092714\n",
      " val loss: 0.8658759956664227, val acc: 0.7050531914893617\n",
      "\n",
      "Epoch 15\n",
      " train loss: 0.8215176981807409, train acc: 0.7157751697571167\n",
      " val loss: 0.8820820511655605, val acc: 0.6988031914893617\n",
      "\n",
      "Epoch 16\n",
      " train loss: 0.8228872801965508, train acc: 0.714616250979368\n",
      " val loss: 0.8482965938588406, val acc: 0.7121010638297872\n",
      "\n",
      "Epoch 17\n",
      " train loss: 0.8118899593187643, train acc: 0.7192968137895012\n",
      " val loss: 0.8565164839967768, val acc: 0.7040115248226949\n",
      "\n",
      "Epoch 18\n",
      " train loss: 0.8066229734167975, train acc: 0.7212759532515017\n",
      " val loss: 0.8788073425597333, val acc: 0.7018617021276595\n",
      "\n",
      "Epoch 19\n",
      " train loss: 0.7989050694749822, train acc: 0.7234183207103683\n",
      " val loss: 0.8074452226466321, val acc: 0.7213874113475178\n",
      "\n",
      "Полученная точность на Compose(\n",
      "    RandomHorizontalFlip(p=0.5)\n",
      "    ToTensor()\n",
      "    Normalize(mean=(0.5, 0.5, 0.5), std=(0.5, 0.5, 0.5))\n",
      "): 72.19347133757962 %\n",
      "Files already downloaded and verified\n",
      "Files already downloaded and verified\n",
      "Epoch 0\n",
      " train loss: 1.6469715404336152, train acc: 0.40205095978062155\n",
      " val loss: 1.4705492207344542, val acc: 0.47480053191489363\n",
      "\n",
      "Epoch 1\n",
      " train loss: 1.3798098413774256, train acc: 0.5049417276051188\n",
      " val loss: 1.2897007873717774, val acc: 0.535438829787234\n",
      "\n",
      "Epoch 2\n",
      " train loss: 1.2581769675833652, train acc: 0.5528205797858448\n",
      " val loss: 1.2877945217680424, val acc: 0.5397163120567375\n",
      "\n",
      "Epoch 3\n",
      " train loss: 1.2111559831682028, train acc: 0.5718162379211281\n",
      " val loss: 1.1554839935708554, val acc: 0.5935062056737588\n",
      "\n",
      "Epoch 4\n",
      " train loss: 1.1623466548797636, train acc: 0.5913383063463045\n",
      " val loss: 1.1947383030932, val acc: 0.5718971631205673\n",
      "\n",
      "Epoch 5\n",
      " train loss: 1.12511688852223, train acc: 0.6073387307390964\n",
      " val loss: 1.2500524236800823, val acc: 0.5835328014184397\n",
      "\n",
      "Epoch 6\n",
      " train loss: 1.0949991752940078, train acc: 0.6174915121441629\n",
      " val loss: 1.1161442127633603, val acc: 0.6120567375886524\n",
      "\n",
      "Epoch 7\n",
      " train loss: 1.0683149815259512, train acc: 0.6252285191956124\n",
      " val loss: 1.075531562338484, val acc: 0.6279033687943263\n",
      "\n",
      "Epoch 8\n",
      " train loss: 1.0471504238013594, train acc: 0.6308558043875686\n",
      " val loss: 1.1112609246943859, val acc: 0.614206560283688\n",
      "\n",
      "Epoch 9\n",
      " train loss: 1.0347007930387744, train acc: 0.6425796552624706\n",
      " val loss: 1.074525600291313, val acc: 0.626950354609929\n",
      "\n",
      "Epoch 10\n",
      " train loss: 1.0104256261419335, train acc: 0.6477866283624968\n",
      " val loss: 1.0211431201468122, val acc: 0.6435062056737588\n",
      "\n",
      "Epoch 11\n",
      " train loss: 1.0043823841067074, train acc: 0.6515449529903369\n",
      " val loss: 1.0040517763888581, val acc: 0.652482269503546\n",
      "\n",
      "Epoch 12\n",
      " train loss: 0.9946507626303371, train acc: 0.6513001109950379\n",
      " val loss: 0.9891185047778678, val acc: 0.6524379432624114\n",
      "\n",
      "Epoch 13\n",
      " train loss: 0.9747297331227681, train acc: 0.6587106620527552\n",
      " val loss: 1.022395638202099, val acc: 0.6441489361702127\n",
      "\n",
      "Epoch 14\n",
      " train loss: 0.9785632470408131, train acc: 0.6596859493340298\n",
      " val loss: 0.9914892749583467, val acc: 0.656139184397163\n",
      "\n",
      "Epoch 15\n",
      " train loss: 0.9557026305407885, train acc: 0.6669495951945678\n",
      " val loss: 1.0170345412923936, val acc: 0.6513297872340426\n",
      "\n",
      "Epoch 16\n",
      " train loss: 0.9561172233421145, train acc: 0.6670067249934708\n",
      " val loss: 0.966823820357627, val acc: 0.6651817375886524\n",
      "\n",
      "Epoch 17\n",
      " train loss: 0.9468763885811871, train acc: 0.6693939344476364\n",
      " val loss: 0.955161270689457, val acc: 0.6638076241134753\n",
      "\n",
      "Epoch 18\n",
      " train loss: 0.9367280214534599, train acc: 0.673707234264821\n",
      " val loss: 0.9700078241368557, val acc: 0.6677083333333332\n",
      "\n",
      "Epoch 19\n",
      " train loss: 0.9363239645086215, train acc: 0.6766412575084879\n",
      " val loss: 0.926276739607466, val acc: 0.6827349290780141\n",
      "\n",
      "Полученная точность на Compose(\n",
      "    RandomCrop(size=(32, 32), padding=4)\n",
      "    ToTensor()\n",
      "    Normalize(mean=(0.5, 0.5, 0.5), std=(0.5, 0.5, 0.5))\n",
      "): 70.24283439490446 %\n",
      "Files already downloaded and verified\n",
      "Files already downloaded and verified\n",
      "Epoch 0\n",
      " train loss: 1.5068349332652538, train acc: 0.45994793026899977\n",
      " val loss: 1.2843971886533372, val acc: 0.5443705673758865\n",
      "\n",
      "Epoch 1\n",
      " train loss: 1.231803885761519, train acc: 0.5658584160355183\n",
      " val loss: 1.2817944668708963, val acc: 0.5449468085106383\n",
      "\n",
      "Epoch 2\n",
      " train loss: 1.1207461138094148, train acc: 0.6071428571428572\n",
      " val loss: 1.168223793455895, val acc: 0.5878767730496455\n",
      "\n",
      "Epoch 3\n",
      " train loss: 1.0687078398803906, train acc: 0.6264731326717158\n",
      " val loss: 1.0620624570136374, val acc: 0.63125\n",
      "\n",
      "Epoch 4\n",
      " train loss: 1.027279911573016, train acc: 0.6416614977800992\n",
      " val loss: 1.0756821312802902, val acc: 0.6209219858156029\n",
      "\n",
      "Epoch 5\n",
      " train loss: 0.9932317443913908, train acc: 0.6522264298772524\n",
      " val loss: 1.0836577849185214, val acc: 0.6333998226950354\n",
      "\n",
      "Epoch 6\n",
      " train loss: 0.968139995822523, train acc: 0.6618609623922695\n",
      " val loss: 1.0352293148953864, val acc: 0.6403590425531915\n",
      "\n",
      "Epoch 7\n",
      " train loss: 0.9490100656392587, train acc: 0.6664599112039697\n",
      " val loss: 0.9665992812907442, val acc: 0.6642952127659575\n",
      "\n",
      "Epoch 8\n",
      " train loss: 0.9289847161259904, train acc: 0.6738541394620005\n",
      " val loss: 1.0313984439728108, val acc: 0.6398714539007093\n",
      "\n",
      "Epoch 9\n",
      " train loss: 0.9175091730175332, train acc: 0.6802281927396188\n",
      " val loss: 0.9680032801120839, val acc: 0.6692597517730497\n",
      "\n",
      "Epoch 10\n",
      " train loss: 0.9041124808940852, train acc: 0.6831948615826586\n",
      " val loss: 0.9742447873379322, val acc: 0.6640514184397163\n",
      "\n",
      "Epoch 11\n",
      " train loss: 0.8924193001970294, train acc: 0.6876754700966309\n",
      " val loss: 0.927380184670712, val acc: 0.6793882978723405\n",
      "\n",
      "Epoch 12\n",
      " train loss: 0.8856771422696506, train acc: 0.6902299882475842\n",
      " val loss: 0.9411513445225168, val acc: 0.6731826241134753\n",
      "\n",
      "Epoch 13\n",
      " train loss: 0.8736342954461274, train acc: 0.694682031862105\n",
      " val loss: 0.9718340343617379, val acc: 0.6595966312056737\n",
      "\n",
      "Epoch 14\n",
      " train loss: 0.8718579858269072, train acc: 0.6972651149125099\n",
      " val loss: 0.9520445973315137, val acc: 0.6702570921985816\n",
      "\n",
      "Epoch 15\n",
      " train loss: 0.8567296438722768, train acc: 0.7017742883259337\n",
      " val loss: 0.9365748438429325, val acc: 0.6759751773049646\n",
      "\n",
      "Epoch 16\n",
      " train loss: 0.8569082222211514, train acc: 0.6991503982763124\n",
      " val loss: 0.9031565146243319, val acc: 0.6894946808510638\n",
      "\n",
      "Epoch 17\n",
      " train loss: 0.8456240351936717, train acc: 0.704981718464351\n",
      " val loss: 0.9101390321204003, val acc: 0.685793439716312\n",
      "\n",
      "Epoch 18\n",
      " train loss: 0.8391713014032549, train acc: 0.705332658657613\n",
      " val loss: 0.9112250267191137, val acc: 0.6909574468085107\n",
      "\n",
      "Epoch 19\n",
      " train loss: 0.825061536358305, train acc: 0.713167602507182\n",
      " val loss: 0.9011739342770678, val acc: 0.6920212765957446\n",
      "\n",
      "Полученная точность на Compose(\n",
      "    RandomRotation(degrees=[-10.0, 10.0], interpolation=nearest, expand=False, fill=0)\n",
      "    ToTensor()\n",
      "    Normalize(mean=(0.5, 0.5, 0.5), std=(0.5, 0.5, 0.5))\n",
      "): 70.96934713375796 %\n",
      "Files already downloaded and verified\n",
      "Files already downloaded and verified\n",
      "Epoch 0\n",
      " train loss: 1.4971049879107223, train acc: 0.4690560524941238\n",
      " val loss: 1.272933535626594, val acc: 0.5571808510638298\n",
      "\n",
      "Epoch 1\n",
      " train loss: 1.1939149800776563, train acc: 0.5816915317315227\n",
      " val loss: 1.2775870936982174, val acc: 0.5547872340425531\n",
      "\n",
      "Epoch 2\n",
      " train loss: 1.0857208203354092, train acc: 0.6260120135805693\n",
      " val loss: 1.173334622129481, val acc: 0.5909796099290779\n",
      "\n",
      "Epoch 3\n",
      " train loss: 1.0345761204986292, train acc: 0.6429346761556542\n",
      " val loss: 1.0152217010234266, val acc: 0.6466976950354609\n",
      "\n",
      "Epoch 4\n",
      " train loss: 0.990630755367837, train acc: 0.6590575215460955\n",
      " val loss: 1.0443777190878036, val acc: 0.6364140070921986\n",
      "\n",
      "Epoch 5\n",
      " train loss: 0.956095897192493, train acc: 0.670332495429616\n",
      " val loss: 0.9741774427129867, val acc: 0.6669991134751774\n",
      "\n",
      "Epoch 6\n",
      " train loss: 0.9275745343028736, train acc: 0.6783061830765212\n",
      " val loss: 1.0454318044033457, val acc: 0.6398049645390071\n",
      "\n",
      "Epoch 7\n",
      " train loss: 0.910216249103302, train acc: 0.6846883977539827\n",
      " val loss: 1.021370113656876, val acc: 0.6496010638297872\n",
      "\n",
      "Epoch 8\n",
      " train loss: 0.8930760997958768, train acc: 0.6918459454165578\n",
      " val loss: 1.0008558313897316, val acc: 0.6563386524822694\n",
      "\n",
      "Epoch 9\n",
      " train loss: 0.8791175491195274, train acc: 0.6969264168190128\n",
      " val loss: 1.0183873014247165, val acc: 0.6573138297872341\n",
      "\n",
      "Epoch 10\n",
      " train loss: 0.8689378941298839, train acc: 0.6968733677200313\n",
      " val loss: 0.9177000537831732, val acc: 0.686968085106383\n",
      "\n",
      "Epoch 11\n",
      " train loss: 0.855297017685892, train acc: 0.7044185818751633\n",
      " val loss: 0.9169958096869448, val acc: 0.6858156028368795\n",
      "\n",
      "Epoch 12\n",
      " train loss: 0.8424406606274941, train acc: 0.7076382541133455\n",
      " val loss: 0.890768027305603, val acc: 0.6917109929078014\n",
      "\n",
      "Epoch 13\n",
      " train loss: 0.8383337174843608, train acc: 0.7098622355706451\n",
      " val loss: 0.9509267971870747, val acc: 0.6675531914893617\n",
      "\n",
      "Epoch 14\n",
      " train loss: 0.8280145398986405, train acc: 0.7123922695220685\n",
      " val loss: 0.9121299282033393, val acc: 0.6882313829787234\n",
      "\n",
      "Epoch 15\n",
      " train loss: 0.8156755451092554, train acc: 0.7171666884303995\n",
      " val loss: 0.9169182526304367, val acc: 0.6833333333333332\n",
      "\n",
      "Epoch 16\n",
      " train loss: 0.8139855405639251, train acc: 0.7169096043353356\n",
      " val loss: 0.892263266380797, val acc: 0.6986258865248226\n",
      "\n",
      "Epoch 17\n",
      " train loss: 0.8001325867620639, train acc: 0.7219696722381823\n",
      " val loss: 0.9369222113426695, val acc: 0.6760195035460992\n",
      "\n",
      "Epoch 18\n",
      " train loss: 0.7942169846956647, train acc: 0.7248710498824759\n",
      " val loss: 0.9001355434985872, val acc: 0.6974512411347519\n",
      "\n",
      "Epoch 19\n",
      " train loss: 0.7842921478983689, train acc: 0.726923641943066\n",
      " val loss: 0.8771230726800067, val acc: 0.6992686170212766\n",
      "\n",
      "Полученная точность на Compose(\n",
      "    ColorJitter(brightness=(0.8, 1.2), contrast=(0.8, 1.2), saturation=(0.8, 1.2), hue=None)\n",
      "    ToTensor()\n",
      "    Normalize(mean=(0.5, 0.5, 0.5), std=(0.5, 0.5, 0.5))\n",
      "): 69.96417197452229 %\n"
     ]
    }
   ],
   "source": [
    "transforms_list = [\n",
    "  transforms.RandomHorizontalFlip(),\n",
    "  transforms.RandomCrop(32, padding=4), \n",
    "  transforms.RandomRotation(degrees=10),\n",
    "  transforms.ColorJitter(brightness=0.2, contrast=0.2, saturation=0.2),\n",
    "]\n",
    "\n",
    "for i, tr in enumerate(transforms_list):\n",
    "    transform = transforms.Compose([\n",
    "        tr,\n",
    "        transforms.ToTensor(),\n",
    "        transforms.Normalize((0.5, 0.5, 0.5), (0.5, 0.5, 0.5))]\n",
    "    )\n",
    "    train_loader, val_loader, test_loader = get_cifar10_data(\n",
    "        batch_size=64, transform_train=transform)\n",
    "\n",
    "    net = BasicBlockNet().to(device)\n",
    "    optimizer = optim.SGD(net.parameters(), lr=0.1, momentum=0.9)\n",
    "    scheduler = optim.lr_scheduler.MultiStepLR(\n",
    "        optimizer, milestones=[10, 15], gamma=0.1)\n",
    "\n",
    "    tr_loss_log, tr_acc_log, val_loss_log, val_acc_log = train(\n",
    "        net, optimizer, 20, train_loader, val_loader, scheduler=scheduler, model_name=f'model_aug_custom_{i}.pt')\n",
    "    \n",
    "    print(f\"Полученная точность на {transform}:\", test(net, test_loader)[1] * 100,\"%\")"
   ]
  },
  {
   "cell_type": "markdown",
   "metadata": {
    "id": "4K-MptLiO9Dv"
   },
   "source": [
    "Your answers here:"
   ]
  },
  {
   "cell_type": "markdown",
   "metadata": {},
   "source": [
    "**Our answers here:**\n",
    "\n",
    "`transforms.RandomCrop()`: Обрезает изображение до заданного размера, сначала расширяя изображение до большего размера и заполняя края, если требуется.\n",
    "\n",
    "`transforms.RandomRotation()`: Вращает изображение на случайный угол в пределах заданных границ.\n",
    "\n",
    "`transforms.ColorJitter()`: Случайным образом изменяет яркость, контрастность и насыщенность изображения.\n"
   ]
  },
  {
   "cell_type": "markdown",
   "metadata": {
    "id": "HCENjLw5O9Dv"
   },
   "source": [
    "## Бонус. Логирование в wandb (2 балла)"
   ]
  },
  {
   "cell_type": "markdown",
   "metadata": {
    "id": "xOyzc1mnO9Dv"
   },
   "source": [
    "На практике специалиста по глубинному обучению часто встречаются ситуации, когда нейросеть учится на каком-то удаленном сервере. И обычно вам хочется отслеживать прогресс обучения, особенно когда время обучения модели исчисляется днями или неделями. Для таких целей существует несколько инструментов. Вероятно, самый популярный из них — [wandb](https://wandb.ai/site).\n",
    "\n",
    "Ваша задача состоит в том, чтобы разобраться как им пользоваться, и повторить задания 2.1 и 2.2 с его использованием. Обучение вы можете запускать в этом же ноутбуке, но теперь вам необходимо через wandb логировать значения функции потерь и точности на обучающей выборке и на валидационной. Результатом работы должны быть ваш код и публичная ссылка на страничку с графиками, идентичными графикам в задании 2.2."
   ]
  },
  {
   "cell_type": "code",
   "execution_count": null,
   "metadata": {
    "id": "m5gSTLAr_QS4"
   },
   "outputs": [
    {
     "name": "stderr",
     "output_type": "stream",
     "text": [
      "/usr/lib/python3/dist-packages/requests/__init__.py:87: RequestsDependencyWarning: urllib3 (2.2.1) or chardet (4.0.0) doesn't match a supported version!\n",
      "  warnings.warn(\"urllib3 ({}) or chardet ({}) doesn't match a supported \"\n"
     ]
    }
   ],
   "source": [
    "# <your code here>\n",
    "import wandb\n",
    "import datetime\n",
    "\n",
    "def test(model, loader):\n",
    "    loss_log = []\n",
    "    acc_log = []\n",
    "    model.eval()\n",
    "\n",
    "    for data, target in loader:\n",
    "        output = model(data)\n",
    "        loss = F.cross_entropy(output, target)\n",
    "        loss_log.append(loss.item())\n",
    "\n",
    "        pred = output.argmax(dim=1, keepdim=True)\n",
    "        acc = pred.eq(target.view_as(pred)).sum().item() / target.size(0)\n",
    "        acc_log.append(acc)\n",
    "\n",
    "    return np.mean(loss_log), np.mean(acc_log)\n",
    "\n",
    "\n",
    "def train_epoch(model, optimizer, train_loader):\n",
    "    loss_log = []\n",
    "    acc_log = []\n",
    "    model.train()\n",
    "\n",
    "    for data, target in train_loader:\n",
    "        optimizer.zero_grad()\n",
    "        output = model(data)\n",
    "        loss = F.cross_entropy(output, target)\n",
    "        loss.backward()\n",
    "        optimizer.step()\n",
    "\n",
    "        loss_log.append(loss.item())\n",
    "\n",
    "        pred = output.argmax(dim=1, keepdim=True)\n",
    "        acc = pred.eq(target.view_as(pred)).sum().item() / target.size(0)\n",
    "        acc_log.append(acc)\n",
    "\n",
    "    return loss_log, acc_log\n",
    "\n",
    "\n",
    "def train(model, optimizer, n_epochs, train_loader, val_loader, model_name=None, scheduler=None):\n",
    "    train_loss_log, train_acc_log, val_loss_log, val_acc_log = [], [], [], []\n",
    "\n",
    "    for epoch in range(n_epochs):\n",
    "        train_loss, train_acc = train_epoch(model, optimizer, train_loader)\n",
    "        val_loss, val_acc = test(model, val_loader)\n",
    "        \n",
    "        train_loss_log.extend(train_loss)\n",
    "        train_acc_log.extend(train_acc)\n",
    "        \n",
    "        val_loss_log.append(val_loss)\n",
    "        val_acc_log.append(val_acc)\n",
    "\n",
    "        print(f\"Epoch {epoch}\")\n",
    "        print(f\" train loss: {np.mean(train_loss)}, train acc: {np.mean(train_acc)}\")\n",
    "        print(f\" val loss: {val_loss}, val acc: {val_acc}\")\n",
    "\n",
    "        current_lr = optimizer.param_groups[0]['lr']\n",
    "        print(f\" learning rate: {current_lr}\\n\")\n",
    "\n",
    "        # Логгирование в wandb\n",
    "        wandb.log({\"Epoch\": epoch})\n",
    "        wandb.log({\"Train loss\": np.mean(train_loss), \"Train accuracy\": np.mean(train_acc)})\n",
    "        wandb.log({\"Validation loss\": np.mean(val_loss), \"Validation accuracy\": np.mean(val_acc)})\n",
    "        \n",
    "        if scheduler is not None:\n",
    "            scheduler.step(val_loss)\n",
    "        \n",
    "        if model_name is None:\n",
    "            model_name = f'model_wb_{datetime.datetime.now()}'\n",
    "\n",
    "\n",
    "    torch.save(net, model_name)\n",
    "\n",
    "    return train_loss_log, train_acc_log, val_loss_log, val_acc_log"
   ]
  },
  {
   "cell_type": "code",
   "execution_count": null,
   "metadata": {},
   "outputs": [
    {
     "data": {
      "text/html": [
       "<style>\n",
       "    table.wandb td:nth-child(1) { padding: 0 10px; text-align: left ; width: auto;} td:nth-child(2) {text-align: left ; width: 100%}\n",
       "    .wandb-row { display: flex; flex-direction: row; flex-wrap: wrap; justify-content: flex-start; width: 100% }\n",
       "    .wandb-col { display: flex; flex-direction: column; flex-basis: 100%; flex: 1; padding: 10px; }\n",
       "    </style>\n",
       "<div class=\"wandb-row\"><div class=\"wandb-col\"><h3>Run history:</h3><br/><table class=\"wandb\"><tr><td>Epoch</td><td>▁▅█</td></tr><tr><td>Train accuracy</td><td>▁▆█</td></tr><tr><td>Train loss</td><td>█▃▁</td></tr><tr><td>Validation accuracy</td><td>▁▆█</td></tr><tr><td>Validation loss</td><td>█▃▁</td></tr></table><br/></div><div class=\"wandb-col\"><h3>Run summary:</h3><br/><table class=\"wandb\"><tr><td>Epoch</td><td>2</td></tr><tr><td>Train accuracy</td><td>0.63466</td></tr><tr><td>Train loss</td><td>1.05455</td></tr><tr><td>Validation accuracy</td><td>0.61104</td></tr><tr><td>Validation loss</td><td>1.11637</td></tr></table><br/></div></div>"
      ],
      "text/plain": [
       "<IPython.core.display.HTML object>"
      ]
     },
     "metadata": {},
     "output_type": "display_data"
    },
    {
     "data": {
      "text/html": [
       " View run <strong style=\"color:#cdcd00\">misunderstood-frog-2</strong> at: <a href='https://wandb.ai/maximelkin14/Sirius/runs/cfdzpasz' target=\"_blank\">https://wandb.ai/maximelkin14/Sirius/runs/cfdzpasz</a><br/> View project at: <a href='https://wandb.ai/maximelkin14/Sirius' target=\"_blank\">https://wandb.ai/maximelkin14/Sirius</a><br/>Synced 5 W&B file(s), 0 media file(s), 0 artifact file(s) and 0 other file(s)"
      ],
      "text/plain": [
       "<IPython.core.display.HTML object>"
      ]
     },
     "metadata": {},
     "output_type": "display_data"
    },
    {
     "data": {
      "text/html": [
       "Find logs at: <code>./wandb/run-20240408_215030-cfdzpasz/logs</code>"
      ],
      "text/plain": [
       "<IPython.core.display.HTML object>"
      ]
     },
     "metadata": {},
     "output_type": "display_data"
    }
   ],
   "source": [
    "wandb.finish()"
   ]
  },
  {
   "cell_type": "code",
   "execution_count": null,
   "metadata": {},
   "outputs": [
    {
     "name": "stderr",
     "output_type": "stream",
     "text": [
      "Failed to detect the name of this notebook, you can set it manually with the WANDB_NOTEBOOK_NAME environment variable to enable code saving.\n",
      "/usr/lib/python3/dist-packages/requests/__init__.py:87: RequestsDependencyWarning: urllib3 (2.2.1) or chardet (4.0.0) doesn't match a supported version!\n",
      "  warnings.warn(\"urllib3 ({}) or chardet ({}) doesn't match a supported \"\n",
      "\u001b[34m\u001b[1mwandb\u001b[0m: Currently logged in as: \u001b[33mmaximelkin14\u001b[0m. Use \u001b[1m`wandb login --relogin`\u001b[0m to force relogin\n"
     ]
    },
    {
     "data": {
      "text/html": [
       "Tracking run with wandb version 0.16.6"
      ],
      "text/plain": [
       "<IPython.core.display.HTML object>"
      ]
     },
     "metadata": {},
     "output_type": "display_data"
    },
    {
     "data": {
      "text/html": [
       "Run data is saved locally in <code>/home/maxim/Study/Sirius/Sirius/wandb/run-20240408_215030-cfdzpasz</code>"
      ],
      "text/plain": [
       "<IPython.core.display.HTML object>"
      ]
     },
     "metadata": {},
     "output_type": "display_data"
    },
    {
     "data": {
      "text/html": [
       "Syncing run <strong><a href='https://wandb.ai/maximelkin14/Sirius/runs/cfdzpasz' target=\"_blank\">misunderstood-frog-2</a></strong> to <a href='https://wandb.ai/maximelkin14/Sirius' target=\"_blank\">Weights & Biases</a> (<a href='https://wandb.me/run' target=\"_blank\">docs</a>)<br/>"
      ],
      "text/plain": [
       "<IPython.core.display.HTML object>"
      ]
     },
     "metadata": {},
     "output_type": "display_data"
    },
    {
     "data": {
      "text/html": [
       " View project at <a href='https://wandb.ai/maximelkin14/Sirius' target=\"_blank\">https://wandb.ai/maximelkin14/Sirius</a>"
      ],
      "text/plain": [
       "<IPython.core.display.HTML object>"
      ]
     },
     "metadata": {},
     "output_type": "display_data"
    },
    {
     "data": {
      "text/html": [
       " View run at <a href='https://wandb.ai/maximelkin14/Sirius/runs/cfdzpasz' target=\"_blank\">https://wandb.ai/maximelkin14/Sirius/runs/cfdzpasz</a>"
      ],
      "text/plain": [
       "<IPython.core.display.HTML object>"
      ]
     },
     "metadata": {},
     "output_type": "display_data"
    },
    {
     "name": "stdout",
     "output_type": "stream",
     "text": [
      "Epoch 0\n",
      " train loss: 1.451125722371682, train acc: 0.4825101201358057\n",
      " val loss: 1.245368905777627, val acc: 0.5592641843971631\n",
      "Current learning rate: 0.1\n",
      "\n",
      "Epoch 1\n",
      " train loss: 1.1583518928540035, train acc: 0.5950354204753199\n",
      " val loss: 1.1615544055370575, val acc: 0.5978501773049646\n",
      "Current learning rate: 0.1\n",
      "\n",
      "Epoch 2\n",
      " train loss: 1.0545518056130279, train acc: 0.6346630974144685\n",
      " val loss: 1.1163725586647684, val acc: 0.6110372340425532\n",
      "Current learning rate: 0.1\n",
      "\n"
     ]
    },
    {
     "ename": "KeyboardInterrupt",
     "evalue": "",
     "output_type": "error",
     "traceback": [
      "\u001b[0;31m---------------------------------------------------------------------------\u001b[0m",
      "\u001b[0;31mKeyboardInterrupt\u001b[0m                         Traceback (most recent call last)",
      "Cell \u001b[0;32mIn[10], line 3\u001b[0m\n\u001b[1;32m      1\u001b[0m wandb\u001b[38;5;241m.\u001b[39minit()\n\u001b[1;32m      2\u001b[0m optimizer \u001b[38;5;241m=\u001b[39m optim\u001b[38;5;241m.\u001b[39mSGD(net\u001b[38;5;241m.\u001b[39mparameters(), lr\u001b[38;5;241m=\u001b[39m\u001b[38;5;241m0.1\u001b[39m, momentum\u001b[38;5;241m=\u001b[39m\u001b[38;5;241m0.9\u001b[39m)\n\u001b[0;32m----> 3\u001b[0m train_loss_log, train_acc_log, val_loss_log, val_acc_log \u001b[38;5;241m=\u001b[39m \u001b[43mtrain\u001b[49m\u001b[43m(\u001b[49m\u001b[43mnet\u001b[49m\u001b[43m,\u001b[49m\u001b[43m \u001b[49m\u001b[43moptimizer\u001b[49m\u001b[43m,\u001b[49m\u001b[43m \u001b[49m\u001b[38;5;241;43m20\u001b[39;49m\u001b[43m,\u001b[49m\u001b[43m \u001b[49m\u001b[43mtrain_loader\u001b[49m\u001b[43m,\u001b[49m\u001b[43m \u001b[49m\u001b[43mval_loader\u001b[49m\u001b[43m,\u001b[49m\u001b[43m \u001b[49m\u001b[43mmodel_name\u001b[49m\u001b[38;5;241;43m=\u001b[39;49m\u001b[38;5;124;43m'\u001b[39;49m\u001b[38;5;124;43mbaseline_wandb.pt\u001b[39;49m\u001b[38;5;124;43m'\u001b[39;49m\u001b[43m)\u001b[49m\n\u001b[1;32m      4\u001b[0m wandb\u001b[38;5;241m.\u001b[39mfinish() \n",
      "Cell \u001b[0;32mIn[9], line 47\u001b[0m, in \u001b[0;36mtrain\u001b[0;34m(model, optimizer, n_epochs, train_loader, val_loader, model_name, scheduler)\u001b[0m\n\u001b[1;32m     44\u001b[0m train_loss_log, train_acc_log, val_loss_log, val_acc_log \u001b[38;5;241m=\u001b[39m [], [], [], []\n\u001b[1;32m     46\u001b[0m \u001b[38;5;28;01mfor\u001b[39;00m epoch \u001b[38;5;129;01min\u001b[39;00m \u001b[38;5;28mrange\u001b[39m(n_epochs):\n\u001b[0;32m---> 47\u001b[0m     train_loss, train_acc \u001b[38;5;241m=\u001b[39m \u001b[43mtrain_epoch\u001b[49m\u001b[43m(\u001b[49m\u001b[43mmodel\u001b[49m\u001b[43m,\u001b[49m\u001b[43m \u001b[49m\u001b[43moptimizer\u001b[49m\u001b[43m,\u001b[49m\u001b[43m \u001b[49m\u001b[43mtrain_loader\u001b[49m\u001b[43m)\u001b[49m\n\u001b[1;32m     48\u001b[0m     val_loss, val_acc \u001b[38;5;241m=\u001b[39m test(model, val_loader)\n\u001b[1;32m     50\u001b[0m     train_loss_log\u001b[38;5;241m.\u001b[39mextend(train_loss)\n",
      "Cell \u001b[0;32mIn[9], line 31\u001b[0m, in \u001b[0;36mtrain_epoch\u001b[0;34m(model, optimizer, train_loader)\u001b[0m\n\u001b[1;32m     29\u001b[0m output \u001b[38;5;241m=\u001b[39m model(data)\n\u001b[1;32m     30\u001b[0m loss \u001b[38;5;241m=\u001b[39m F\u001b[38;5;241m.\u001b[39mcross_entropy(output, target)\n\u001b[0;32m---> 31\u001b[0m \u001b[43mloss\u001b[49m\u001b[38;5;241;43m.\u001b[39;49m\u001b[43mbackward\u001b[49m\u001b[43m(\u001b[49m\u001b[43m)\u001b[49m\n\u001b[1;32m     32\u001b[0m optimizer\u001b[38;5;241m.\u001b[39mstep()\n\u001b[1;32m     34\u001b[0m loss_log\u001b[38;5;241m.\u001b[39mappend(loss\u001b[38;5;241m.\u001b[39mitem())\n",
      "File \u001b[0;32m~/.local/lib/python3.10/site-packages/torch/_tensor.py:463\u001b[0m, in \u001b[0;36mTensor.backward\u001b[0;34m(self, gradient, retain_graph, create_graph, inputs)\u001b[0m\n\u001b[1;32m    460\u001b[0m     \u001b[38;5;66;03m# All strings are unicode in Python 3.\u001b[39;00m\n\u001b[1;32m    461\u001b[0m     \u001b[38;5;28;01mreturn\u001b[39;00m torch\u001b[38;5;241m.\u001b[39m_tensor_str\u001b[38;5;241m.\u001b[39m_str(\u001b[38;5;28mself\u001b[39m, tensor_contents\u001b[38;5;241m=\u001b[39mtensor_contents)\n\u001b[0;32m--> 463\u001b[0m \u001b[38;5;28;01mdef\u001b[39;00m \u001b[38;5;21mbackward\u001b[39m(\n\u001b[1;32m    464\u001b[0m     \u001b[38;5;28mself\u001b[39m, gradient\u001b[38;5;241m=\u001b[39m\u001b[38;5;28;01mNone\u001b[39;00m, retain_graph\u001b[38;5;241m=\u001b[39m\u001b[38;5;28;01mNone\u001b[39;00m, create_graph\u001b[38;5;241m=\u001b[39m\u001b[38;5;28;01mFalse\u001b[39;00m, inputs\u001b[38;5;241m=\u001b[39m\u001b[38;5;28;01mNone\u001b[39;00m\n\u001b[1;32m    465\u001b[0m ):\n\u001b[1;32m    466\u001b[0m     \u001b[38;5;124mr\u001b[39m\u001b[38;5;124;03m\"\"\"Computes the gradient of current tensor wrt graph leaves.\u001b[39;00m\n\u001b[1;32m    467\u001b[0m \n\u001b[1;32m    468\u001b[0m \u001b[38;5;124;03m    The graph is differentiated using the chain rule. If the tensor is\u001b[39;00m\n\u001b[0;32m   (...)\u001b[0m\n\u001b[1;32m    510\u001b[0m \u001b[38;5;124;03m            used to compute the attr::tensors.\u001b[39;00m\n\u001b[1;32m    511\u001b[0m \u001b[38;5;124;03m    \"\"\"\u001b[39;00m\n\u001b[1;32m    512\u001b[0m     \u001b[38;5;28;01mif\u001b[39;00m has_torch_function_unary(\u001b[38;5;28mself\u001b[39m):\n",
      "\u001b[0;31mKeyboardInterrupt\u001b[0m: "
     ]
    }
   ],
   "source": [
    "wandb.init()\n",
    "optimizer = optim.SGD(net.parameters(), lr=0.1, momentum=0.9)\n",
    "train_loss_log, train_acc_log, val_loss_log, val_acc_log = train(net, optimizer, 20, train_loader, val_loader, model_name='baseline_wandb.pt')\n",
    "wandb.finish() "
   ]
  }
 ],
 "metadata": {
  "accelerator": "GPU",
  "colab": {
   "collapsed_sections": [],
   "provenance": []
  },
  "kernelspec": {
   "display_name": "Python 3 (ipykernel)",
   "language": "python",
   "name": "python3"
  },
  "language_info": {
   "codemirror_mode": {
    "name": "ipython",
    "version": 3
   },
   "file_extension": ".py",
   "mimetype": "text/x-python",
   "name": "python",
   "nbconvert_exporter": "python",
   "pygments_lexer": "ipython3",
   "version": "3.10.12"
  },
  "toc": {
   "base_numbering": 1,
   "nav_menu": {},
   "number_sections": true,
   "sideBar": true,
   "skip_h1_title": false,
   "title_cell": "Table of Contents",
   "title_sidebar": "Contents",
   "toc_cell": false,
   "toc_position": {},
   "toc_section_display": true,
   "toc_window_display": false
  },
  "varInspector": {
   "cols": {
    "lenName": 16,
    "lenType": 16,
    "lenVar": 40
   },
   "kernels_config": {
    "python": {
     "delete_cmd_postfix": "",
     "delete_cmd_prefix": "del ",
     "library": "var_list.py",
     "varRefreshCmd": "print(var_dic_list())"
    },
    "r": {
     "delete_cmd_postfix": ") ",
     "delete_cmd_prefix": "rm(",
     "library": "var_list.r",
     "varRefreshCmd": "cat(var_dic_list()) "
    }
   },
   "types_to_exclude": [
    "module",
    "function",
    "builtin_function_or_method",
    "instance",
    "_Feature"
   ],
   "window_display": false
  },
  "widgets": {
   "application/vnd.jupyter.widget-state+json": {
    "0fee9f5b7bdb4129a71ef0cfe9d3b1fa": {
     "model_module": "@jupyter-widgets/controls",
     "model_module_version": "1.5.0",
     "model_name": "ProgressStyleModel",
     "state": {
      "_model_module": "@jupyter-widgets/controls",
      "_model_module_version": "1.5.0",
      "_model_name": "ProgressStyleModel",
      "_view_count": null,
      "_view_module": "@jupyter-widgets/base",
      "_view_module_version": "1.2.0",
      "_view_name": "StyleView",
      "bar_color": null,
      "description_width": ""
     }
    },
    "17b2be81159e41f1a5c6bb966516572e": {
     "model_module": "@jupyter-widgets/base",
     "model_module_version": "1.2.0",
     "model_name": "LayoutModel",
     "state": {
      "_model_module": "@jupyter-widgets/base",
      "_model_module_version": "1.2.0",
      "_model_name": "LayoutModel",
      "_view_count": null,
      "_view_module": "@jupyter-widgets/base",
      "_view_module_version": "1.2.0",
      "_view_name": "LayoutView",
      "align_content": null,
      "align_items": null,
      "align_self": null,
      "border": null,
      "bottom": null,
      "display": null,
      "flex": null,
      "flex_flow": null,
      "grid_area": null,
      "grid_auto_columns": null,
      "grid_auto_flow": null,
      "grid_auto_rows": null,
      "grid_column": null,
      "grid_gap": null,
      "grid_row": null,
      "grid_template_areas": null,
      "grid_template_columns": null,
      "grid_template_rows": null,
      "height": null,
      "justify_content": null,
      "justify_items": null,
      "left": null,
      "margin": null,
      "max_height": null,
      "max_width": null,
      "min_height": null,
      "min_width": null,
      "object_fit": null,
      "object_position": null,
      "order": null,
      "overflow": null,
      "overflow_x": null,
      "overflow_y": null,
      "padding": null,
      "right": null,
      "top": null,
      "visibility": null,
      "width": null
     }
    },
    "18b20091dbf64b129824a8fb3266e3c0": {
     "model_module": "@jupyter-widgets/controls",
     "model_module_version": "1.5.0",
     "model_name": "DescriptionStyleModel",
     "state": {
      "_model_module": "@jupyter-widgets/controls",
      "_model_module_version": "1.5.0",
      "_model_name": "DescriptionStyleModel",
      "_view_count": null,
      "_view_module": "@jupyter-widgets/base",
      "_view_module_version": "1.2.0",
      "_view_name": "StyleView",
      "description_width": ""
     }
    },
    "22bb21a6c57a413fb7374efe31349e6e": {
     "model_module": "@jupyter-widgets/base",
     "model_module_version": "1.2.0",
     "model_name": "LayoutModel",
     "state": {
      "_model_module": "@jupyter-widgets/base",
      "_model_module_version": "1.2.0",
      "_model_name": "LayoutModel",
      "_view_count": null,
      "_view_module": "@jupyter-widgets/base",
      "_view_module_version": "1.2.0",
      "_view_name": "LayoutView",
      "align_content": null,
      "align_items": null,
      "align_self": null,
      "border": null,
      "bottom": null,
      "display": null,
      "flex": null,
      "flex_flow": null,
      "grid_area": null,
      "grid_auto_columns": null,
      "grid_auto_flow": null,
      "grid_auto_rows": null,
      "grid_column": null,
      "grid_gap": null,
      "grid_row": null,
      "grid_template_areas": null,
      "grid_template_columns": null,
      "grid_template_rows": null,
      "height": null,
      "justify_content": null,
      "justify_items": null,
      "left": null,
      "margin": null,
      "max_height": null,
      "max_width": null,
      "min_height": null,
      "min_width": null,
      "object_fit": null,
      "object_position": null,
      "order": null,
      "overflow": null,
      "overflow_x": null,
      "overflow_y": null,
      "padding": null,
      "right": null,
      "top": null,
      "visibility": null,
      "width": null
     }
    },
    "7d238166caf64537ad9aa2040dcdc1ec": {
     "model_module": "@jupyter-widgets/controls",
     "model_module_version": "1.5.0",
     "model_name": "DescriptionStyleModel",
     "state": {
      "_model_module": "@jupyter-widgets/controls",
      "_model_module_version": "1.5.0",
      "_model_name": "DescriptionStyleModel",
      "_view_count": null,
      "_view_module": "@jupyter-widgets/base",
      "_view_module_version": "1.2.0",
      "_view_name": "StyleView",
      "description_width": ""
     }
    },
    "95c5696493db48738dbdc9940acec1d8": {
     "model_module": "@jupyter-widgets/controls",
     "model_module_version": "1.5.0",
     "model_name": "HTMLModel",
     "state": {
      "_dom_classes": [],
      "_model_module": "@jupyter-widgets/controls",
      "_model_module_version": "1.5.0",
      "_model_name": "HTMLModel",
      "_view_count": null,
      "_view_module": "@jupyter-widgets/controls",
      "_view_module_version": "1.5.0",
      "_view_name": "HTMLView",
      "description": "",
      "description_tooltip": null,
      "layout": "IPY_MODEL_22bb21a6c57a413fb7374efe31349e6e",
      "placeholder": "​",
      "style": "IPY_MODEL_18b20091dbf64b129824a8fb3266e3c0",
      "value": "100%"
     }
    },
    "9bad0d6a00c14229b0d776a2cfe15090": {
     "model_module": "@jupyter-widgets/base",
     "model_module_version": "1.2.0",
     "model_name": "LayoutModel",
     "state": {
      "_model_module": "@jupyter-widgets/base",
      "_model_module_version": "1.2.0",
      "_model_name": "LayoutModel",
      "_view_count": null,
      "_view_module": "@jupyter-widgets/base",
      "_view_module_version": "1.2.0",
      "_view_name": "LayoutView",
      "align_content": null,
      "align_items": null,
      "align_self": null,
      "border": null,
      "bottom": null,
      "display": null,
      "flex": null,
      "flex_flow": null,
      "grid_area": null,
      "grid_auto_columns": null,
      "grid_auto_flow": null,
      "grid_auto_rows": null,
      "grid_column": null,
      "grid_gap": null,
      "grid_row": null,
      "grid_template_areas": null,
      "grid_template_columns": null,
      "grid_template_rows": null,
      "height": null,
      "justify_content": null,
      "justify_items": null,
      "left": null,
      "margin": null,
      "max_height": null,
      "max_width": null,
      "min_height": null,
      "min_width": null,
      "object_fit": null,
      "object_position": null,
      "order": null,
      "overflow": null,
      "overflow_x": null,
      "overflow_y": null,
      "padding": null,
      "right": null,
      "top": null,
      "visibility": null,
      "width": null
     }
    },
    "aa9da821ba0c42b5b051355e50e691f0": {
     "model_module": "@jupyter-widgets/controls",
     "model_module_version": "1.5.0",
     "model_name": "HBoxModel",
     "state": {
      "_dom_classes": [],
      "_model_module": "@jupyter-widgets/controls",
      "_model_module_version": "1.5.0",
      "_model_name": "HBoxModel",
      "_view_count": null,
      "_view_module": "@jupyter-widgets/controls",
      "_view_module_version": "1.5.0",
      "_view_name": "HBoxView",
      "box_style": "",
      "children": [
       "IPY_MODEL_95c5696493db48738dbdc9940acec1d8",
       "IPY_MODEL_fe515a1f743f49d0b251b43919d52a8e",
       "IPY_MODEL_f4f339c969fd4e21bc683ecb2567897b"
      ],
      "layout": "IPY_MODEL_17b2be81159e41f1a5c6bb966516572e"
     }
    },
    "cd991379661b4b4ab405bf66f75c6834": {
     "model_module": "@jupyter-widgets/base",
     "model_module_version": "1.2.0",
     "model_name": "LayoutModel",
     "state": {
      "_model_module": "@jupyter-widgets/base",
      "_model_module_version": "1.2.0",
      "_model_name": "LayoutModel",
      "_view_count": null,
      "_view_module": "@jupyter-widgets/base",
      "_view_module_version": "1.2.0",
      "_view_name": "LayoutView",
      "align_content": null,
      "align_items": null,
      "align_self": null,
      "border": null,
      "bottom": null,
      "display": null,
      "flex": null,
      "flex_flow": null,
      "grid_area": null,
      "grid_auto_columns": null,
      "grid_auto_flow": null,
      "grid_auto_rows": null,
      "grid_column": null,
      "grid_gap": null,
      "grid_row": null,
      "grid_template_areas": null,
      "grid_template_columns": null,
      "grid_template_rows": null,
      "height": null,
      "justify_content": null,
      "justify_items": null,
      "left": null,
      "margin": null,
      "max_height": null,
      "max_width": null,
      "min_height": null,
      "min_width": null,
      "object_fit": null,
      "object_position": null,
      "order": null,
      "overflow": null,
      "overflow_x": null,
      "overflow_y": null,
      "padding": null,
      "right": null,
      "top": null,
      "visibility": null,
      "width": null
     }
    },
    "f4f339c969fd4e21bc683ecb2567897b": {
     "model_module": "@jupyter-widgets/controls",
     "model_module_version": "1.5.0",
     "model_name": "HTMLModel",
     "state": {
      "_dom_classes": [],
      "_model_module": "@jupyter-widgets/controls",
      "_model_module_version": "1.5.0",
      "_model_name": "HTMLModel",
      "_view_count": null,
      "_view_module": "@jupyter-widgets/controls",
      "_view_module_version": "1.5.0",
      "_view_name": "HTMLView",
      "description": "",
      "description_tooltip": null,
      "layout": "IPY_MODEL_cd991379661b4b4ab405bf66f75c6834",
      "placeholder": "​",
      "style": "IPY_MODEL_7d238166caf64537ad9aa2040dcdc1ec",
      "value": " 170498071/170498071 [00:13&lt;00:00, 13339884.37it/s]"
     }
    },
    "fe515a1f743f49d0b251b43919d52a8e": {
     "model_module": "@jupyter-widgets/controls",
     "model_module_version": "1.5.0",
     "model_name": "FloatProgressModel",
     "state": {
      "_dom_classes": [],
      "_model_module": "@jupyter-widgets/controls",
      "_model_module_version": "1.5.0",
      "_model_name": "FloatProgressModel",
      "_view_count": null,
      "_view_module": "@jupyter-widgets/controls",
      "_view_module_version": "1.5.0",
      "_view_name": "ProgressView",
      "bar_style": "success",
      "description": "",
      "description_tooltip": null,
      "layout": "IPY_MODEL_9bad0d6a00c14229b0d776a2cfe15090",
      "max": 170498071,
      "min": 0,
      "orientation": "horizontal",
      "style": "IPY_MODEL_0fee9f5b7bdb4129a71ef0cfe9d3b1fa",
      "value": 170498071
     }
    }
   }
  }
 },
 "nbformat": 4,
 "nbformat_minor": 4
}
