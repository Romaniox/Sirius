{
 "cells": [
  {
   "cell_type": "markdown",
   "metadata": {
    "id": "w35Q6hOIy4sk"
   },
   "source": [
    "<div class=\"alert alert-success\">\n",
    "    \n",
    "## Домашнее задание №5: сверточный классификатор.\n",
    "\n",
    "### Общая информация\n",
    "\n",
    "Дату мягкого и жесткого дедлайна см. на стр. в `notion`\n",
    "\n",
    "### Оценивание и штрафы\n",
    "Максимально допустимая оценка за работу — 10 баллов. За каждый день просрочки снимается 1 балл. Сдавать задание после жёсткого дедлайна сдачи нельзя.\n",
    "\n",
    "Задание выполняется самостоятельно. «Похожие» решения считаются плагиатом и все задействованные студенты (в том числе те, у кого списали) не могут получить за него больше 0 баллов. Если вы нашли решение какого-то из заданий (или его часть) в открытом источнике, необходимо указать ссылку на этот источник в отдельном блоке в конце вашей работы (скорее всего вы будете не единственным, кто это нашел, поэтому чтобы исключить подозрение в плагиате, необходима ссылка на источник).\n",
    "\n",
    "Неэффективная реализация кода может негативно отразиться на оценке.\n",
    "Также оценка может быть снижена за плохо читаемый код и плохо оформленные графики. Все ответы должны сопровождаться кодом или комментариями о том, как они были получены.\n",
    "\n",
    "**Если вы отправляете своё решение после мягкого дедлайна просим отписывать проверяющему в личные сообщения в тг о том, что загрузили решение в гугл форму.**\n",
    "\n",
    "### Оценивание и штрафы\n",
    "\n",
    "Максимально допустимая оценка за работу — 10 баллов. Сдача задания после жесткого дедлайна приведет к умножению вашего результата на коэффициент 0.4, что значительно снижает итоговый результат. \n",
    "\n",
    "Задание выполняется самостоятельно. «Похожие» решения считаются плагиатом и все задействованные студенты (в том числе те, у кого списали) не могут получить за него больше 0 баллов. Обсуждать задачи вместе можно, но тогда напишите, с кем обсуждали задачу. Если вы нашли решение какого-то из заданий (или его часть) в открытом источнике, необходимо указать ссылку на этот источник в отдельном блоке в конце вашей работы (скорее всего вы будете не единственным, кто это нашел, поэтому чтобы исключить подозрение в плагиате, необходима ссылка на источник).\n",
    "\n",
    "Неэффективная реализация кода может негативно отразиться на оценке. Также оценка может быть снижена за плохо читаемый код и плохо оформленные графики. \n",
    "\n",
    "**Все ответы должны сопровождаться кодом или комментариями о том, как они были получены.**\n",
    "\n",
    "### О задании\n",
    "\n",
    "В этом задании вам предстоит познакомиться со сверточными сетями и их обучением для классификации изображений с использованием библиотеки PyTorch.\n"
   ]
  },
  {
   "cell_type": "code",
   "execution_count": 26,
   "metadata": {
    "id": "SaACifdX2QOo"
   },
   "outputs": [],
   "source": [
    "import torch\n",
    "import torch.nn as nn\n",
    "import torch.nn.functional as F\n",
    "import torch.optim as optim\n",
    "import torchvision\n",
    "import torchvision.transforms as transforms\n",
    "\n",
    "import matplotlib.pyplot as plt\n",
    "import numpy as np\n",
    "\n",
    "from sklearn.model_selection import train_test_split"
   ]
  },
  {
   "cell_type": "markdown",
   "metadata": {
    "id": "TIXaUYM-0JFl"
   },
   "source": [
    "## 0. Загрузка данных\n",
    "\n",
    "Работать мы будем с набором данных [CIFAR10](https://www.cs.toronto.edu/~kriz/cifar.html). CIFAR10 представляет собой набор изображений 32х32 пикселя, разделенных на 10 классов.\n",
    "\n",
    "![title](https://pytorch.org/tutorials/_images/cifar10.png)\n",
    "\n",
    "\n"
   ]
  },
  {
   "cell_type": "markdown",
   "metadata": {
    "id": "g-0EEjl_10vB"
   },
   "source": [
    "Набор данных уже определен в <code>torchvision.datasets</code>, так что возьмем его оттуда. \n",
    "\n"
   ]
  },
  {
   "cell_type": "code",
   "execution_count": 27,
   "metadata": {
    "id": "Cbwe92dT3aPZ"
   },
   "outputs": [],
   "source": [
    "def get_cifar10_data(batch_size, transform_train):\n",
    "    torch.manual_seed(0)\n",
    "    np.random.seed(0)\n",
    "\n",
    "    transform_test = transforms.Compose(\n",
    "        [transforms.ToTensor(),\n",
    "         # Переводим цвета пикселей в отрезок [-1, 1]\n",
    "         transforms.Normalize((0.5, 0.5, 0.5), (0.5, 0.5, 0.5))]\n",
    "    )\n",
    "    \n",
    "    # Загружаем данные\n",
    "    trainvalset = torchvision.datasets.CIFAR10(root='./data', train=True,\n",
    "                                               download=True, transform=transform_train)\n",
    "    testset = torchvision.datasets.CIFAR10(root='./data', train=False,\n",
    "                                           download=True, transform=transform_test)\n",
    "    \n",
    "    # В датасете определено разбиение только на train и test,\n",
    "    # так что валидацию дополнительно выделяем из обучающей выборки\n",
    "    train_idx, valid_idx = train_test_split(np.arange(len(trainvalset)), test_size=0.3, \n",
    "                                            shuffle=True, random_state=0)\n",
    "    trainset = torch.utils.data.Subset(trainvalset, train_idx)\n",
    "    valset = torch.utils.data.Subset(trainvalset, valid_idx)\n",
    "\n",
    "    train_loader = torch.utils.data.DataLoader(trainset, batch_size=batch_size,\n",
    "                                               shuffle=True, num_workers=8)\n",
    "    val_loader = torch.utils.data.DataLoader(valset, batch_size=batch_size,\n",
    "                                             shuffle=False, num_workers=8)\n",
    "    test_loader = torch.utils.data.DataLoader(testset, batch_size=batch_size,\n",
    "                                              shuffle=False, num_workers=8)\n",
    "    \n",
    "    return train_loader, val_loader, test_loader\n",
    "    "
   ]
  },
  {
   "cell_type": "code",
   "execution_count": 28,
   "metadata": {
    "colab": {
     "base_uri": "https://localhost:8080/",
     "height": 101,
     "referenced_widgets": [
      "aa9da821ba0c42b5b051355e50e691f0",
      "95c5696493db48738dbdc9940acec1d8",
      "fe515a1f743f49d0b251b43919d52a8e",
      "f4f339c969fd4e21bc683ecb2567897b",
      "17b2be81159e41f1a5c6bb966516572e",
      "22bb21a6c57a413fb7374efe31349e6e",
      "18b20091dbf64b129824a8fb3266e3c0",
      "9bad0d6a00c14229b0d776a2cfe15090",
      "0fee9f5b7bdb4129a71ef0cfe9d3b1fa",
      "cd991379661b4b4ab405bf66f75c6834",
      "7d238166caf64537ad9aa2040dcdc1ec"
     ]
    },
    "id": "2G2rLnN5y6Jj",
    "outputId": "542c91e6-44f6-4e26-f1e8-5df3b83fd044"
   },
   "outputs": [
    {
     "name": "stdout",
     "output_type": "stream",
     "text": [
      "Files already downloaded and verified\n",
      "Files already downloaded and verified\n"
     ]
    }
   ],
   "source": [
    "transform = transforms.Compose(\n",
    "        [transforms.ToTensor(),\n",
    "         transforms.Normalize((0.5, 0.5, 0.5), (0.5, 0.5, 0.5))]\n",
    ")\n",
    "\n",
    "train_loader, val_loader, test_loader = get_cifar10_data(batch_size=64,\n",
    "                                                         transform_train=transform)"
   ]
  },
  {
   "cell_type": "markdown",
   "metadata": {
    "id": "-82HWgXs77W1"
   },
   "source": [
    "Посмотрим на изображения:"
   ]
  },
  {
   "cell_type": "code",
   "execution_count": 29,
   "metadata": {
    "colab": {
     "base_uri": "https://localhost:8080/",
     "height": 155
    },
    "id": "ACnwaC5iy6L2",
    "outputId": "fd2fc631-ea7b-45f2-9728-eb1c5f9e683c"
   },
   "outputs": [
    {
     "data": {
      "image/png": "[encoded data removed]",
      "text/plain": [
       "<Figure size 640x480 with 1 Axes>"
      ]
     },
     "metadata": {},
     "output_type": "display_data"
    },
    {
     "name": "stdout",
     "output_type": "stream",
     "text": [
      "ship frog horse horse\n"
     ]
    }
   ],
   "source": [
    "def imshow(img):\n",
    "    img = img / 2 + 0.5    \n",
    "    npimg = img.numpy()\n",
    "    plt.imshow(np.transpose(npimg, (1, 2, 0)))\n",
    "    plt.show()\n",
    "\n",
    "\n",
    "dataiter = iter(train_loader)\n",
    "images, labels = next(dataiter)\n",
    "\n",
    "imshow(torchvision.utils.make_grid(images[:4]))\n",
    "\n",
    "classes = ('plane', 'car', 'bird', 'cat',\n",
    "           'deer', 'dog', 'frog', 'horse', 'ship', 'truck')\n",
    "print(*[classes[labels[i]] for i in range(4)])"
   ]
  },
  {
   "cell_type": "markdown",
   "metadata": {
    "id": "KFDilng29YZ_"
   },
   "source": [
    "## 1. Задание сверточной сети (3 балла)"
   ]
  },
  {
   "cell_type": "markdown",
   "metadata": {
    "id": "OX7Ul8YbYdQR"
   },
   "source": [
    "Теперь нам нужно задать сверточную нейронную сеть, которую мы будем обучать классифицировать изображения.\n",
    "\n",
    "Используем сеть, основанную на одном блоке архитектуры ResNet.\n",
    "\n",
    "<img src=\"https://i.ibb.co/2hg962h/basic-block.png\" width=\"500\"/>\n",
    "\n",
    "__Указания:__\n",
    "\n",
    "- Все сверточные слои должны иметь 32 выходных канала, а также не должны изменять ширину и высоту изображения.\n",
    "- Выход блока сократите до размерности 32х4х4, применив average pooling.\n",
    "- Для получения итоговых логитов, распрямите выход пулинга в вектор из 512 элементов, а затем пропустите его через линейный слой."
   ]
  },
  {
   "cell_type": "markdown",
   "metadata": {
    "id": "sbyIylT9O9Dr"
   },
   "source": [
    "**Задание 1.1 (3 балла).**\n",
    "\n",
    "Определите архитектуру сети соответственно схеме и указаниям выше.\n",
    "\n",
    "Ключевые слова: <code>Conv2d</code>, <code>BatchNorm2d</code>, <code>AvgPool2d</code>."
   ]
  },
  {
   "cell_type": "code",
   "execution_count": 30,
   "metadata": {
    "id": "s9ml1QGKy6N9"
   },
   "outputs": [],
   "source": [
    "n_classes = 10\n",
    "\n",
    "\n",
    "class BasicBlockNet(nn.Module):\n",
    "\n",
    "    def __init__(self):\n",
    "        super(BasicBlockNet, self).__init__()\n",
    "\n",
    "        self.conv1 = nn.Conv2d(in_channels=3, out_channels=32,\n",
    "                               kernel_size=3, stride=1, padding=1, bias=False)\n",
    "        self.bn1 = nn.BatchNorm2d(32)\n",
    "        self.relu = nn.ReLU(inplace=True)\n",
    "        self.conv2 = nn.Conv2d(in_channels=32, out_channels=32,\n",
    "                               kernel_size=3, stride=1, padding=1, bias=False)\n",
    "        self.bn2 = nn.BatchNorm2d(32)\n",
    "\n",
    "        self.shortcut = nn.Conv2d(\n",
    "            in_channels=3, out_channels=32, kernel_size=1, stride=1, bias=False)\n",
    "\n",
    "        self.avg_pool = nn.AvgPool2d(kernel_size=8)\n",
    "\n",
    "        self.fc = nn.Linear(32 * 4 * 4, n_classes)\n",
    "\n",
    "    def forward(self, x):\n",
    "        skip_connection_res = self.shortcut(x)\n",
    "\n",
    "        out = self.conv1(x)\n",
    "        out = self.bn1(out)\n",
    "        out = self.relu(out)\n",
    "\n",
    "        out = self.conv2(out)\n",
    "        out = self.bn2(out)\n",
    "\n",
    "        out += skip_connection_res\n",
    "        out = self.relu(out)\n",
    "\n",
    "\n",
    "        out = self.avg_pool(out)\n",
    "        out = out.view(out.size(0), -1)\n",
    "\n",
    "\n",
    "        out = self.fc(out)\n",
    "\n",
    "        return out"
   ]
  },
  {
   "cell_type": "code",
   "execution_count": 31,
   "metadata": {
    "id": "FI4BQg7Ky6Pw"
   },
   "outputs": [
    {
     "data": {
      "text/plain": [
       "BasicBlockNet(\n",
       "  (conv1): Conv2d(3, 32, kernel_size=(3, 3), stride=(1, 1), padding=(1, 1), bias=False)\n",
       "  (bn1): BatchNorm2d(32, eps=1e-05, momentum=0.1, affine=True, track_running_stats=True)\n",
       "  (relu): ReLU(inplace=True)\n",
       "  (conv2): Conv2d(32, 32, kernel_size=(3, 3), stride=(1, 1), padding=(1, 1), bias=False)\n",
       "  (bn2): BatchNorm2d(32, eps=1e-05, momentum=0.1, affine=True, track_running_stats=True)\n",
       "  (shortcut): Conv2d(3, 32, kernel_size=(1, 1), stride=(1, 1), bias=False)\n",
       "  (avg_pool): AvgPool2d(kernel_size=8, stride=8, padding=0)\n",
       "  (fc): Linear(in_features=512, out_features=10, bias=True)\n",
       ")"
      ]
     },
     "execution_count": 31,
     "metadata": {},
     "output_type": "execute_result"
    }
   ],
   "source": [
    "net = BasicBlockNet()\n",
    "net"
   ]
  },
  {
   "cell_type": "code",
   "execution_count": 32,
   "metadata": {},
   "outputs": [
    {
     "data": {
      "text/plain": [
       "15434"
      ]
     },
     "execution_count": 32,
     "metadata": {},
     "output_type": "execute_result"
    }
   ],
   "source": [
    "# Количество параметров в модели\n",
    "sum(p.numel() for p in net.parameters() if p.requires_grad)"
   ]
  },
  {
   "cell_type": "markdown",
   "metadata": {
    "id": "igPoGZEub8d3"
   },
   "source": [
    "Проверим, что выход сети имеет корректную размерность:"
   ]
  },
  {
   "cell_type": "code",
   "execution_count": 33,
   "metadata": {
    "id": "cCIzFUpJ_Agw"
   },
   "outputs": [],
   "source": [
    "assert net(torch.zeros((10, 3, 32, 32))).shape == (10, 10)"
   ]
  },
  {
   "cell_type": "markdown",
   "metadata": {
    "id": "08osX622cDGz"
   },
   "source": [
    "Чтобы проводить вычисления на GPU, в PyTorch необходимо руками перекладывать объекты, с которыми вы хотите проводить вычисления, на графический ускоритель. Это делается следующим образрм:"
   ]
  },
  {
   "cell_type": "code",
   "execution_count": 34,
   "metadata": {
    "id": "56hDOMCFcDZX"
   },
   "outputs": [
    {
     "name": "stdout",
     "output_type": "stream",
     "text": [
      "cpu\n"
     ]
    }
   ],
   "source": [
    "device = torch.device('cuda:0' if torch.cuda.is_available() else 'cpu')\n",
    "print(device)"
   ]
  },
  {
   "cell_type": "code",
   "execution_count": 35,
   "metadata": {
    "id": "ohnDWbp0qbtC"
   },
   "outputs": [],
   "source": [
    "net = net.to(device)"
   ]
  },
  {
   "cell_type": "markdown",
   "metadata": {
    "id": "H_bOlTVUp5QF"
   },
   "source": [
    "Подключение GPU в google.colab:\n",
    "\n",
    "**Среда выполнения** -> **Сменить среду выполнения** -> **Аппаратный ускоритель** -> **GPU**"
   ]
  },
  {
   "cell_type": "markdown",
   "metadata": {
    "id": "AGi6XX_7_Bgg"
   },
   "source": [
    "## 2. Обучение и тестирование модели (3 балла)"
   ]
  },
  {
   "cell_type": "markdown",
   "metadata": {
    "id": "0agj_MQoO9Ds"
   },
   "source": [
    "**Задание 2.1 (2 балла).** Переходим к обучению модели. Заполните пропуски в функциях <code>test</code> и <code>train_epoch</code>. В качестве функции потерь будем использовать [кросс-энтропию](https://pytorch.org/docs/stable/generated/torch.nn.functional.cross_entropy.html), а в качестве метрики качества accuracy."
   ]
  },
  {
   "cell_type": "code",
   "execution_count": 36,
   "metadata": {
    "id": "g8gsPPRIevDS"
   },
   "outputs": [],
   "source": [
    "def test(model, loader):\n",
    "    loss_log = []\n",
    "    acc_log = []\n",
    "    model.eval()\n",
    "    \n",
    "    for data, target in loader:\n",
    "        output = model(data)\n",
    "        loss = F.cross_entropy(output, target)\n",
    "        loss_log.append(loss.item())\n",
    "\n",
    "        pred = output.argmax(dim=1, keepdim=True)\n",
    "        acc = pred.eq(target.view_as(pred)).sum().item() / target.size(0)\n",
    "        acc_log.append(acc)\n",
    "        \n",
    "    return np.mean(loss_log), np.mean(acc_log)\n",
    "\n",
    "\n",
    "def train_epoch(model, optimizer, train_loader):\n",
    "    loss_log = []\n",
    "    acc_log = []\n",
    "    model.train()\n",
    "    \n",
    "    for data, target in train_loader:\n",
    "        optimizer.zero_grad()\n",
    "        output = model(data)\n",
    "        loss = F.cross_entropy(output, target)\n",
    "        loss.backward()\n",
    "        optimizer.step()\n",
    "\n",
    "        loss_log.append(loss.item())\n",
    "\n",
    "        pred = output.argmax(dim=1, keepdim=True)\n",
    "        acc = pred.eq(target.view_as(pred)).sum().item() / target.size(0)\n",
    "        acc_log.append(acc)\n",
    "\n",
    "    return loss_log, acc_log\n",
    "\n",
    "\n",
    "def train(model, optimizer, n_epochs, train_loader, val_loader, model_name='model.pt', scheduler=None):\n",
    "    train_loss_log, train_acc_log, val_loss_log, val_acc_log = [], [], [], []\n",
    "\n",
    "    for epoch in range(n_epochs):\n",
    "        train_loss, train_acc = train_epoch(model, optimizer, train_loader)\n",
    "        val_loss, val_acc = test(model, val_loader)\n",
    "        \n",
    "        train_loss_log.extend(train_loss)\n",
    "        train_acc_log.extend(train_acc)\n",
    "        \n",
    "        val_loss_log.append(val_loss)\n",
    "        val_acc_log.append(val_acc)\n",
    "\n",
    "        print(f\"Epoch {epoch}\")\n",
    "        print(f\" train loss: {np.mean(train_loss)}, train acc: {np.mean(train_acc)}\")\n",
    "        print(f\" val loss: {val_loss}, val acc: {val_acc}\")\n",
    "\n",
    "        current_lr = optimizer.param_groups[0]['lr']\n",
    "        print(f\" learning rate: {current_lr}\\n\")\n",
    "        \n",
    "        if scheduler is not None:\n",
    "            if isinstance(scheduler, optim.lr_scheduler.ReduceLROnPlateau):\n",
    "                scheduler.step(val_loss)\n",
    "            else:\n",
    "                scheduler.step()\n",
    "\n",
    "    torch.save(net, model_name)\n",
    "\n",
    "    return train_loss_log, train_acc_log, val_loss_log, val_acc_log"
   ]
  },
  {
   "cell_type": "markdown",
   "metadata": {
    "id": "iSOqk_CAO9Dt"
   },
   "source": [
    "Запустим обучение модели. В качестве оптимизатора будем использовать стохастический градиентный спуск, который является де-факто стандартом в задачах компьютерного зрения (наравне с <code>Adam</code>).\n",
    "\n",
    "__Замечание:__ Для достижения наилучшего качества в нашем случае потребуется обучать модель несколько сотен эпох. Однако в целях экономии вашего времени и сил, во всех экспериментах мы ограничимся 20 эпохами."
   ]
  },
  {
   "cell_type": "code",
   "execution_count": 37,
   "metadata": {
    "id": "MKZBGhuAgMDu",
    "scrolled": true
   },
   "outputs": [
    {
     "name": "stdout",
     "output_type": "stream",
     "text": [
      "Epoch 0\n",
      " train loss: 1.4637714408651348, train acc: 0.4791394620005223\n",
      " val loss: 1.2284870923833644, val acc: 0.5652482269503545\n",
      " learning rate: 0.1\n",
      "\n",
      "Epoch 1\n",
      " train loss: 1.1457245990606724, train acc: 0.6000220357795769\n",
      " val loss: 1.0511777238642916, val acc: 0.6324911347517731\n",
      " learning rate: 0.1\n",
      "\n",
      "Epoch 2\n",
      " train loss: 1.028433048637955, train acc: 0.6403883194045443\n",
      " val loss: 1.0452001049163493, val acc: 0.629122340425532\n",
      " learning rate: 0.1\n",
      "\n",
      "Epoch 3\n",
      " train loss: 0.982027124334297, train acc: 0.6592411530425699\n",
      " val loss: 0.9705964217794703, val acc: 0.663674645390071\n",
      " learning rate: 0.1\n",
      "\n",
      "Epoch 4\n",
      " train loss: 0.9433925686850191, train acc: 0.6723810067902847\n",
      " val loss: 0.9496468262469515, val acc: 0.6669769503546098\n",
      " learning rate: 0.1\n",
      "\n",
      "Epoch 5\n",
      " train loss: 0.913042728109813, train acc: 0.6833458474797597\n",
      " val loss: 1.0122637104480825, val acc: 0.6485150709219859\n",
      " learning rate: 0.1\n",
      "\n",
      "Epoch 6\n",
      " train loss: 0.8918964492337578, train acc: 0.6887323713763384\n",
      " val loss: 0.9848447302554516, val acc: 0.6644060283687944\n",
      " learning rate: 0.1\n",
      "\n",
      "Epoch 7\n",
      " train loss: 0.8693657165471553, train acc: 0.7004562222512405\n",
      " val loss: 0.8994080855491313, val acc: 0.6917109929078014\n",
      " learning rate: 0.1\n",
      "\n",
      "Epoch 8\n",
      " train loss: 0.851601848436666, train acc: 0.7052469639592582\n",
      " val loss: 0.888269675538895, val acc: 0.698293439716312\n",
      " learning rate: 0.1\n",
      "\n",
      "Epoch 9\n",
      " train loss: 0.8287711146217813, train acc: 0.7106375685557587\n",
      " val loss: 0.9410664236291926, val acc: 0.678235815602837\n",
      " learning rate: 0.1\n",
      "\n",
      "Epoch 10\n",
      " train loss: 0.8237292148186476, train acc: 0.7140163880908853\n",
      " val loss: 0.8768097895257017, val acc: 0.6966312056737588\n",
      " learning rate: 0.1\n",
      "\n",
      "Epoch 11\n",
      " train loss: 0.8065629998661265, train acc: 0.7205699921650561\n",
      " val loss: 0.9376485629284635, val acc: 0.6822916666666667\n",
      " learning rate: 0.1\n",
      "\n",
      "Epoch 12\n",
      " train loss: 0.8020899598733598, train acc: 0.7218431705406111\n",
      " val loss: 0.9767654322563334, val acc: 0.6704787234042553\n",
      " learning rate: 0.1\n",
      "\n",
      "Epoch 13\n",
      " train loss: 0.7854569648040061, train acc: 0.7284375816139984\n",
      " val loss: 0.869141255667869, val acc: 0.7038120567375886\n",
      " learning rate: 0.1\n",
      "\n",
      "Epoch 14\n",
      " train loss: 0.781238593447143, train acc: 0.7294699986941761\n",
      " val loss: 0.9512963119973528, val acc: 0.6830452127659574\n",
      " learning rate: 0.1\n",
      "\n",
      "Epoch 15\n",
      " train loss: 0.7647713812875138, train acc: 0.7333140180203709\n",
      " val loss: 0.8709049642086029, val acc: 0.7028147163120566\n",
      " learning rate: 0.1\n",
      "\n",
      "Epoch 16\n",
      " train loss: 0.7634170982693841, train acc: 0.736231718464351\n",
      " val loss: 0.8907067088370627, val acc: 0.6956117021276595\n",
      " learning rate: 0.1\n",
      "\n",
      "Epoch 17\n",
      " train loss: 0.7577612627249967, train acc: 0.7401655131888222\n",
      " val loss: 0.887933409594475, val acc: 0.7036347517730497\n",
      " learning rate: 0.1\n",
      "\n",
      "Epoch 18\n",
      " train loss: 0.7481035169561341, train acc: 0.740459323583181\n",
      " val loss: 0.8890223213966857, val acc: 0.7033909574468085\n",
      " learning rate: 0.1\n",
      "\n",
      "Epoch 19\n",
      " train loss: 0.7372699208298811, train acc: 0.745458180987203\n",
      " val loss: 0.9248731317672324, val acc: 0.6937278368794327\n",
      " learning rate: 0.1\n",
      "\n"
     ]
    }
   ],
   "source": [
    "optimizer = optim.SGD(net.parameters(), lr=0.1, momentum=0.9)\n",
    "train_loss_log, train_acc_log, val_loss_log, val_acc_log = train(net, optimizer, 20, train_loader, val_loader, model_name='baseline_lr01.pt')"
   ]
  },
  {
   "cell_type": "markdown",
   "metadata": {
    "id": "gUb1jQW8O9Dt"
   },
   "source": [
    "Посчитайте точность на тестовой выборке:"
   ]
  },
  {
   "cell_type": "code",
   "execution_count": 38,
   "metadata": {
    "id": "Jyuc55B9_Amc"
   },
   "outputs": [
    {
     "name": "stdout",
     "output_type": "stream",
     "text": [
      "Полученная точность: 68.73009554140127 %\n"
     ]
    }
   ],
   "source": [
    "# <your code here>\n",
    "print(\"Полученная точность:\", test(net, test_loader)[1] * 100,\"%\")"
   ]
  },
  {
   "cell_type": "markdown",
   "metadata": {
    "id": "zM38Q9fwO9Dt"
   },
   "source": [
    "Если вы все сделали правильно, у вас должна была получиться точность $\\ge 67\\%$."
   ]
  },
  {
   "cell_type": "markdown",
   "metadata": {
    "id": "DHFNSKcoO9Dt"
   },
   "source": [
    "**Задание 2.2 (1 балл).** Постройте графики зависимости функции потерь и точности классификации от номера шага оптимизатора. На каждом графике расположите данные и для обучающей и для валидационной выборки, итого у вас должно получиться два графика. Обратите внимание, что на обучающей выборке эти данные считаются по каждому батчу, на валидационной же они считаются по всей выборке раз в эпоху."
   ]
  },
  {
   "cell_type": "code",
   "execution_count": 39,
   "metadata": {},
   "outputs": [
    {
     "data": {
      "image/png": "[encoded data removed]",
      "text/plain": [
       "<Figure size 1400x500 with 2 Axes>"
      ]
     },
     "metadata": {},
     "output_type": "display_data"
    }
   ],
   "source": [
    "batch_steps = list(range(1, len(train_loss_log) + 1))\n",
    "epoch_steps = list(range(1, len(val_loss_log) + 1))\n",
    "\n",
    "val_steps_scaled = [x * (len(train_loss_log) / len(val_loss_log)) for x in epoch_steps]\n",
    "\n",
    "\n",
    "plt.figure(figsize=(14, 5))\n",
    "\n",
    "# Функция потерь\n",
    "plt.subplot(1, 2, 1)\n",
    "plt.plot(batch_steps, train_loss_log, label='Training Loss')\n",
    "plt.plot(val_steps_scaled, val_loss_log, label='Validation Loss', linewidth=2, marker='o')\n",
    "plt.xlabel('Batch Steps')\n",
    "plt.ylabel('Loss')\n",
    "plt.legend()\n",
    "plt.title('Loss during Training')\n",
    "\n",
    "# Точность классификации\n",
    "plt.subplot(1, 2, 2)\n",
    "plt.plot(batch_steps, train_acc_log, label='Training Accuracy')\n",
    "plt.plot(val_steps_scaled, val_acc_log, label='Validation Accuracy', linewidth=2, marker='o')\n",
    "plt.xlabel('Batch Steps')\n",
    "plt.ylabel('Accuracy')\n",
    "plt.legend()\n",
    "plt.title('Accuracy during Training')\n",
    "\n",
    "\n",
    "plt.tight_layout()\n",
    "plt.show()"
   ]
  },
  {
   "cell_type": "markdown",
   "metadata": {
    "id": "_ttOJPj-O9Dt"
   },
   "source": [
    "## 3. Расписание длины шага (2 балла)"
   ]
  },
  {
   "cell_type": "markdown",
   "metadata": {
    "id": "qiz3JstuO9Dt"
   },
   "source": [
    "С первой недели модуля Вы уже должны знать, что сходимость стохастического градиентного спуска мы можем теоретически гарантировать только если будем определенным образом со временем уменьшать длину шага. На практике при обучении нейронных сетей такая техника оказывается очень полезной, однако теоретически обоснованными способами уменьшения длины шага фантазия не ограничивается.\n",
    "\n",
    "Одним из простейших способов является кусочно постоянная функция: на нескольких фиксированных эпохах уменьшаем длину шага в константу раз."
   ]
  },
  {
   "cell_type": "code",
   "execution_count": 40,
   "metadata": {
    "id": "V2Z0OT3nO9Du"
   },
   "outputs": [
    {
     "name": "stdout",
     "output_type": "stream",
     "text": [
      "Epoch 0\n",
      " train loss: 1.4946832963056058, train acc: 0.46661579394097674\n",
      " val loss: 1.3061387883855942, val acc: 0.5364804964539007\n",
      " learning rate: 0.1\n",
      "\n"
     ]
    },
    {
     "name": "stderr",
     "output_type": "stream",
     "text": [
      "/home/maxim/.local/lib/python3.10/site-packages/torch/optim/lr_scheduler.py:156: UserWarning: The epoch parameter in `scheduler.step()` was not necessary and is being deprecated where possible. Please use `scheduler.step()` to step the scheduler. During the deprecation, if epoch is different from None, the closed form is used instead of the new chainable form, where available. Please open an issue if you are unable to replicate your use case: https://github.com/pytorch/pytorch/issues/new/choose.\n",
      "  warnings.warn(EPOCH_DEPRECATION_WARNING, UserWarning)\n"
     ]
    },
    {
     "name": "stdout",
     "output_type": "stream",
     "text": [
      "Epoch 1\n",
      " train loss: 1.2109817774247862, train acc: 0.5727139919038913\n",
      " val loss: 1.1954017568141857, val acc: 0.5678191489361702\n",
      " learning rate: 0.1\n",
      "\n",
      "Epoch 2\n",
      " train loss: 1.0622092944176584, train acc: 0.6262895011752415\n",
      " val loss: 1.1124928289271416, val acc: 0.6229166666666668\n",
      " learning rate: 0.1\n",
      "\n",
      "Epoch 3\n",
      " train loss: 0.9968087633959336, train acc: 0.6510389462000522\n",
      " val loss: 1.055729099283827, val acc: 0.6267952127659574\n",
      " learning rate: 0.1\n",
      "\n",
      "Epoch 4\n",
      " train loss: 0.9565608884996208, train acc: 0.6692674327500653\n",
      " val loss: 0.9874998762252483, val acc: 0.6605718085106383\n",
      " learning rate: 0.1\n",
      "\n",
      "Epoch 5\n",
      " train loss: 0.9245319831741793, train acc: 0.6789876599634369\n",
      " val loss: 0.9787938878891316, val acc: 0.6660904255319149\n",
      " learning rate: 0.1\n",
      "\n",
      "Epoch 6\n",
      " train loss: 0.9029570801057589, train acc: 0.6863778075215461\n",
      " val loss: 0.9680381719102251, val acc: 0.6636303191489362\n",
      " learning rate: 0.1\n",
      "\n",
      "Epoch 7\n",
      " train loss: 0.8910802974343518, train acc: 0.6911155001305823\n",
      " val loss: 0.9340221369520146, val acc: 0.6780363475177306\n",
      " learning rate: 0.1\n",
      "\n",
      "Epoch 8\n",
      " train loss: 0.8690021723454352, train acc: 0.7012764429354923\n",
      " val loss: 0.9570806259804584, val acc: 0.6691932624113476\n",
      " learning rate: 0.1\n",
      "\n",
      "Epoch 9\n",
      " train loss: 0.8587448413345888, train acc: 0.7026720423086967\n",
      " val loss: 0.9229448729373039, val acc: 0.6798980496453901\n",
      " learning rate: 0.1\n",
      "\n",
      "Epoch 10\n",
      " train loss: 0.8382228061529574, train acc: 0.7098948811700183\n",
      " val loss: 0.9843112717283533, val acc: 0.6708111702127659\n",
      " learning rate: 0.1\n",
      "\n",
      "Epoch 11\n",
      " train loss: 0.8315707272977672, train acc: 0.7113435296422043\n",
      " val loss: 0.8731658517046178, val acc: 0.7031028368794328\n",
      " learning rate: 0.1\n",
      "\n",
      "Epoch 12\n",
      " train loss: 0.8159252097336422, train acc: 0.718260316009402\n",
      " val loss: 0.8962841990146231, val acc: 0.6923980496453902\n",
      " learning rate: 0.1\n",
      "\n",
      "Epoch 13\n",
      " train loss: 0.8059841031566181, train acc: 0.7228388613214938\n",
      " val loss: 0.8447249342786505, val acc: 0.7098404255319148\n",
      " learning rate: 0.1\n",
      "\n",
      "Epoch 14\n",
      " train loss: 0.79833704342136, train acc: 0.7241814115957168\n",
      " val loss: 0.8560707505713118, val acc: 0.7044991134751774\n",
      " learning rate: 0.1\n",
      "\n",
      "Epoch 15\n",
      " train loss: 0.7874205152774859, train acc: 0.7279805432227735\n",
      " val loss: 0.879870133197054, val acc: 0.6947030141843971\n",
      " learning rate: 0.1\n",
      "\n",
      "Epoch 16\n",
      " train loss: 0.7786851942103349, train acc: 0.7309104857665187\n",
      " val loss: 0.9017430346062842, val acc: 0.6986702127659574\n",
      " learning rate: 0.1\n",
      "\n",
      "Epoch 17\n",
      " train loss: 0.7736915201765964, train acc: 0.7338363476103421\n",
      " val loss: 0.8891182620474632, val acc: 0.6995567375886524\n",
      " learning rate: 0.1\n",
      "\n",
      "Epoch 18\n",
      " train loss: 0.7637875517064082, train acc: 0.734362757900235\n",
      " val loss: 0.8734144966653052, val acc: 0.7047650709219859\n",
      " learning rate: 0.1\n",
      "\n",
      "Epoch 19\n",
      " train loss: 0.7609633808815937, train acc: 0.7356685818751633\n",
      " val loss: 0.8943843027378651, val acc: 0.6946586879432625\n",
      " learning rate: 0.1\n",
      "\n"
     ]
    }
   ],
   "source": [
    "net = BasicBlockNet().to(device)\n",
    "optimizer = optim.SGD(net.parameters(), lr=0.1, momentum=0.9)\n",
    "scheduler = optim.lr_scheduler.MultiStepLR(optimizer, milestones=[10, 15], gamma=0.1)\n",
    "tr_loss_log, tr_acc_log, val_loss_log, val_acc_log = train(net, optimizer, 20, train_loader, val_loader, scheduler=scheduler, model_name='model_sch_mslr.pt')"
   ]
  },
  {
   "cell_type": "markdown",
   "metadata": {
    "id": "5Xc76KvzO9Du"
   },
   "source": [
    "Посчитайте точность на тестовой выборке:"
   ]
  },
  {
   "cell_type": "code",
   "execution_count": 41,
   "metadata": {
    "id": "1AjiYhKqO9Du"
   },
   "outputs": [
    {
     "name": "stdout",
     "output_type": "stream",
     "text": [
      "Полученная точность: 68.3718152866242 %\n"
     ]
    }
   ],
   "source": [
    "# <your code here>\n",
    "print(\"Полученная точность:\", test(net, test_loader)[1] * 100,\"%\")"
   ]
  },
  {
   "cell_type": "markdown",
   "metadata": {
    "id": "yE0dgLYrO9Du"
   },
   "source": [
    "**Задание 3.0 (0.5 баллов).** Здесь может возникнуть вопрос: а что будет, если мы не будем уменьшать длину шага в процессе обучения, а сразу возьмем констатную, равную значению нашей кусочно-постоянной функции на последних эпохах, то есть $0.001$ в нашем случае. Запустите обучение и проверьте, что в таком случае мы получим худшее качество на тестовой выборке."
   ]
  },
  {
   "cell_type": "code",
   "execution_count": 42,
   "metadata": {
    "id": "qZ2iB-LBO9Du"
   },
   "outputs": [
    {
     "name": "stdout",
     "output_type": "stream",
     "text": [
      "Epoch 0\n",
      " train loss: 1.8309977499179038, train acc: 0.35875065291198743\n",
      " val loss: 1.6208331737112491, val acc: 0.43785460992907804\n",
      " learning rate: 0.001\n",
      "\n",
      "Epoch 1\n",
      " train loss: 1.5496071627196708, train acc: 0.45496539566466443\n",
      " val loss: 1.4698011195406, val acc: 0.4865691489361702\n",
      " learning rate: 0.001\n",
      "\n",
      "Epoch 2\n",
      " train loss: 1.4325618678516618, train acc: 0.497629113345521\n",
      " val loss: 1.3866706939453775, val acc: 0.5132313829787234\n",
      " learning rate: 0.001\n",
      "\n",
      "Epoch 3\n",
      " train loss: 1.3597333025888725, train acc: 0.5240598067380517\n",
      " val loss: 1.3378566868761752, val acc: 0.5289893617021276\n",
      " learning rate: 0.001\n",
      "\n",
      "Epoch 4\n",
      " train loss: 1.307617786815441, train acc: 0.543186047270828\n",
      " val loss: 1.2761191276793784, val acc: 0.551706560283688\n",
      " learning rate: 0.001\n",
      "\n",
      "Epoch 5\n",
      " train loss: 1.2612976201927422, train acc: 0.5590028401671454\n",
      " val loss: 1.2448234659560182, val acc: 0.5661790780141843\n",
      " learning rate: 0.001\n",
      "\n",
      "Epoch 6\n",
      " train loss: 1.2226739364524646, train acc: 0.5726731849046748\n",
      " val loss: 1.2023052900395494, val acc: 0.5788563829787234\n",
      " learning rate: 0.001\n",
      "\n",
      "Epoch 7\n",
      " train loss: 1.1814923259196377, train acc: 0.5862619156437713\n",
      " val loss: 1.1990754611948704, val acc: 0.5776152482269503\n",
      " learning rate: 0.001\n",
      "\n",
      "Epoch 8\n",
      " train loss: 1.1457907930152726, train acc: 0.6001199725776966\n",
      " val loss: 1.1216158463599835, val acc: 0.6148049645390071\n",
      " learning rate: 0.001\n",
      "\n",
      "Epoch 9\n",
      " train loss: 1.116872216927286, train acc: 0.6119172760511883\n",
      " val loss: 1.1216684914649802, val acc: 0.611436170212766\n",
      " learning rate: 0.001\n",
      "\n",
      "Epoch 10\n",
      " train loss: 1.0868075764593301, train acc: 0.6233473165317315\n",
      " val loss: 1.166607699242044, val acc: 0.5851507092198582\n",
      " learning rate: 0.001\n",
      "\n",
      "Epoch 11\n",
      " train loss: 1.0634075061058867, train acc: 0.6335041786367198\n",
      " val loss: 1.0521313294451287, val acc: 0.6363918439716312\n",
      " learning rate: 0.001\n",
      "\n",
      "Epoch 12\n",
      " train loss: 1.0433678674959395, train acc: 0.6379603029511622\n",
      " val loss: 1.0595956614676942, val acc: 0.6298093971631205\n",
      " learning rate: 0.001\n",
      "\n",
      "Epoch 13\n",
      " train loss: 1.022664168417127, train acc: 0.6447138613214938\n",
      " val loss: 1.0167864538253621, val acc: 0.6474955673758864\n",
      " learning rate: 0.001\n",
      "\n",
      "Epoch 14\n",
      " train loss: 1.0069747047406883, train acc: 0.6508879603029512\n",
      " val loss: 1.0509972273035253, val acc: 0.6343085106382979\n",
      " learning rate: 0.001\n",
      "\n",
      "Epoch 15\n",
      " train loss: 0.9887519315348247, train acc: 0.6580536693653695\n",
      " val loss: 1.0105823078054064, val acc: 0.6480939716312056\n",
      " learning rate: 0.001\n",
      "\n",
      "Epoch 16\n",
      " train loss: 0.9763973083966829, train acc: 0.6613876012013581\n",
      " val loss: 0.9873978695970901, val acc: 0.657424645390071\n",
      " learning rate: 0.001\n",
      "\n",
      "Epoch 17\n",
      " train loss: 0.9625996848129049, train acc: 0.6665537673021676\n",
      " val loss: 0.968341247325248, val acc: 0.6628102836879434\n",
      " learning rate: 0.001\n",
      "\n",
      "Epoch 18\n",
      " train loss: 0.951492170747063, train acc: 0.6720096630974145\n",
      " val loss: 0.9666417512487858, val acc: 0.6623005319148936\n",
      " learning rate: 0.001\n",
      "\n",
      "Epoch 19\n",
      " train loss: 0.941830651088868, train acc: 0.6737521219639593\n",
      " val loss: 0.9520381014397804, val acc: 0.6693705673758864\n",
      " learning rate: 0.001\n",
      "\n"
     ]
    }
   ],
   "source": [
    "# <your code here>\n",
    "net = BasicBlockNet().to(device)\n",
    "optimizer = optim.SGD(net.parameters(), lr=0.001, momentum=0.9)\n",
    "tr_loss_log, tr_acc_log, val_loss_log, val_acc_log = train(net, optimizer, 20, train_loader, val_loader, model_name='model_nosch.pt')"
   ]
  },
  {
   "cell_type": "code",
   "execution_count": 43,
   "metadata": {},
   "outputs": [
    {
     "name": "stdout",
     "output_type": "stream",
     "text": [
      "Полученная точность: 66.71974522292994 %\n"
     ]
    }
   ],
   "source": [
    "print(\"Полученная точность:\", test(net, test_loader)[1] * 100,\"%\")"
   ]
  },
  {
   "cell_type": "markdown",
   "metadata": {
    "id": "xVotU378O9Du"
   },
   "source": [
    "**Задание 3.1 (1.5 балла).** Изучите, какие еще способы уменьшения длины шага представлены в <code>torch.optim.lr_scheduler</code>. Выберите несколько из них, объясните, как они устроены, и обучите модель с ними. Удалось ли добиться улучшения качества на тестовой выборке?"
   ]
  },
  {
   "cell_type": "code",
   "execution_count": 44,
   "metadata": {
    "id": "nkGlzocOO9Du"
   },
   "outputs": [
    {
     "name": "stdout",
     "output_type": "stream",
     "text": [
      "Epoch 0\n",
      " train loss: 1.5058870363496992, train acc: 0.4653466962653434\n",
      " val loss: 1.3144370020704066, val acc: 0.5351507092198582\n",
      " learning rate: 0.1\n",
      "\n",
      "Epoch 1\n",
      " train loss: 1.157465006468283, train acc: 0.5930317968137896\n",
      " val loss: 1.1349063373626547, val acc: 0.601950354609929\n",
      " learning rate: 0.00484800431750456\n",
      "\n",
      "Epoch 2\n",
      " train loss: 1.1112068215933317, train acc: 0.6118519848524419\n",
      " val loss: 1.0963103238572465, val acc: 0.6197030141843971\n",
      " learning rate: 0.007329825956595111\n",
      "\n",
      "Epoch 3\n",
      " train loss: 1.0742151704523202, train acc: 0.6229188430399581\n",
      " val loss: 1.064571779585899, val acc: 0.6292331560283688\n",
      " learning rate: 0.008011054312728852\n",
      "\n",
      "Epoch 4\n",
      " train loss: 1.043270847806111, train acc: 0.6347773570122748\n",
      " val loss: 1.0493781980047834, val acc: 0.6322030141843971\n",
      " learning rate: 0.008618431227050234\n",
      "\n",
      "Epoch 5\n",
      " train loss: 1.0124106452931434, train acc: 0.6466848393836511\n",
      " val loss: 1.0354669687595772, val acc: 0.6377216312056737\n",
      " learning rate: 0.008925279023812805\n",
      "\n",
      "Epoch 6\n",
      " train loss: 0.9860909684702509, train acc: 0.6575150169757117\n",
      " val loss: 0.9998798844662119, val acc: 0.6514406028368795\n",
      " learning rate: 0.009215799789007854\n",
      "\n",
      "Epoch 7\n",
      " train loss: 0.9686854229984597, train acc: 0.6611101136066858\n",
      " val loss: 0.9878562589909168, val acc: 0.6565381205673758\n",
      " learning rate: 0.010002766144882715\n",
      "\n",
      "Epoch 8\n",
      " train loss: 0.9498583399835409, train acc: 0.6727115434839384\n",
      " val loss: 0.9726788112457763, val acc: 0.6601507092198582\n",
      " learning rate: 0.01028356603064122\n",
      "\n",
      "Epoch 9\n",
      " train loss: 0.933242707627347, train acc: 0.6789550143640638\n",
      " val loss: 0.9544288363862545, val acc: 0.6705452127659575\n",
      " learning rate: 0.01064930311648247\n",
      "\n",
      "Epoch 10\n",
      " train loss: 0.9201887935345526, train acc: 0.6796038456516061\n",
      " val loss: 0.945333143751672, val acc: 0.6725620567375886\n",
      " learning rate: 0.01110634509301503\n",
      "\n",
      "Epoch 11\n",
      " train loss: 0.9067718825784854, train acc: 0.6852025659441107\n",
      " val loss: 0.9400235318123026, val acc: 0.6751551418439715\n",
      " learning rate: 0.011341404919931318\n",
      "\n",
      "Epoch 12\n",
      " train loss: 0.8927430256629121, train acc: 0.6911563071297989\n",
      " val loss: 0.9463169681264999, val acc: 0.6722517730496455\n",
      " learning rate: 0.011480914116262092\n",
      "\n",
      "Epoch 13\n",
      " train loss: 0.8820986263930689, train acc: 0.6940413619744058\n",
      " val loss: 0.9343071569787695, val acc: 0.6773271276595745\n",
      " learning rate: 0.011315741867935183\n",
      "\n",
      "Epoch 14\n",
      " train loss: 0.8734858651156835, train acc: 0.6976323779054584\n",
      " val loss: 0.9094414546134624, val acc: 0.6825354609929077\n",
      " learning rate: 0.011633029864467875\n",
      "\n",
      "Epoch 15\n",
      " train loss: 0.8705877066748233, train acc: 0.6985464546879081\n",
      " val loss: 0.9136035472788709, val acc: 0.6848404255319149\n",
      " learning rate: 0.012318520352620585\n",
      "\n",
      "Epoch 16\n",
      " train loss: 0.851740997659223, train acc: 0.7053775463567512\n",
      " val loss: 0.89668163137233, val acc: 0.6922650709219859\n",
      " learning rate: 0.012201028812989385\n",
      "\n",
      "Epoch 17\n",
      " train loss: 0.8470927813589246, train acc: 0.7053979498563593\n",
      " val loss: 0.9033808692972711, val acc: 0.6833333333333332\n",
      " learning rate: 0.012685814851932401\n",
      "\n",
      "Epoch 18\n",
      " train loss: 0.8363059163638399, train acc: 0.7123433011230086\n",
      " val loss: 0.8848307358457687, val acc: 0.6910460992907801\n",
      " learning rate: 0.012491630537416696\n",
      "\n",
      "Epoch 19\n",
      " train loss: 0.8319590626730562, train acc: 0.7132492165056151\n",
      " val loss: 0.8952121945137673, val acc: 0.691511524822695\n",
      " learning rate: 0.013036747803317426\n",
      "\n"
     ]
    }
   ],
   "source": [
    "# Scheduler: ExponentialLR\n",
    "net = BasicBlockNet().to(device)\n",
    "optimizer = optim.SGD(net.parameters(), lr=0.1, momentum=0.9)\n",
    "scheduler = optim.lr_scheduler.ExponentialLR(optimizer, gamma=0.1)\n",
    "tr_loss_log, tr_acc_log, val_loss_log, val_acc_log = train(net, optimizer, 20, train_loader, val_loader, scheduler=scheduler, model_name='model_sch_exp.pt')"
   ]
  },
  {
   "cell_type": "code",
   "execution_count": 45,
   "metadata": {},
   "outputs": [
    {
     "name": "stdout",
     "output_type": "stream",
     "text": [
      "Полученная точность: 67.83439490445859 %\n"
     ]
    }
   ],
   "source": [
    "print(\"Полученная точность:\", test(net, test_loader)[1] * 100,\"%\")"
   ]
  },
  {
   "cell_type": "code",
   "execution_count": 46,
   "metadata": {},
   "outputs": [
    {
     "name": "stdout",
     "output_type": "stream",
     "text": [
      "Epoch 0\n",
      " train loss: 1.5189096526646308, train acc: 0.4565283037346566\n",
      " val loss: 1.3377933190224018, val acc: 0.5252216312056738\n",
      " learning rate: 0.1\n",
      "\n",
      "Epoch 1\n",
      " train loss: 1.2011236111468326, train acc: 0.5764151867328283\n",
      " val loss: 1.1733058472897144, val acc: 0.5954787234042553\n",
      " learning rate: 0.1\n",
      "\n",
      "Epoch 2\n",
      " train loss: 1.0699297434887023, train acc: 0.6263874379733612\n",
      " val loss: 1.0717714553183697, val acc: 0.6260416666666667\n",
      " learning rate: 0.1\n",
      "\n",
      "Epoch 3\n",
      " train loss: 1.0051938221267198, train acc: 0.649149582136328\n",
      " val loss: 1.0097765098226832, val acc: 0.6499113475177306\n",
      " learning rate: 0.1\n",
      "\n",
      "Epoch 4\n",
      " train loss: 0.9711695643621999, train acc: 0.6633626599634369\n",
      " val loss: 0.9406313023668654, val acc: 0.675642730496454\n",
      " learning rate: 0.1\n",
      "\n",
      "Epoch 5\n",
      " train loss: 0.9379330784136896, train acc: 0.6739112692609036\n",
      " val loss: 0.9673983416658767, val acc: 0.6622340425531915\n",
      " learning rate: 0.1\n",
      "\n",
      "Epoch 6\n",
      " train loss: 0.9161440021813024, train acc: 0.6811789958213633\n",
      " val loss: 0.9371958666659416, val acc: 0.6744902482269503\n",
      " learning rate: 0.1\n",
      "\n",
      "Epoch 7\n",
      " train loss: 0.9023004165515167, train acc: 0.6873245299033691\n",
      " val loss: 0.9654792597953309, val acc: 0.6634530141843971\n",
      " learning rate: 0.1\n",
      "\n",
      "Epoch 8\n",
      " train loss: 0.8785390590183042, train acc: 0.6926947310002612\n",
      " val loss: 0.9299925776238137, val acc: 0.6777925531914893\n",
      " learning rate: 0.1\n",
      "\n",
      "Epoch 9\n",
      " train loss: 0.8616675501331769, train acc: 0.6972691956124314\n",
      " val loss: 0.9195479505873742, val acc: 0.6874335106382978\n",
      " learning rate: 0.1\n",
      "\n",
      "Epoch 10\n",
      " train loss: 0.8491193791630063, train acc: 0.7056060655523636\n",
      " val loss: 0.916819224205423, val acc: 0.6869015957446809\n",
      " learning rate: 0.1\n",
      "\n",
      "Epoch 11\n",
      " train loss: 0.8327630905935054, train acc: 0.7093684708801253\n",
      " val loss: 0.9042656751389199, val acc: 0.6875664893617022\n",
      " learning rate: 0.1\n",
      "\n",
      "Epoch 12\n",
      " train loss: 0.8171708876406689, train acc: 0.716799425437451\n",
      " val loss: 0.8874186044043683, val acc: 0.6957890070921987\n",
      " learning rate: 0.1\n",
      "\n",
      "Epoch 13\n",
      " train loss: 0.8066684679967612, train acc: 0.7195947048837816\n",
      " val loss: 0.9006274375509709, val acc: 0.6861923758865247\n",
      " learning rate: 0.1\n",
      "\n",
      "Epoch 14\n",
      " train loss: 0.7986226145593515, train acc: 0.7195947048837816\n",
      " val loss: 0.898434558701008, val acc: 0.692575354609929\n",
      " learning rate: 0.1\n",
      "\n",
      "Epoch 15\n",
      " train loss: 0.7802532721154215, train acc: 0.7265400561504309\n",
      " val loss: 0.8447929430515209, val acc: 0.7134973404255319\n",
      " learning rate: 0.1\n",
      "\n",
      "Epoch 16\n",
      " train loss: 0.7814498144922134, train acc: 0.7256545442674328\n",
      " val loss: 0.8583627698269296, val acc: 0.7071143617021277\n",
      " learning rate: 0.1\n",
      "\n",
      "Epoch 17\n",
      " train loss: 0.7645849482559852, train acc: 0.7327468007312614\n",
      " val loss: 0.9233257485196945, val acc: 0.6946586879432625\n",
      " learning rate: 0.1\n",
      "\n",
      "Epoch 18\n",
      " train loss: 0.7602015370860614, train acc: 0.7347300208931836\n",
      " val loss: 0.8717390353375293, val acc: 0.709906914893617\n",
      " learning rate: 0.1\n",
      "\n",
      "Epoch 19\n",
      " train loss: 0.6646705279075685, train acc: 0.7704075803081745\n",
      " val loss: 0.7894165959764035, val acc: 0.7319148936170212\n",
      " learning rate: 0.010000000000000002\n",
      "\n"
     ]
    }
   ],
   "source": [
    "# Scheduler: CosineAnnealingLR\n",
    "net = BasicBlockNet().to(device)\n",
    "optimizer = optim.SGD(net.parameters(), lr=0.1, momentum=0.9)\n",
    "scheduler = optim.lr_scheduler.ReduceLROnPlateau(optimizer, \"min\", 0.1, 2)\n",
    "tr_loss_log, tr_acc_log, val_loss_log, val_acc_log = train(net, optimizer, 20, train_loader, val_loader, scheduler=scheduler, model_name='model_sch_plateau.pt')"
   ]
  },
  {
   "cell_type": "code",
   "execution_count": 47,
   "metadata": {},
   "outputs": [
    {
     "name": "stdout",
     "output_type": "stream",
     "text": [
      "Полученная точность: 71.85509554140127 %\n"
     ]
    }
   ],
   "source": [
    "print(\"Полученная точность:\", test(net, test_loader)[1] * 100,\"%\")"
   ]
  },
  {
   "cell_type": "code",
   "execution_count": 48,
   "metadata": {},
   "outputs": [
    {
     "name": "stdout",
     "output_type": "stream",
     "text": [
      "Epoch 0\n",
      " train loss: 1.8200796023147416, train acc: 0.3632598263254113\n",
      " val loss: 1.6150246315814079, val acc: 0.43251329787234044\n",
      " learning rate: 0.001\n",
      "\n",
      "Epoch 1\n",
      " train loss: 1.5382654577548152, train acc: 0.45743013841734137\n",
      " val loss: 1.4547909087323128, val acc: 0.4852615248226951\n",
      " learning rate: 0.0010799437192632775\n",
      "\n",
      "Epoch 2\n",
      " train loss: 1.4130974909941065, train acc: 0.5026483742491512\n",
      " val loss: 1.3448749572672742, val acc: 0.5272828014184398\n",
      " learning rate: 0.0010720121499822404\n",
      "\n",
      "Epoch 3\n",
      " train loss: 1.3311927765335418, train acc: 0.5322375293810394\n",
      " val loss: 1.3009503001862384, val acc: 0.5387632978723405\n",
      " learning rate: 0.0010665713103847213\n",
      "\n",
      "Epoch 4\n",
      " train loss: 1.2655929870753664, train acc: 0.5545956842517629\n",
      " val loss: 1.2446036866370669, val acc: 0.5612810283687945\n",
      " learning rate: 0.0010643970398592378\n",
      "\n",
      "Epoch 5\n",
      " train loss: 1.2135877187552793, train acc: 0.5752236223557065\n",
      " val loss: 1.193237766306451, val acc: 0.5835106382978723\n",
      " learning rate: 0.0010616078824885497\n",
      "\n",
      "Epoch 6\n",
      " train loss: 1.1739538909094425, train acc: 0.5899875946722382\n",
      " val loss: 1.141960553159105, val acc: 0.6058732269503545\n",
      " learning rate: 0.0010590652694321898\n",
      "\n",
      "Epoch 7\n",
      " train loss: 1.1352273175659737, train acc: 0.6034049360146252\n",
      " val loss: 1.1032097250857251, val acc: 0.6126551418439715\n",
      " learning rate: 0.001056527047381385\n",
      "\n",
      "Epoch 8\n",
      " train loss: 1.0977014634465387, train acc: 0.6172589122486288\n",
      " val loss: 1.1089036581364085, val acc: 0.609552304964539\n",
      " learning rate: 0.001054608881391748\n",
      "\n",
      "Epoch 9\n",
      " train loss: 1.0689092386357308, train acc: 0.6285706124314442\n",
      " val loss: 1.054273582519369, val acc: 0.6351507092198583\n",
      " learning rate: 0.0010548907310777423\n",
      "\n",
      "Epoch 10\n",
      " train loss: 1.0420223255480012, train acc: 0.6368217876730218\n",
      " val loss: 1.0343164043223605, val acc: 0.6367021276595745\n",
      " learning rate: 0.0010521865423347\n",
      "\n",
      "Epoch 11\n",
      " train loss: 1.0292081197611376, train acc: 0.6431142269522068\n",
      " val loss: 1.0087292245093813, val acc: 0.6505540780141843\n",
      " learning rate: 0.0010511986620139419\n",
      "\n",
      "Epoch 12\n",
      " train loss: 1.003546381672296, train acc: 0.6519326194828937\n",
      " val loss: 0.9901585558627514, val acc: 0.6567154255319149\n",
      " learning rate: 0.0010499320966132345\n",
      "\n",
      "Epoch 13\n",
      " train loss: 0.9875238408118323, train acc: 0.658176090363019\n",
      " val loss: 0.9905327533153777, val acc: 0.6571365248226949\n",
      " learning rate: 0.001049012848515193\n",
      "\n",
      "Epoch 14\n",
      " train loss: 0.9748675099674483, train acc: 0.6626403760773047\n",
      " val loss: 0.9937897245934669, val acc: 0.6530141843971631\n",
      " learning rate: 0.0010490313712890958\n",
      "\n",
      "Epoch 15\n",
      " train loss: 0.9611100024889331, train acc: 0.6672148406894751\n",
      " val loss: 0.963644980623367, val acc: 0.6665780141843971\n",
      " learning rate: 0.0010491925913673791\n",
      "\n",
      "Epoch 16\n",
      " train loss: 0.9511784214860125, train acc: 0.6684880190650301\n",
      " val loss: 0.9624185724461333, val acc: 0.6605274822695034\n",
      " learning rate: 0.0010477004265408475\n",
      "\n",
      "Epoch 17\n",
      " train loss: 0.9370118873210886, train acc: 0.673486876469052\n",
      " val loss: 0.9466853593258148, val acc: 0.6727615248226949\n",
      " learning rate: 0.0010476397193360963\n",
      "\n",
      "Epoch 18\n",
      " train loss: 0.9302888865662667, train acc: 0.6766330961086445\n",
      " val loss: 0.9389735790009194, val acc: 0.6715647163120566\n",
      " learning rate: 0.0010468609252866185\n",
      "\n",
      "Epoch 19\n",
      " train loss: 0.9192094682993357, train acc: 0.6824236092974667\n",
      " val loss: 0.9382493333613618, val acc: 0.6703679078014183\n",
      " learning rate: 0.0010464791921605534\n",
      "\n"
     ]
    }
   ],
   "source": [
    "# Scheduler: CyclicLR\n",
    "net = BasicBlockNet().to(device)\n",
    "optimizer = optim.SGD(net.parameters(), lr=0.1, momentum=0.9)\n",
    "scheduler = optim.lr_scheduler.CyclicLR(optimizer, 0.001, 0.1)\n",
    "tr_loss_log, tr_acc_log, val_loss_log, val_acc_log = train(net, optimizer, 20, train_loader, val_loader, scheduler=scheduler, model_name='model_sch_cycle.pt')"
   ]
  },
  {
   "cell_type": "code",
   "execution_count": 49,
   "metadata": {},
   "outputs": [
    {
     "name": "stdout",
     "output_type": "stream",
     "text": [
      "Полученная точность: 66.95859872611464 %\n"
     ]
    }
   ],
   "source": [
    "print(\"Полученная точность:\", test(net, test_loader)[1] * 100,\"%\")"
   ]
  },
  {
   "cell_type": "markdown",
   "metadata": {
    "id": "5a_zMNNVO9Du"
   },
   "source": [
    "Your answers here:"
   ]
  },
  {
   "cell_type": "markdown",
   "metadata": {},
   "source": [
    "**Our answers there:**\n",
    "\n",
    "Мы привыкли называть это скоростью обучения (learning_rate). \n",
    "\n",
    "Мы выбрали: \n",
    "\n",
    "`ExponentialLR` - каждую эпоху уменьшает learning rate, умножая на определенную величину гамма, скорость обучения при этом будет значительно снижаться в течение первых нескольких эпох, а затем ее изменение замедлится.\n",
    "\n",
    "`ReduceLROnPlateau` - уменьшает скорость обучения, когда целевая метрика перестает улучшаться (aka выходит на плато).\n",
    "\n",
    "`CyclicLR` - цикличная скорость обучения, которая варирутся в рамках max/min значений, заданных заранее. Но не просто так, а по циклу - сначала уменьшаясь, а потом увеличиваясь тд."
   ]
  },
  {
   "cell_type": "markdown",
   "metadata": {
    "id": "7xFXgl_3_E--"
   },
   "source": [
    "## 4. Аугментации данных (2 балла)"
   ]
  },
  {
   "cell_type": "markdown",
   "metadata": {
    "id": "5G0Easo9O9Du"
   },
   "source": [
    "Еще одной стандартной техникой, применяющейся в глубинном обучении, а особенно часто в компьютерном зрении, являются аугментации данных. Суть аугментаций состоит в том, что мы можем некоторым синтетическим образом видоизменять объекты обучающей выборки, тем самым расширяя ее, а также делая итоговую модель более устойчивой к таким изменениям.\n",
    "\n",
    "Простейшая аугментация, которую можно применить к картинкам — разворот картинки по горизонтальной оси. То есть при обучении модели с вероятностью $0.5$ мы будем разворачивать картинку из обучающей выборки."
   ]
  },
  {
   "cell_type": "code",
   "execution_count": 50,
   "metadata": {
    "id": "SzeFpgtfO9Du"
   },
   "outputs": [
    {
     "data": {
      "image/png": "[encoded data removed]",
      "text/plain": [
       "<Figure size 640x480 with 1 Axes>"
      ]
     },
     "metadata": {},
     "output_type": "display_data"
    },
    {
     "data": {
      "image/png": "[encoded data removed]",
      "text/plain": [
       "<Figure size 640x480 with 1 Axes>"
      ]
     },
     "metadata": {},
     "output_type": "display_data"
    }
   ],
   "source": [
    "dataiter = iter(train_loader)\n",
    "images, labels = next(dataiter)\n",
    "\n",
    "imshow(torchvision.utils.make_grid(images[:4]))\n",
    "\n",
    "imshow(torchvision.utils.make_grid(transforms.functional.hflip(images[:4])))"
   ]
  },
  {
   "cell_type": "markdown",
   "metadata": {
    "id": "BR4a-XJQO9Du"
   },
   "source": [
    "Наиболее удобным способом работы с аугментациями в PyTorch является их задание в списке <code>transforms</code>, который затем передается в загрузчик данных. Обучим нашу сеть, применяя горизонтальные повороты:"
   ]
  },
  {
   "cell_type": "code",
   "execution_count": 51,
   "metadata": {
    "id": "na0ScBf-_AqX",
    "scrolled": true
   },
   "outputs": [
    {
     "name": "stdout",
     "output_type": "stream",
     "text": [
      "Files already downloaded and verified\n",
      "Files already downloaded and verified\n",
      "Epoch 0\n",
      " train loss: 1.4883080404898803, train acc: 0.47071689736223565\n",
      " val loss: 1.2475887998621515, val acc: 0.5607491134751774\n",
      " learning rate: 0.1\n",
      "\n",
      "Epoch 1\n",
      " train loss: 1.1891328826464944, train acc: 0.5804550796552624\n",
      " val loss: 1.1456414785790952, val acc: 0.6071808510638298\n",
      " learning rate: 0.1\n",
      "\n",
      "Epoch 2\n",
      " train loss: 1.071158491061418, train acc: 0.6270566727605119\n",
      " val loss: 1.110510212309817, val acc: 0.6106826241134753\n",
      " learning rate: 0.1\n",
      "\n",
      "Epoch 3\n",
      " train loss: 1.01687993950992, train acc: 0.6443874053277618\n",
      " val loss: 0.9939757070642836, val acc: 0.6576241134751774\n",
      " learning rate: 0.1\n",
      "\n",
      "Epoch 4\n",
      " train loss: 0.9723770038737239, train acc: 0.6645256594411073\n",
      " val loss: 0.9953194932734712, val acc: 0.6554964539007093\n",
      " learning rate: 0.1\n",
      "\n",
      "Epoch 5\n",
      " train loss: 0.941399717625142, train acc: 0.6741438691564378\n",
      " val loss: 0.9694795600911404, val acc: 0.6692597517730497\n",
      " learning rate: 0.1\n",
      "\n",
      "Epoch 6\n",
      " train loss: 0.9215653288081098, train acc: 0.6810688169234788\n",
      " val loss: 0.9654580988782517, val acc: 0.6613031914893617\n",
      " learning rate: 0.1\n",
      "\n",
      "Epoch 7\n",
      " train loss: 0.9088591285989751, train acc: 0.6853331483416035\n",
      " val loss: 0.9335853926678921, val acc: 0.6795656028368795\n",
      " learning rate: 0.1\n",
      "\n",
      "Epoch 8\n",
      " train loss: 0.8890299922914348, train acc: 0.6912093562287804\n",
      " val loss: 0.9629126863276705, val acc: 0.6671764184397162\n",
      " learning rate: 0.1\n",
      "\n",
      "Epoch 9\n",
      " train loss: 0.8811165778684877, train acc: 0.6954328806476887\n",
      " val loss: 0.9530243429731815, val acc: 0.6757535460992907\n",
      " learning rate: 0.1\n",
      "\n",
      "Epoch 10\n",
      " train loss: 0.8655728494009545, train acc: 0.7017783690258553\n",
      " val loss: 0.8903124446564532, val acc: 0.6938829787234042\n",
      " learning rate: 0.1\n",
      "\n",
      "Epoch 11\n",
      " train loss: 0.8607181203866572, train acc: 0.7008846957430138\n",
      " val loss: 0.8938957835765595, val acc: 0.6931294326241135\n",
      " learning rate: 0.1\n",
      "\n",
      "Epoch 12\n",
      " train loss: 0.8519654582361852, train acc: 0.7057815356489945\n",
      " val loss: 0.8729697533110354, val acc: 0.6997118794326241\n",
      " learning rate: 0.1\n",
      "\n",
      "Epoch 13\n",
      " train loss: 0.8373992331394112, train acc: 0.7114129015408722\n",
      " val loss: 0.9070127646973792, val acc: 0.6904033687943263\n",
      " learning rate: 0.1\n",
      "\n",
      "Epoch 14\n",
      " train loss: 0.8373171820610054, train acc: 0.7078504505092714\n",
      " val loss: 0.8658759956664227, val acc: 0.7050531914893617\n",
      " learning rate: 0.1\n",
      "\n",
      "Epoch 15\n",
      " train loss: 0.8215176981807409, train acc: 0.7157751697571167\n",
      " val loss: 0.8820820511655605, val acc: 0.6988031914893617\n",
      " learning rate: 0.1\n",
      "\n",
      "Epoch 16\n",
      " train loss: 0.8228872801965508, train acc: 0.714616250979368\n",
      " val loss: 0.8482965938588406, val acc: 0.7121010638297872\n",
      " learning rate: 0.1\n",
      "\n",
      "Epoch 17\n",
      " train loss: 0.8118899593187643, train acc: 0.7192968137895012\n",
      " val loss: 0.8565164839967768, val acc: 0.7040115248226949\n",
      " learning rate: 0.1\n",
      "\n",
      "Epoch 18\n",
      " train loss: 0.8066229734167975, train acc: 0.7212759532515017\n",
      " val loss: 0.8788073425597333, val acc: 0.7018617021276595\n",
      " learning rate: 0.1\n",
      "\n",
      "Epoch 19\n",
      " train loss: 0.7989050694749822, train acc: 0.7234183207103683\n",
      " val loss: 0.8074452226466321, val acc: 0.7213874113475178\n",
      " learning rate: 0.1\n",
      "\n"
     ]
    }
   ],
   "source": [
    "transform = transforms.Compose(\n",
    "        [transforms.RandomHorizontalFlip(),\n",
    "         transforms.ToTensor(),\n",
    "         transforms.Normalize((0.5, 0.5, 0.5), (0.5, 0.5, 0.5))]\n",
    ")\n",
    "\n",
    "train_loader, val_loader, test_loader = get_cifar10_data(batch_size=64, transform_train=transform)\n",
    "\n",
    "net = BasicBlockNet().to(device)\n",
    "optimizer = optim.SGD(net.parameters(), lr=0.1, momentum=0.9)\n",
    "scheduler = optim.lr_scheduler.MultiStepLR(optimizer, milestones=[10, 15], gamma=0.1)\n",
    "tr_loss_log, tr_acc_log, val_loss_log, val_acc_log = train(net, optimizer, 20, train_loader, val_loader, scheduler=scheduler, model_name='model_aug.pt')"
   ]
  },
  {
   "cell_type": "markdown",
   "metadata": {
    "id": "v3ZIqDQqO9Dv"
   },
   "source": [
    "Посчитайте точность на тестовой выборке:"
   ]
  },
  {
   "cell_type": "code",
   "execution_count": 52,
   "metadata": {
    "id": "nNJizMkM_Auh"
   },
   "outputs": [
    {
     "name": "stdout",
     "output_type": "stream",
     "text": [
      "Полученная точность: 72.19347133757962 %\n"
     ]
    }
   ],
   "source": [
    "print(\"Полученная точность:\", test(net, test_loader)[1] * 100,\"%\")"
   ]
  },
  {
   "cell_type": "markdown",
   "metadata": {
    "id": "KndehSCHO9Dv"
   },
   "source": [
    "**Задание 4.1 (2 балла).** Изучите, какие еще способы аугментаций изображений представлены в <code>torchvision.transforms</code>. Выберите несколько из них, объясните, как они устроены, и обучите модель с ними (по отдельности и вместе). Удалось ли добиться улучшения качества на тестовой выборке?"
   ]
  },
  {
   "cell_type": "code",
   "execution_count": 53,
   "metadata": {
    "id": "Np4rgvdZ_QRF"
   },
   "outputs": [
    {
     "name": "stdout",
     "output_type": "stream",
     "text": [
      "Files already downloaded and verified\n",
      "Files already downloaded and verified\n",
      "Epoch 0\n",
      " train loss: 1.7118672932305763, train acc: 0.3804558957952468\n",
      " val loss: 1.5470536947250366, val acc: 0.43933953900709216\n",
      " learning rate: 0.1\n",
      "\n",
      "Epoch 1\n",
      " train loss: 1.4882610940410188, train acc: 0.46546911726299295\n",
      " val loss: 1.4288739305861453, val acc: 0.4840868794326241\n",
      " learning rate: 0.1\n",
      "\n",
      "Epoch 2\n",
      " train loss: 1.357191438212909, train acc: 0.5146619548184904\n",
      " val loss: 1.3588498313376245, val acc: 0.5142287234042553\n",
      " learning rate: 0.1\n",
      "\n",
      "Epoch 3\n",
      " train loss: 1.2753284533237408, train acc: 0.547552396186994\n",
      " val loss: 1.2501804889516628, val acc: 0.5665336879432625\n",
      " learning rate: 0.1\n",
      "\n",
      "Epoch 4\n",
      " train loss: 1.2246290321106013, train acc: 0.5684374183860016\n",
      " val loss: 1.221208768448931, val acc: 0.5715425531914894\n",
      " learning rate: 0.1\n",
      "\n",
      "Epoch 5\n",
      " train loss: 1.197621599956666, train acc: 0.5764641551318883\n",
      " val loss: 1.1403986291682466, val acc: 0.6001994680851064\n",
      " learning rate: 0.1\n",
      "\n",
      "Epoch 6\n",
      " train loss: 1.1697287961595455, train acc: 0.5869148276312354\n",
      " val loss: 1.1767894293399568, val acc: 0.5845079787234042\n",
      " learning rate: 0.1\n",
      "\n",
      "Epoch 7\n",
      " train loss: 1.150924120023438, train acc: 0.5944722838861322\n",
      " val loss: 1.1855013380659387, val acc: 0.5892287234042554\n",
      " learning rate: 0.1\n",
      "\n",
      "Epoch 8\n",
      " train loss: 1.1351225152747941, train acc: 0.6000383585792635\n",
      " val loss: 1.22794913256422, val acc: 0.5697916666666667\n",
      " learning rate: 0.1\n",
      "\n",
      "Epoch 9\n",
      " train loss: 1.1305240318587755, train acc: 0.6039762340036563\n",
      " val loss: 1.1757336213233622, val acc: 0.5856604609929077\n",
      " learning rate: 0.1\n",
      "\n",
      "Epoch 10\n",
      " train loss: 1.1121093425933797, train acc: 0.6065593170540612\n",
      " val loss: 1.0843593673503145, val acc: 0.6191489361702127\n",
      " learning rate: 0.1\n",
      "\n",
      "Epoch 11\n",
      " train loss: 1.0994609865671539, train acc: 0.6131945351266649\n",
      " val loss: 1.0843179918350057, val acc: 0.6158466312056737\n",
      " learning rate: 0.1\n",
      "\n",
      "Epoch 12\n",
      " train loss: 1.0897137182722143, train acc: 0.6182178767302168\n",
      " val loss: 1.0502910446613394, val acc: 0.6363475177304966\n",
      " learning rate: 0.1\n",
      "\n",
      "Epoch 13\n",
      " train loss: 1.0747085615747372, train acc: 0.6249795965003917\n",
      " val loss: 1.1835281940216713, val acc: 0.5811391843971631\n",
      " learning rate: 0.1\n",
      "\n",
      "Epoch 14\n",
      " train loss: 1.0720892349152504, train acc: 0.6230983938365109\n",
      " val loss: 1.0679367884676507, val acc: 0.62542109929078\n",
      " learning rate: 0.1\n",
      "\n",
      "Epoch 15\n",
      " train loss: 1.0575757289281493, train acc: 0.6274443392530686\n",
      " val loss: 1.1032493837336277, val acc: 0.61604609929078\n",
      " learning rate: 0.1\n",
      "\n",
      "Epoch 16\n",
      " train loss: 1.0572989159135975, train acc: 0.6292398472185949\n",
      " val loss: 1.0554196672236666, val acc: 0.6279255319148936\n",
      " learning rate: 0.1\n",
      "\n",
      "Epoch 17\n",
      " train loss: 1.046747827660667, train acc: 0.6308313201880386\n",
      " val loss: 1.0608777487531622, val acc: 0.6240691489361702\n",
      " learning rate: 0.1\n",
      "\n",
      "Epoch 18\n",
      " train loss: 1.0485372252394556, train acc: 0.63174947767041\n",
      " val loss: 1.0129644234129722, val acc: 0.645345744680851\n",
      " learning rate: 0.1\n",
      "\n",
      "Epoch 19\n",
      " train loss: 1.0345678067948307, train acc: 0.6361729563854792\n",
      " val loss: 1.0137062628218467, val acc: 0.6467420212765957\n",
      " learning rate: 0.1\n",
      "\n"
     ]
    }
   ],
   "source": [
    "transform = transforms.Compose(\n",
    "    [transforms.RandomHorizontalFlip(),\n",
    "     transforms.RandomCrop(32, padding=4),  \n",
    "     transforms.RandomRotation(degrees=10),\n",
    "     transforms.ColorJitter(brightness=0.2, contrast=0.2, saturation=0.2),\n",
    "\n",
    "     transforms.ToTensor(),\n",
    "     transforms.Normalize((0.5, 0.5, 0.5), (0.5, 0.5, 0.5))]\n",
    ")\n",
    "\n",
    "\n",
    "train_loader, val_loader, test_loader = get_cifar10_data(\n",
    "    batch_size=64, transform_train=transform)\n",
    "\n",
    "net = BasicBlockNet().to(device)\n",
    "optimizer = optim.SGD(net.parameters(), lr=0.1, momentum=0.9)\n",
    "scheduler = optim.lr_scheduler.MultiStepLR(\n",
    "    optimizer, milestones=[10, 15], gamma=0.1)\n",
    "tr_loss_log, tr_acc_log, val_loss_log, val_acc_log = train(\n",
    "    net, optimizer, 20, train_loader, val_loader, scheduler=scheduler, model_name='model_aug_custom.pt')"
   ]
  },
  {
   "cell_type": "code",
   "execution_count": 54,
   "metadata": {},
   "outputs": [
    {
     "name": "stdout",
     "output_type": "stream",
     "text": [
      "Полученная точность: 68.1329617834395 %\n"
     ]
    }
   ],
   "source": [
    "print(\"Полученная точность:\", test(net, test_loader)[1] * 100,\"%\")"
   ]
  },
  {
   "cell_type": "code",
   "execution_count": 55,
   "metadata": {},
   "outputs": [
    {
     "name": "stdout",
     "output_type": "stream",
     "text": [
      "Files already downloaded and verified\n",
      "Files already downloaded and verified\n",
      "Epoch 0\n",
      " train loss: 1.4883080404898803, train acc: 0.47071689736223565\n",
      " val loss: 1.2475887998621515, val acc: 0.5607491134751774\n",
      " learning rate: 0.1\n",
      "\n",
      "Epoch 1\n",
      " train loss: 1.1891328826464944, train acc: 0.5804550796552624\n",
      " val loss: 1.1456414785790952, val acc: 0.6071808510638298\n",
      " learning rate: 0.1\n",
      "\n",
      "Epoch 2\n",
      " train loss: 1.071158491061418, train acc: 0.6270566727605119\n",
      " val loss: 1.110510212309817, val acc: 0.6106826241134753\n",
      " learning rate: 0.1\n",
      "\n",
      "Epoch 3\n",
      " train loss: 1.01687993950992, train acc: 0.6443874053277618\n",
      " val loss: 0.9939757070642836, val acc: 0.6576241134751774\n",
      " learning rate: 0.1\n",
      "\n",
      "Epoch 4\n",
      " train loss: 0.9723770038737239, train acc: 0.6645256594411073\n",
      " val loss: 0.9953194932734712, val acc: 0.6554964539007093\n",
      " learning rate: 0.1\n",
      "\n",
      "Epoch 5\n",
      " train loss: 0.941399717625142, train acc: 0.6741438691564378\n",
      " val loss: 0.9694795600911404, val acc: 0.6692597517730497\n",
      " learning rate: 0.1\n",
      "\n",
      "Epoch 6\n",
      " train loss: 0.9215653288081098, train acc: 0.6810688169234788\n",
      " val loss: 0.9654580988782517, val acc: 0.6613031914893617\n",
      " learning rate: 0.1\n",
      "\n",
      "Epoch 7\n",
      " train loss: 0.9088591285989751, train acc: 0.6853331483416035\n",
      " val loss: 0.9335853926678921, val acc: 0.6795656028368795\n",
      " learning rate: 0.1\n",
      "\n",
      "Epoch 8\n",
      " train loss: 0.8890299922914348, train acc: 0.6912093562287804\n",
      " val loss: 0.9629126863276705, val acc: 0.6671764184397162\n",
      " learning rate: 0.1\n",
      "\n",
      "Epoch 9\n",
      " train loss: 0.8811165778684877, train acc: 0.6954328806476887\n",
      " val loss: 0.9530243429731815, val acc: 0.6757535460992907\n",
      " learning rate: 0.1\n",
      "\n",
      "Epoch 10\n",
      " train loss: 0.8655728494009545, train acc: 0.7017783690258553\n",
      " val loss: 0.8903124446564532, val acc: 0.6938829787234042\n",
      " learning rate: 0.1\n",
      "\n",
      "Epoch 11\n",
      " train loss: 0.8607181203866572, train acc: 0.7008846957430138\n",
      " val loss: 0.8938957835765595, val acc: 0.6931294326241135\n",
      " learning rate: 0.1\n",
      "\n",
      "Epoch 12\n",
      " train loss: 0.8519654582361852, train acc: 0.7057815356489945\n",
      " val loss: 0.8729697533110354, val acc: 0.6997118794326241\n",
      " learning rate: 0.1\n",
      "\n",
      "Epoch 13\n",
      " train loss: 0.8373992331394112, train acc: 0.7114129015408722\n",
      " val loss: 0.9070127646973792, val acc: 0.6904033687943263\n",
      " learning rate: 0.1\n",
      "\n",
      "Epoch 14\n",
      " train loss: 0.8373171820610054, train acc: 0.7078504505092714\n",
      " val loss: 0.8658759956664227, val acc: 0.7050531914893617\n",
      " learning rate: 0.1\n",
      "\n",
      "Epoch 15\n",
      " train loss: 0.8215176981807409, train acc: 0.7157751697571167\n",
      " val loss: 0.8820820511655605, val acc: 0.6988031914893617\n",
      " learning rate: 0.1\n",
      "\n",
      "Epoch 16\n",
      " train loss: 0.8228872801965508, train acc: 0.714616250979368\n",
      " val loss: 0.8482965938588406, val acc: 0.7121010638297872\n",
      " learning rate: 0.1\n",
      "\n",
      "Epoch 17\n",
      " train loss: 0.8118899593187643, train acc: 0.7192968137895012\n",
      " val loss: 0.8565164839967768, val acc: 0.7040115248226949\n",
      " learning rate: 0.1\n",
      "\n",
      "Epoch 18\n",
      " train loss: 0.8066229734167975, train acc: 0.7212759532515017\n",
      " val loss: 0.8788073425597333, val acc: 0.7018617021276595\n",
      " learning rate: 0.1\n",
      "\n",
      "Epoch 19\n",
      " train loss: 0.7989050694749822, train acc: 0.7234183207103683\n",
      " val loss: 0.8074452226466321, val acc: 0.7213874113475178\n",
      " learning rate: 0.1\n",
      "\n",
      "Полученная точность на Compose(\n",
      "    RandomHorizontalFlip(p=0.5)\n",
      "    ToTensor()\n",
      "    Normalize(mean=(0.5, 0.5, 0.5), std=(0.5, 0.5, 0.5))\n",
      "): 72.19347133757962 %\n",
      "Files already downloaded and verified\n",
      "Files already downloaded and verified\n",
      "Epoch 0\n",
      " train loss: 1.6469715404336152, train acc: 0.40205095978062155\n",
      " val loss: 1.4705492207344542, val acc: 0.47480053191489363\n",
      " learning rate: 0.1\n",
      "\n",
      "Epoch 1\n",
      " train loss: 1.3798098413774256, train acc: 0.5049417276051188\n",
      " val loss: 1.2897007873717774, val acc: 0.535438829787234\n",
      " learning rate: 0.1\n",
      "\n",
      "Epoch 2\n",
      " train loss: 1.2581769675833652, train acc: 0.5528205797858448\n",
      " val loss: 1.2877945217680424, val acc: 0.5397163120567375\n",
      " learning rate: 0.1\n",
      "\n",
      "Epoch 3\n",
      " train loss: 1.2111559831682028, train acc: 0.5718162379211281\n",
      " val loss: 1.1554839935708554, val acc: 0.5935062056737588\n",
      " learning rate: 0.1\n",
      "\n",
      "Epoch 4\n",
      " train loss: 1.1623466548797636, train acc: 0.5913383063463045\n",
      " val loss: 1.1947383030932, val acc: 0.5718971631205673\n",
      " learning rate: 0.1\n",
      "\n",
      "Epoch 5\n",
      " train loss: 1.12511688852223, train acc: 0.6073387307390964\n",
      " val loss: 1.2500524236800823, val acc: 0.5835328014184397\n",
      " learning rate: 0.1\n",
      "\n",
      "Epoch 6\n",
      " train loss: 1.0949991752940078, train acc: 0.6174915121441629\n",
      " val loss: 1.1161442127633603, val acc: 0.6120567375886524\n",
      " learning rate: 0.1\n",
      "\n",
      "Epoch 7\n",
      " train loss: 1.0683149815259512, train acc: 0.6252285191956124\n",
      " val loss: 1.075531562338484, val acc: 0.6279033687943263\n",
      " learning rate: 0.1\n",
      "\n",
      "Epoch 8\n",
      " train loss: 1.0471504238013594, train acc: 0.6308558043875686\n",
      " val loss: 1.1112609246943859, val acc: 0.614206560283688\n",
      " learning rate: 0.1\n",
      "\n",
      "Epoch 9\n",
      " train loss: 1.0347007930387744, train acc: 0.6425796552624706\n",
      " val loss: 1.074525600291313, val acc: 0.626950354609929\n",
      " learning rate: 0.1\n",
      "\n",
      "Epoch 10\n",
      " train loss: 1.0104256261419335, train acc: 0.6477866283624968\n",
      " val loss: 1.0211431201468122, val acc: 0.6435062056737588\n",
      " learning rate: 0.1\n",
      "\n",
      "Epoch 11\n",
      " train loss: 1.0043823841067074, train acc: 0.6515449529903369\n",
      " val loss: 1.0040517763888581, val acc: 0.652482269503546\n",
      " learning rate: 0.1\n",
      "\n",
      "Epoch 12\n",
      " train loss: 0.9946507626303371, train acc: 0.6513001109950379\n",
      " val loss: 0.9891185047778678, val acc: 0.6524379432624114\n",
      " learning rate: 0.1\n",
      "\n",
      "Epoch 13\n",
      " train loss: 0.9747297331227681, train acc: 0.6587106620527552\n",
      " val loss: 1.022395638202099, val acc: 0.6441489361702127\n",
      " learning rate: 0.1\n",
      "\n",
      "Epoch 14\n",
      " train loss: 0.9785632470408131, train acc: 0.6596859493340298\n",
      " val loss: 0.9914892749583467, val acc: 0.656139184397163\n",
      " learning rate: 0.1\n",
      "\n",
      "Epoch 15\n",
      " train loss: 0.9557026305407885, train acc: 0.6669495951945678\n",
      " val loss: 1.0170345412923936, val acc: 0.6513297872340426\n",
      " learning rate: 0.1\n",
      "\n",
      "Epoch 16\n",
      " train loss: 0.9561172233421145, train acc: 0.6670067249934708\n",
      " val loss: 0.966823820357627, val acc: 0.6651817375886524\n",
      " learning rate: 0.1\n",
      "\n",
      "Epoch 17\n",
      " train loss: 0.9468763885811871, train acc: 0.6693939344476364\n",
      " val loss: 0.955161270689457, val acc: 0.6638076241134753\n",
      " learning rate: 0.1\n",
      "\n",
      "Epoch 18\n",
      " train loss: 0.9367280214534599, train acc: 0.673707234264821\n",
      " val loss: 0.9700078241368557, val acc: 0.6677083333333332\n",
      " learning rate: 0.1\n",
      "\n",
      "Epoch 19\n",
      " train loss: 0.9363239645086215, train acc: 0.6766412575084879\n",
      " val loss: 0.926276739607466, val acc: 0.6827349290780141\n",
      " learning rate: 0.1\n",
      "\n",
      "Полученная точность на Compose(\n",
      "    RandomCrop(size=(32, 32), padding=4)\n",
      "    ToTensor()\n",
      "    Normalize(mean=(0.5, 0.5, 0.5), std=(0.5, 0.5, 0.5))\n",
      "): 70.24283439490446 %\n",
      "Files already downloaded and verified\n",
      "Files already downloaded and verified\n",
      "Epoch 0\n",
      " train loss: 1.5068349332652538, train acc: 0.45994793026899977\n",
      " val loss: 1.2843971886533372, val acc: 0.5443705673758865\n",
      " learning rate: 0.1\n",
      "\n",
      "Epoch 1\n",
      " train loss: 1.231803885761519, train acc: 0.5658584160355183\n",
      " val loss: 1.2817944668708963, val acc: 0.5449468085106383\n",
      " learning rate: 0.1\n",
      "\n",
      "Epoch 2\n",
      " train loss: 1.1207461138094148, train acc: 0.6071428571428572\n",
      " val loss: 1.168223793455895, val acc: 0.5878767730496455\n",
      " learning rate: 0.1\n",
      "\n",
      "Epoch 3\n",
      " train loss: 1.0687078398803906, train acc: 0.6264731326717158\n",
      " val loss: 1.0620624570136374, val acc: 0.63125\n",
      " learning rate: 0.1\n",
      "\n",
      "Epoch 4\n",
      " train loss: 1.027279911573016, train acc: 0.6416614977800992\n",
      " val loss: 1.0756821312802902, val acc: 0.6209219858156029\n",
      " learning rate: 0.1\n",
      "\n",
      "Epoch 5\n",
      " train loss: 0.9932317443913908, train acc: 0.6522264298772524\n",
      " val loss: 1.0836577849185214, val acc: 0.6333998226950354\n",
      " learning rate: 0.1\n",
      "\n",
      "Epoch 6\n",
      " train loss: 0.968139995822523, train acc: 0.6618609623922695\n",
      " val loss: 1.0352293148953864, val acc: 0.6403590425531915\n",
      " learning rate: 0.1\n",
      "\n",
      "Epoch 7\n",
      " train loss: 0.9490100656392587, train acc: 0.6664599112039697\n",
      " val loss: 0.9665992812907442, val acc: 0.6642952127659575\n",
      " learning rate: 0.1\n",
      "\n",
      "Epoch 8\n",
      " train loss: 0.9289847161259904, train acc: 0.6738541394620005\n",
      " val loss: 1.0313984439728108, val acc: 0.6398714539007093\n",
      " learning rate: 0.1\n",
      "\n",
      "Epoch 9\n",
      " train loss: 0.9175091730175332, train acc: 0.6802281927396188\n",
      " val loss: 0.9680032801120839, val acc: 0.6692597517730497\n",
      " learning rate: 0.1\n",
      "\n",
      "Epoch 10\n",
      " train loss: 0.9041124808940852, train acc: 0.6831948615826586\n",
      " val loss: 0.9742447873379322, val acc: 0.6640514184397163\n",
      " learning rate: 0.1\n",
      "\n",
      "Epoch 11\n",
      " train loss: 0.8924193001970294, train acc: 0.6876754700966309\n",
      " val loss: 0.927380184670712, val acc: 0.6793882978723405\n",
      " learning rate: 0.1\n",
      "\n",
      "Epoch 12\n",
      " train loss: 0.8856771422696506, train acc: 0.6902299882475842\n",
      " val loss: 0.9411513445225168, val acc: 0.6731826241134753\n",
      " learning rate: 0.1\n",
      "\n",
      "Epoch 13\n",
      " train loss: 0.8736342954461274, train acc: 0.694682031862105\n",
      " val loss: 0.9718340343617379, val acc: 0.6595966312056737\n",
      " learning rate: 0.1\n",
      "\n",
      "Epoch 14\n",
      " train loss: 0.8718579858269072, train acc: 0.6972651149125099\n",
      " val loss: 0.9520445973315137, val acc: 0.6702570921985816\n",
      " learning rate: 0.1\n",
      "\n",
      "Epoch 15\n",
      " train loss: 0.8567296438722768, train acc: 0.7017742883259337\n",
      " val loss: 0.9365748438429325, val acc: 0.6759751773049646\n",
      " learning rate: 0.1\n",
      "\n",
      "Epoch 16\n",
      " train loss: 0.8569082222211514, train acc: 0.6991503982763124\n",
      " val loss: 0.9031565146243319, val acc: 0.6894946808510638\n",
      " learning rate: 0.1\n",
      "\n",
      "Epoch 17\n",
      " train loss: 0.8456240351936717, train acc: 0.704981718464351\n",
      " val loss: 0.9101390321204003, val acc: 0.685793439716312\n",
      " learning rate: 0.1\n",
      "\n",
      "Epoch 18\n",
      " train loss: 0.8391713014032549, train acc: 0.705332658657613\n",
      " val loss: 0.9112250267191137, val acc: 0.6909574468085107\n",
      " learning rate: 0.1\n",
      "\n",
      "Epoch 19\n",
      " train loss: 0.825061536358305, train acc: 0.713167602507182\n",
      " val loss: 0.9011739342770678, val acc: 0.6920212765957446\n",
      " learning rate: 0.1\n",
      "\n",
      "Полученная точность на Compose(\n",
      "    RandomRotation(degrees=[-10.0, 10.0], interpolation=nearest, expand=False, fill=0)\n",
      "    ToTensor()\n",
      "    Normalize(mean=(0.5, 0.5, 0.5), std=(0.5, 0.5, 0.5))\n",
      "): 70.96934713375796 %\n",
      "Files already downloaded and verified\n",
      "Files already downloaded and verified\n",
      "Epoch 0\n",
      " train loss: 1.4971049879107223, train acc: 0.4690560524941238\n",
      " val loss: 1.272933535626594, val acc: 0.5571808510638298\n",
      " learning rate: 0.1\n",
      "\n",
      "Epoch 1\n",
      " train loss: 1.1939149800776563, train acc: 0.5816915317315227\n",
      " val loss: 1.2775870936982174, val acc: 0.5547872340425531\n",
      " learning rate: 0.1\n",
      "\n",
      "Epoch 2\n",
      " train loss: 1.0857208203354092, train acc: 0.6260120135805693\n",
      " val loss: 1.173334622129481, val acc: 0.5909796099290779\n",
      " learning rate: 0.1\n",
      "\n",
      "Epoch 3\n",
      " train loss: 1.0345761204986292, train acc: 0.6429346761556542\n",
      " val loss: 1.0152217010234266, val acc: 0.6466976950354609\n",
      " learning rate: 0.1\n",
      "\n",
      "Epoch 4\n",
      " train loss: 0.990630755367837, train acc: 0.6590575215460955\n",
      " val loss: 1.0443777190878036, val acc: 0.6364140070921986\n",
      " learning rate: 0.1\n",
      "\n",
      "Epoch 5\n",
      " train loss: 0.956095897192493, train acc: 0.670332495429616\n",
      " val loss: 0.9741774427129867, val acc: 0.6669991134751774\n",
      " learning rate: 0.1\n",
      "\n",
      "Epoch 6\n",
      " train loss: 0.9275745343028736, train acc: 0.6783061830765212\n",
      " val loss: 1.0454318044033457, val acc: 0.6398049645390071\n",
      " learning rate: 0.1\n",
      "\n",
      "Epoch 7\n",
      " train loss: 0.910216249103302, train acc: 0.6846883977539827\n",
      " val loss: 1.021370113656876, val acc: 0.6496010638297872\n",
      " learning rate: 0.1\n",
      "\n",
      "Epoch 8\n",
      " train loss: 0.8930760997958768, train acc: 0.6918459454165578\n",
      " val loss: 1.0008558313897316, val acc: 0.6563386524822694\n",
      " learning rate: 0.1\n",
      "\n",
      "Epoch 9\n",
      " train loss: 0.8791175491195274, train acc: 0.6969264168190128\n",
      " val loss: 1.0183873014247165, val acc: 0.6573138297872341\n",
      " learning rate: 0.1\n",
      "\n",
      "Epoch 10\n",
      " train loss: 0.8689378941298839, train acc: 0.6968733677200313\n",
      " val loss: 0.9177000537831732, val acc: 0.686968085106383\n",
      " learning rate: 0.1\n",
      "\n",
      "Epoch 11\n",
      " train loss: 0.855297017685892, train acc: 0.7044185818751633\n",
      " val loss: 0.9169958096869448, val acc: 0.6858156028368795\n",
      " learning rate: 0.1\n",
      "\n",
      "Epoch 12\n",
      " train loss: 0.8424406606274941, train acc: 0.7076382541133455\n",
      " val loss: 0.890768027305603, val acc: 0.6917109929078014\n",
      " learning rate: 0.1\n",
      "\n",
      "Epoch 13\n",
      " train loss: 0.8383337174843608, train acc: 0.7098622355706451\n",
      " val loss: 0.9509267971870747, val acc: 0.6675531914893617\n",
      " learning rate: 0.1\n",
      "\n",
      "Epoch 14\n",
      " train loss: 0.8280145398986405, train acc: 0.7123922695220685\n",
      " val loss: 0.9121299282033393, val acc: 0.6882313829787234\n",
      " learning rate: 0.1\n",
      "\n",
      "Epoch 15\n",
      " train loss: 0.8156755451092554, train acc: 0.7171666884303995\n",
      " val loss: 0.9169182526304367, val acc: 0.6833333333333332\n",
      " learning rate: 0.1\n",
      "\n",
      "Epoch 16\n",
      " train loss: 0.8139855405639251, train acc: 0.7169096043353356\n",
      " val loss: 0.892263266380797, val acc: 0.6986258865248226\n",
      " learning rate: 0.1\n",
      "\n",
      "Epoch 17\n",
      " train loss: 0.8001325867620639, train acc: 0.7219696722381823\n",
      " val loss: 0.9369222113426695, val acc: 0.6760195035460992\n",
      " learning rate: 0.1\n",
      "\n",
      "Epoch 18\n",
      " train loss: 0.7942169846956647, train acc: 0.7248710498824759\n",
      " val loss: 0.9001355434985872, val acc: 0.6974512411347519\n",
      " learning rate: 0.1\n",
      "\n",
      "Epoch 19\n",
      " train loss: 0.7842921478983689, train acc: 0.726923641943066\n",
      " val loss: 0.8771230726800067, val acc: 0.6992686170212766\n",
      " learning rate: 0.1\n",
      "\n",
      "Полученная точность на Compose(\n",
      "    ColorJitter(brightness=(0.8, 1.2), contrast=(0.8, 1.2), saturation=(0.8, 1.2), hue=None)\n",
      "    ToTensor()\n",
      "    Normalize(mean=(0.5, 0.5, 0.5), std=(0.5, 0.5, 0.5))\n",
      "): 69.96417197452229 %\n"
     ]
    }
   ],
   "source": [
    "transforms_list = [\n",
    "  transforms.RandomHorizontalFlip(),\n",
    "  transforms.RandomCrop(32, padding=4), \n",
    "  transforms.RandomRotation(degrees=10),\n",
    "  transforms.ColorJitter(brightness=0.2, contrast=0.2, saturation=0.2),\n",
    "]\n",
    "\n",
    "for i, tr in enumerate(transforms_list):\n",
    "    transform = transforms.Compose([\n",
    "        tr,\n",
    "        transforms.ToTensor(),\n",
    "        transforms.Normalize((0.5, 0.5, 0.5), (0.5, 0.5, 0.5))]\n",
    "    )\n",
    "    train_loader, val_loader, test_loader = get_cifar10_data(\n",
    "        batch_size=64, transform_train=transform)\n",
    "\n",
    "    net = BasicBlockNet().to(device)\n",
    "    optimizer = optim.SGD(net.parameters(), lr=0.1, momentum=0.9)\n",
    "    scheduler = optim.lr_scheduler.MultiStepLR(\n",
    "        optimizer, milestones=[10, 15], gamma=0.1)\n",
    "\n",
    "    tr_loss_log, tr_acc_log, val_loss_log, val_acc_log = train(\n",
    "        net, optimizer, 20, train_loader, val_loader, scheduler=scheduler, model_name=f'model_aug_custom_{i}.pt')\n",
    "    \n",
    "    print(f\"Полученная точность на {transform}:\", test(net, test_loader)[1] * 100,\"%\")"
   ]
  },
  {
   "cell_type": "markdown",
   "metadata": {
    "id": "4K-MptLiO9Dv"
   },
   "source": [
    "Your answers here:"
   ]
  },
  {
   "cell_type": "markdown",
   "metadata": {},
   "source": [
    "**Our answers here:**\n",
    "\n",
    "`transforms.RandomCrop()`: Обрезает изображение до заданного размера, сначала расширяя изображение до большего размера и заполняя края, если требуется.\n",
    "\n",
    "`transforms.RandomRotation()`: Вращает изображение на случайный угол в пределах заданных границ.\n",
    "\n",
    "`transforms.ColorJitter()`: Случайным образом изменяет яркость, контрастность и насыщенность изображения.\n"
   ]
  },
  {
   "cell_type": "markdown",
   "metadata": {
    "id": "HCENjLw5O9Dv"
   },
   "source": [
    "## Бонус. Логирование в wandb (2 балла)"
   ]
  },
  {
   "cell_type": "markdown",
   "metadata": {
    "id": "xOyzc1mnO9Dv"
   },
   "source": [
    "На практике специалиста по глубинному обучению часто встречаются ситуации, когда нейросеть учится на каком-то удаленном сервере. И обычно вам хочется отслеживать прогресс обучения, особенно когда время обучения модели исчисляется днями или неделями. Для таких целей существует несколько инструментов. Вероятно, самый популярный из них — [wandb](https://wandb.ai/site).\n",
    "\n",
    "Ваша задача состоит в том, чтобы разобраться как им пользоваться, и повторить задания 2.1 и 2.2 с его использованием. Обучение вы можете запускать в этом же ноутбуке, но теперь вам необходимо через wandb логировать значения функции потерь и точности на обучающей выборке и на валидационной. Результатом работы должны быть ваш код и публичная ссылка на страничку с графиками, идентичными графикам в задании 2.2."
   ]
  },
  {
   "cell_type": "code",
   "execution_count": 56,
   "metadata": {
    "id": "m5gSTLAr_QS4"
   },
   "outputs": [],
   "source": [
    "# <your code here>\n",
    "import wandb\n",
    "import datetime\n",
    "\n",
    "def test(model, loader):\n",
    "    loss_log = []\n",
    "    acc_log = []\n",
    "    model.eval()\n",
    "\n",
    "    for data, target in loader:\n",
    "        output = model(data)\n",
    "        loss = F.cross_entropy(output, target)\n",
    "        loss_log.append(loss.item())\n",
    "\n",
    "        pred = output.argmax(dim=1, keepdim=True)\n",
    "        acc = pred.eq(target.view_as(pred)).sum().item() / target.size(0)\n",
    "        acc_log.append(acc)\n",
    "\n",
    "    return np.mean(loss_log), np.mean(acc_log)\n",
    "\n",
    "\n",
    "def train_epoch(model, optimizer, train_loader):\n",
    "    loss_log = []\n",
    "    acc_log = []\n",
    "    model.train()\n",
    "\n",
    "    for data, target in train_loader:\n",
    "        optimizer.zero_grad()\n",
    "        output = model(data)\n",
    "        loss = F.cross_entropy(output, target)\n",
    "        loss.backward()\n",
    "        optimizer.step()\n",
    "\n",
    "        loss_log.append(loss.item())\n",
    "\n",
    "        pred = output.argmax(dim=1, keepdim=True)\n",
    "        acc = pred.eq(target.view_as(pred)).sum().item() / target.size(0)\n",
    "        acc_log.append(acc)\n",
    "\n",
    "    return loss_log, acc_log\n",
    "\n",
    "\n",
    "def train(model, optimizer, n_epochs, train_loader, val_loader, model_name=None, scheduler=None):\n",
    "    train_loss_log, train_acc_log, val_loss_log, val_acc_log = [], [], [], []\n",
    "\n",
    "    for epoch in range(n_epochs):\n",
    "        train_loss, train_acc = train_epoch(model, optimizer, train_loader)\n",
    "        val_loss, val_acc = test(model, val_loader)\n",
    "        \n",
    "        train_loss_log.extend(train_loss)\n",
    "        train_acc_log.extend(train_acc)\n",
    "        \n",
    "        val_loss_log.append(val_loss)\n",
    "        val_acc_log.append(val_acc)\n",
    "\n",
    "        print(f\"Epoch {epoch}\")\n",
    "        print(f\" train loss: {np.mean(train_loss)}, train acc: {np.mean(train_acc)}\")\n",
    "        print(f\" val loss: {val_loss}, val acc: {val_acc}\")\n",
    "\n",
    "        current_lr = optimizer.param_groups[0]['lr']\n",
    "        print(f\" learning rate: {current_lr}\\n\")\n",
    "\n",
    "        # Логгирование в wandb\n",
    "        wandb.log({\"Epoch\": epoch})\n",
    "        wandb.log({\"Train loss\": np.mean(train_loss), \"Train accuracy\": np.mean(train_acc)})\n",
    "        wandb.log({\"Validation loss\": val_loss, \"Validation accuracy\": val_acc})\n",
    "        \n",
    "        if scheduler is not None:\n",
    "            scheduler.step(val_loss)\n",
    "        \n",
    "        if model_name is None:\n",
    "            model_name = f'model_wb_{datetime.datetime.now()}'\n",
    "\n",
    "\n",
    "    torch.save(net, model_name)\n",
    "\n",
    "    return train_loss_log, train_acc_log, val_loss_log, val_acc_log"
   ]
  },
  {
   "cell_type": "code",
   "execution_count": 58,
   "metadata": {},
   "outputs": [
    {
     "data": {
      "text/html": [
       "Tracking run with wandb version 0.16.6"
      ],
      "text/plain": [
       "<IPython.core.display.HTML object>"
      ]
     },
     "metadata": {},
     "output_type": "display_data"
    },
    {
     "data": {
      "text/html": [
       "Run data is saved locally in <code>/home/maxim/Study/Sirius/Sirius/wandb/run-20240408_230044-ekwdh8v5</code>"
      ],
      "text/plain": [
       "<IPython.core.display.HTML object>"
      ]
     },
     "metadata": {},
     "output_type": "display_data"
    },
    {
     "data": {
      "text/html": [
       "Syncing run <strong><a href='https://wandb.ai/maximelkin14/Sirius/runs/ekwdh8v5' target=\"_blank\">ethereal-spaceship-3</a></strong> to <a href='https://wandb.ai/maximelkin14/Sirius' target=\"_blank\">Weights & Biases</a> (<a href='https://wandb.me/run' target=\"_blank\">docs</a>)<br/>"
      ],
      "text/plain": [
       "<IPython.core.display.HTML object>"
      ]
     },
     "metadata": {},
     "output_type": "display_data"
    },
    {
     "data": {
      "text/html": [
       " View project at <a href='https://wandb.ai/maximelkin14/Sirius' target=\"_blank\">https://wandb.ai/maximelkin14/Sirius</a>"
      ],
      "text/plain": [
       "<IPython.core.display.HTML object>"
      ]
     },
     "metadata": {},
     "output_type": "display_data"
    },
    {
     "data": {
      "text/html": [
       " View run at <a href='https://wandb.ai/maximelkin14/Sirius/runs/ekwdh8v5' target=\"_blank\">https://wandb.ai/maximelkin14/Sirius/runs/ekwdh8v5</a>"
      ],
      "text/plain": [
       "<IPython.core.display.HTML object>"
      ]
     },
     "metadata": {},
     "output_type": "display_data"
    },
    {
     "name": "stdout",
     "output_type": "stream",
     "text": [
      "Epoch 0\n",
      " train loss: 0.7780736102918384, train acc: 0.7315593170540612\n",
      " val loss: 0.8472977655999204, val acc: 0.7094636524822694\n",
      " learning rate: 0.1\n",
      "\n",
      "Epoch 1\n",
      " train loss: 0.7721482441782733, train acc: 0.7335017302167668\n",
      " val loss: 0.9139640054804213, val acc: 0.6876329787234042\n",
      " learning rate: 0.1\n",
      "\n",
      "Epoch 2\n",
      " train loss: 0.7647050502531272, train acc: 0.7357991642726561\n",
      " val loss: 0.9023889067325186, val acc: 0.6993351063829787\n",
      " learning rate: 0.1\n",
      "\n",
      "Epoch 3\n",
      " train loss: 0.7559823439587623, train acc: 0.7364439148602768\n",
      " val loss: 0.8787974088749987, val acc: 0.7043439716312055\n",
      " learning rate: 0.1\n",
      "\n",
      "Epoch 4\n",
      " train loss: 0.7520201304821907, train acc: 0.7409938952729173\n",
      " val loss: 0.909047750462877, val acc: 0.6887411347517731\n",
      " learning rate: 0.1\n",
      "\n",
      "Epoch 5\n",
      " train loss: 0.7557478068733564, train acc: 0.7374967354400627\n",
      " val loss: 0.84628825669593, val acc: 0.7115248226950354\n",
      " learning rate: 0.1\n",
      "\n",
      "Epoch 6\n",
      " train loss: 0.745286967244401, train acc: 0.7413652389657874\n",
      " val loss: 0.8712543056366292, val acc: 0.6999556737588651\n",
      " learning rate: 0.1\n",
      "\n",
      "Epoch 7\n",
      " train loss: 0.7361686161056951, train acc: 0.7451317249934708\n",
      " val loss: 0.8574786198900101, val acc: 0.7042774822695035\n",
      " learning rate: 0.1\n",
      "\n",
      "Epoch 8\n",
      " train loss: 0.7336963581319701, train acc: 0.7441890833115695\n",
      " val loss: 0.8430189718591407, val acc: 0.7131870567375885\n",
      " learning rate: 0.1\n",
      "\n",
      "Epoch 9\n",
      " train loss: 0.7358484199539617, train acc: 0.7437483677200313\n",
      " val loss: 0.8450715559594175, val acc: 0.7152260638297873\n",
      " learning rate: 0.1\n",
      "\n",
      "Epoch 10\n",
      " train loss: 0.7213713895032349, train acc: 0.7490696004178637\n",
      " val loss: 0.860373516285673, val acc: 0.7104831560283689\n",
      " learning rate: 0.1\n",
      "\n",
      "Epoch 11\n",
      " train loss: 0.7230829847687124, train acc: 0.750350940193262\n",
      " val loss: 0.902387452379186, val acc: 0.6970301418439715\n",
      " learning rate: 0.1\n",
      "\n",
      "Epoch 12\n",
      " train loss: 0.7176144523529073, train acc: 0.750595782188561\n",
      " val loss: 0.8464826865399138, val acc: 0.7132535460992907\n",
      " learning rate: 0.1\n",
      "\n",
      "Epoch 13\n",
      " train loss: 0.7192027311111499, train acc: 0.7484289305301646\n",
      " val loss: 0.8451978158443532, val acc: 0.7129875886524822\n",
      " learning rate: 0.1\n",
      "\n",
      "Epoch 14\n",
      " train loss: 0.710602236022897, train acc: 0.7543745103160093\n",
      " val loss: 0.8552812774130638, val acc: 0.7120124113475178\n",
      " learning rate: 0.1\n",
      "\n",
      "Epoch 15\n",
      " train loss: 0.7065380088154097, train acc: 0.75422760511883\n",
      " val loss: 0.8868122887104115, val acc: 0.7034352836879434\n",
      " learning rate: 0.1\n",
      "\n",
      "Epoch 16\n",
      " train loss: 0.7064328117932872, train acc: 0.7549621311047271\n",
      " val loss: 0.8643728610048903, val acc: 0.7070921985815604\n",
      " learning rate: 0.1\n",
      "\n",
      "Epoch 17\n",
      " train loss: 0.6969407414387523, train acc: 0.7575492948550535\n",
      " val loss: 0.8701272734936247, val acc: 0.7049867021276596\n",
      " learning rate: 0.1\n",
      "\n",
      "Epoch 18\n",
      " train loss: 0.6955717736667864, train acc: 0.7602588796030294\n",
      " val loss: 0.8468343176740281, val acc: 0.7127216312056737\n",
      " learning rate: 0.1\n",
      "\n",
      "Epoch 19\n",
      " train loss: 0.6921343456347638, train acc: 0.7582389331418126\n",
      " val loss: 0.8421208281466301, val acc: 0.7147606382978723\n",
      " learning rate: 0.1\n",
      "\n"
     ]
    },
    {
     "data": {
      "text/html": [
       "<style>\n",
       "    table.wandb td:nth-child(1) { padding: 0 10px; text-align: left ; width: auto;} td:nth-child(2) {text-align: left ; width: 100%}\n",
       "    .wandb-row { display: flex; flex-direction: row; flex-wrap: wrap; justify-content: flex-start; width: 100% }\n",
       "    .wandb-col { display: flex; flex-direction: column; flex-basis: 100%; flex: 1; padding: 10px; }\n",
       "    </style>\n",
       "<div class=\"wandb-row\"><div class=\"wandb-col\"><h3>Run history:</h3><br/><table class=\"wandb\"><tr><td>Epoch</td><td>▁▁▂▂▂▃▃▄▄▄▅▅▅▆▆▇▇▇██</td></tr><tr><td>Train accuracy</td><td>▁▁▂▂▃▂▃▄▄▄▅▆▆▅▇▇▇▇██</td></tr><tr><td>Train loss</td><td>██▇▆▆▆▅▅▄▅▃▄▃▃▃▂▂▁▁▁</td></tr><tr><td>Validation accuracy</td><td>▇▁▄▅▁▇▄▅▇█▇▃▇▇▇▅▆▅▇█</td></tr><tr><td>Validation loss</td><td>▂█▇▅█▁▄▂▁▁▃▇▁▁▂▅▃▄▁▁</td></tr></table><br/></div><div class=\"wandb-col\"><h3>Run summary:</h3><br/><table class=\"wandb\"><tr><td>Epoch</td><td>19</td></tr><tr><td>Train accuracy</td><td>0.75824</td></tr><tr><td>Train loss</td><td>0.69213</td></tr><tr><td>Validation accuracy</td><td>0.71476</td></tr><tr><td>Validation loss</td><td>0.84212</td></tr></table><br/></div></div>"
      ],
      "text/plain": [
       "<IPython.core.display.HTML object>"
      ]
     },
     "metadata": {},
     "output_type": "display_data"
    },
    {
     "data": {
      "text/html": [
       " View run <strong style=\"color:#cdcd00\">ethereal-spaceship-3</strong> at: <a href='https://wandb.ai/maximelkin14/Sirius/runs/ekwdh8v5' target=\"_blank\">https://wandb.ai/maximelkin14/Sirius/runs/ekwdh8v5</a><br/> View project at: <a href='https://wandb.ai/maximelkin14/Sirius' target=\"_blank\">https://wandb.ai/maximelkin14/Sirius</a><br/>Synced 5 W&B file(s), 0 media file(s), 0 artifact file(s) and 0 other file(s)"
      ],
      "text/plain": [
       "<IPython.core.display.HTML object>"
      ]
     },
     "metadata": {},
     "output_type": "display_data"
    },
    {
     "data": {
      "text/html": [
       "Find logs at: <code>./wandb/run-20240408_230044-ekwdh8v5/logs</code>"
      ],
      "text/plain": [
       "<IPython.core.display.HTML object>"
      ]
     },
     "metadata": {},
     "output_type": "display_data"
    }
   ],
   "source": [
    "wandb.init()\n",
    "optimizer = optim.SGD(net.parameters(), lr=0.1, momentum=0.9)\n",
    "train_loss_log, train_acc_log, val_loss_log, val_acc_log = train(net, optimizer, 20, train_loader, val_loader, model_name='baseline_wandb.pt')\n",
    "wandb.finish() "
   ]
  },
  {
   "cell_type": "markdown",
   "metadata": {},
   "source": [
    "Ссылка на полученный report с экспериментом:\n",
    "https://api.wandb.ai/links/maximelkin14/9dcb0506"
   ]
  },
  {
   "cell_type": "markdown",
   "metadata": {},
   "source": []
  }
 ],
 "metadata": {
  "accelerator": "GPU",
  "colab": {
   "collapsed_sections": [],
   "provenance": []
  },
  "kernelspec": {
   "display_name": "Python 3 (ipykernel)",
   "language": "python",
   "name": "python3"
  },
  "language_info": {
   "codemirror_mode": {
    "name": "ipython",
    "version": 3
   },
   "file_extension": ".py",
   "mimetype": "text/x-python",
   "name": "python",
   "nbconvert_exporter": "python",
   "pygments_lexer": "ipython3",
   "version": "3.12.2"
  },
  "toc": {
   "base_numbering": 1,
   "nav_menu": {},
   "number_sections": true,
   "sideBar": true,
   "skip_h1_title": false,
   "title_cell": "Table of Contents",
   "title_sidebar": "Contents",
   "toc_cell": false,
   "toc_position": {},
   "toc_section_display": true,
   "toc_window_display": false
  },
  "varInspector": {
   "cols": {
    "lenName": 16,
    "lenType": 16,
    "lenVar": 40
   },
   "kernels_config": {
    "python": {
     "delete_cmd_postfix": "",
     "delete_cmd_prefix": "del ",
     "library": "var_list.py",
     "varRefreshCmd": "print(var_dic_list())"
    },
    "r": {
     "delete_cmd_postfix": ") ",
     "delete_cmd_prefix": "rm(",
     "library": "var_list.r",
     "varRefreshCmd": "cat(var_dic_list()) "
    }
   },
   "types_to_exclude": [
    "module",
    "function",
    "builtin_function_or_method",
    "instance",
    "_Feature"
   ],
   "window_display": false
  },
  "widgets": {
   "application/vnd.jupyter.widget-state+json": {
    "0fee9f5b7bdb4129a71ef0cfe9d3b1fa": {
     "model_module": "@jupyter-widgets/controls",
     "model_module_version": "1.5.0",
     "model_name": "ProgressStyleModel",
     "state": {
      "_model_module": "@jupyter-widgets/controls",
      "_model_module_version": "1.5.0",
      "_model_name": "ProgressStyleModel",
      "_view_count": null,
      "_view_module": "@jupyter-widgets/base",
      "_view_module_version": "1.2.0",
      "_view_name": "StyleView",
      "bar_color": null,
      "description_width": ""
     }
    },
    "17b2be81159e41f1a5c6bb966516572e": {
     "model_module": "@jupyter-widgets/base",
     "model_module_version": "1.2.0",
     "model_name": "LayoutModel",
     "state": {
      "_model_module": "@jupyter-widgets/base",
      "_model_module_version": "1.2.0",
      "_model_name": "LayoutModel",
      "_view_count": null,
      "_view_module": "@jupyter-widgets/base",
      "_view_module_version": "1.2.0",
      "_view_name": "LayoutView",
      "align_content": null,
      "align_items": null,
      "align_self": null,
      "border": null,
      "bottom": null,
      "display": null,
      "flex": null,
      "flex_flow": null,
      "grid_area": null,
      "grid_auto_columns": null,
      "grid_auto_flow": null,
      "grid_auto_rows": null,
      "grid_column": null,
      "grid_gap": null,
      "grid_row": null,
      "grid_template_areas": null,
      "grid_template_columns": null,
      "grid_template_rows": null,
      "height": null,
      "justify_content": null,
      "justify_items": null,
      "left": null,
      "margin": null,
      "max_height": null,
      "max_width": null,
      "min_height": null,
      "min_width": null,
      "object_fit": null,
      "object_position": null,
      "order": null,
      "overflow": null,
      "overflow_x": null,
      "overflow_y": null,
      "padding": null,
      "right": null,
      "top": null,
      "visibility": null,
      "width": null
     }
    },
    "18b20091dbf64b129824a8fb3266e3c0": {
     "model_module": "@jupyter-widgets/controls",
     "model_module_version": "1.5.0",
     "model_name": "DescriptionStyleModel",
     "state": {
      "_model_module": "@jupyter-widgets/controls",
      "_model_module_version": "1.5.0",
      "_model_name": "DescriptionStyleModel",
      "_view_count": null,
      "_view_module": "@jupyter-widgets/base",
      "_view_module_version": "1.2.0",
      "_view_name": "StyleView",
      "description_width": ""
     }
    },
    "22bb21a6c57a413fb7374efe31349e6e": {
     "model_module": "@jupyter-widgets/base",
     "model_module_version": "1.2.0",
     "model_name": "LayoutModel",
     "state": {
      "_model_module": "@jupyter-widgets/base",
      "_model_module_version": "1.2.0",
      "_model_name": "LayoutModel",
      "_view_count": null,
      "_view_module": "@jupyter-widgets/base",
      "_view_module_version": "1.2.0",
      "_view_name": "LayoutView",
      "align_content": null,
      "align_items": null,
      "align_self": null,
      "border": null,
      "bottom": null,
      "display": null,
      "flex": null,
      "flex_flow": null,
      "grid_area": null,
      "grid_auto_columns": null,
      "grid_auto_flow": null,
      "grid_auto_rows": null,
      "grid_column": null,
      "grid_gap": null,
      "grid_row": null,
      "grid_template_areas": null,
      "grid_template_columns": null,
      "grid_template_rows": null,
      "height": null,
      "justify_content": null,
      "justify_items": null,
      "left": null,
      "margin": null,
      "max_height": null,
      "max_width": null,
      "min_height": null,
      "min_width": null,
      "object_fit": null,
      "object_position": null,
      "order": null,
      "overflow": null,
      "overflow_x": null,
      "overflow_y": null,
      "padding": null,
      "right": null,
      "top": null,
      "visibility": null,
      "width": null
     }
    },
    "7d238166caf64537ad9aa2040dcdc1ec": {
     "model_module": "@jupyter-widgets/controls",
     "model_module_version": "1.5.0",
     "model_name": "DescriptionStyleModel",
     "state": {
      "_model_module": "@jupyter-widgets/controls",
      "_model_module_version": "1.5.0",
      "_model_name": "DescriptionStyleModel",
      "_view_count": null,
      "_view_module": "@jupyter-widgets/base",
      "_view_module_version": "1.2.0",
      "_view_name": "StyleView",
      "description_width": ""
     }
    },
    "95c5696493db48738dbdc9940acec1d8": {
     "model_module": "@jupyter-widgets/controls",
     "model_module_version": "1.5.0",
     "model_name": "HTMLModel",
     "state": {
      "_dom_classes": [],
      "_model_module": "@jupyter-widgets/controls",
      "_model_module_version": "1.5.0",
      "_model_name": "HTMLModel",
      "_view_count": null,
      "_view_module": "@jupyter-widgets/controls",
      "_view_module_version": "1.5.0",
      "_view_name": "HTMLView",
      "description": "",
      "description_tooltip": null,
      "layout": "IPY_MODEL_22bb21a6c57a413fb7374efe31349e6e",
      "placeholder": "​",
      "style": "IPY_MODEL_18b20091dbf64b129824a8fb3266e3c0",
      "value": "100%"
     }
    },
    "9bad0d6a00c14229b0d776a2cfe15090": {
     "model_module": "@jupyter-widgets/base",
     "model_module_version": "1.2.0",
     "model_name": "LayoutModel",
     "state": {
      "_model_module": "@jupyter-widgets/base",
      "_model_module_version": "1.2.0",
      "_model_name": "LayoutModel",
      "_view_count": null,
      "_view_module": "@jupyter-widgets/base",
      "_view_module_version": "1.2.0",
      "_view_name": "LayoutView",
      "align_content": null,
      "align_items": null,
      "align_self": null,
      "border": null,
      "bottom": null,
      "display": null,
      "flex": null,
      "flex_flow": null,
      "grid_area": null,
      "grid_auto_columns": null,
      "grid_auto_flow": null,
      "grid_auto_rows": null,
      "grid_column": null,
      "grid_gap": null,
      "grid_row": null,
      "grid_template_areas": null,
      "grid_template_columns": null,
      "grid_template_rows": null,
      "height": null,
      "justify_content": null,
      "justify_items": null,
      "left": null,
      "margin": null,
      "max_height": null,
      "max_width": null,
      "min_height": null,
      "min_width": null,
      "object_fit": null,
      "object_position": null,
      "order": null,
      "overflow": null,
      "overflow_x": null,
      "overflow_y": null,
      "padding": null,
      "right": null,
      "top": null,
      "visibility": null,
      "width": null
     }
    },
    "aa9da821ba0c42b5b051355e50e691f0": {
     "model_module": "@jupyter-widgets/controls",
     "model_module_version": "1.5.0",
     "model_name": "HBoxModel",
     "state": {
      "_dom_classes": [],
      "_model_module": "@jupyter-widgets/controls",
      "_model_module_version": "1.5.0",
      "_model_name": "HBoxModel",
      "_view_count": null,
      "_view_module": "@jupyter-widgets/controls",
      "_view_module_version": "1.5.0",
      "_view_name": "HBoxView",
      "box_style": "",
      "children": [
       "IPY_MODEL_95c5696493db48738dbdc9940acec1d8",
       "IPY_MODEL_fe515a1f743f49d0b251b43919d52a8e",
       "IPY_MODEL_f4f339c969fd4e21bc683ecb2567897b"
      ],
      "layout": "IPY_MODEL_17b2be81159e41f1a5c6bb966516572e"
     }
    },
    "cd991379661b4b4ab405bf66f75c6834": {
     "model_module": "@jupyter-widgets/base",
     "model_module_version": "1.2.0",
     "model_name": "LayoutModel",
     "state": {
      "_model_module": "@jupyter-widgets/base",
      "_model_module_version": "1.2.0",
      "_model_name": "LayoutModel",
      "_view_count": null,
      "_view_module": "@jupyter-widgets/base",
      "_view_module_version": "1.2.0",
      "_view_name": "LayoutView",
      "align_content": null,
      "align_items": null,
      "align_self": null,
      "border": null,
      "bottom": null,
      "display": null,
      "flex": null,
      "flex_flow": null,
      "grid_area": null,
      "grid_auto_columns": null,
      "grid_auto_flow": null,
      "grid_auto_rows": null,
      "grid_column": null,
      "grid_gap": null,
      "grid_row": null,
      "grid_template_areas": null,
      "grid_template_columns": null,
      "grid_template_rows": null,
      "height": null,
      "justify_content": null,
      "justify_items": null,
      "left": null,
      "margin": null,
      "max_height": null,
      "max_width": null,
      "min_height": null,
      "min_width": null,
      "object_fit": null,
      "object_position": null,
      "order": null,
      "overflow": null,
      "overflow_x": null,
      "overflow_y": null,
      "padding": null,
      "right": null,
      "top": null,
      "visibility": null,
      "width": null
     }
    },
    "f4f339c969fd4e21bc683ecb2567897b": {
     "model_module": "@jupyter-widgets/controls",
     "model_module_version": "1.5.0",
     "model_name": "HTMLModel",
     "state": {
      "_dom_classes": [],
      "_model_module": "@jupyter-widgets/controls",
      "_model_module_version": "1.5.0",
      "_model_name": "HTMLModel",
      "_view_count": null,
      "_view_module": "@jupyter-widgets/controls",
      "_view_module_version": "1.5.0",
      "_view_name": "HTMLView",
      "description": "",
      "description_tooltip": null,
      "layout": "IPY_MODEL_cd991379661b4b4ab405bf66f75c6834",
      "placeholder": "​",
      "style": "IPY_MODEL_7d238166caf64537ad9aa2040dcdc1ec",
      "value": " 170498071/170498071 [00:13&lt;00:00, 13339884.37it/s]"
     }
    },
    "fe515a1f743f49d0b251b43919d52a8e": {
     "model_module": "@jupyter-widgets/controls",
     "model_module_version": "1.5.0",
     "model_name": "FloatProgressModel",
     "state": {
      "_dom_classes": [],
      "_model_module": "@jupyter-widgets/controls",
      "_model_module_version": "1.5.0",
      "_model_name": "FloatProgressModel",
      "_view_count": null,
      "_view_module": "@jupyter-widgets/controls",
      "_view_module_version": "1.5.0",
      "_view_name": "ProgressView",
      "bar_style": "success",
      "description": "",
      "description_tooltip": null,
      "layout": "IPY_MODEL_9bad0d6a00c14229b0d776a2cfe15090",
      "max": 170498071,
      "min": 0,
      "orientation": "horizontal",
      "style": "IPY_MODEL_0fee9f5b7bdb4129a71ef0cfe9d3b1fa",
      "value": 170498071
     }
    }
   }
  }
 },
 "nbformat": 4,
 "nbformat_minor": 4
}
